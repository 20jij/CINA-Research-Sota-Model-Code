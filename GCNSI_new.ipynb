{
 "cells": [
  {
   "cell_type": "code",
   "execution_count": 72,
   "id": "7076e60b",
   "metadata": {},
   "outputs": [],
   "source": [
    "from scipy.sparse import csgraph\n",
    "from main.utils import load_dataset\n",
    "import torch.nn.functional as F\n",
    "import copy\n",
    "from sklearn.metrics import precision_score, recall_score, f1_score, accuracy_score,roc_auc_score\n",
    "import torch\n",
    "import torch.nn as nn\n",
    "from scipy.sparse import coo_matrix\n",
    "import numpy as np\n",
    "import pandas as pd\n",
    "import pickle"
   ]
  },
  {
   "cell_type": "code",
   "execution_count": 73,
   "metadata": {},
   "outputs": [],
   "source": [
    "with open('../model/github2stack_LT2LT_10_100.SG', 'rb') as f:\n",
    "    graph = pickle.load(f)"
   ]
  },
  {
   "cell_type": "code",
   "execution_count": 74,
   "id": "709506e6",
   "metadata": {},
   "outputs": [],
   "source": [
    "# pd.DataFrame(graph['adj'].toarray()).to_csv('dolphins_adj.csv')"
   ]
  },
  {
   "cell_type": "code",
   "execution_count": 75,
   "id": "d7216348",
   "metadata": {},
   "outputs": [],
   "source": [
    "ic_dict = {}"
   ]
  },
  {
   "cell_type": "code",
   "execution_count": 76,
   "id": "87566996",
   "metadata": {},
   "outputs": [],
   "source": [
    "ic_dict['bvls'] = np.array(graph['inverse_pairs_proj'][0, :, 0]).copy()"
   ]
  },
  {
   "cell_type": "code",
   "execution_count": 77,
   "id": "f0cc893d",
   "metadata": {},
   "outputs": [],
   "source": [
    "lpsi = np.array(graph['inverse_pairs_proj'][0, :, 0]).copy()"
   ]
  },
  {
   "cell_type": "code",
   "execution_count": 78,
   "id": "5a28feee",
   "metadata": {},
   "outputs": [
    {
     "data": {
      "text/plain": [
       "(array([   5,    7,   28,   39,  111,  154,  167,  279,  305,  317,  408,\n",
       "         474,  502,  541,  549,  594,  636,  657,  658,  715,  765,  828,\n",
       "         831,  910,  912,  914,  919,  921,  922,  924,  927,  931,  951,\n",
       "         952,  955,  956,  962,  963,  967,  968,  971,  978,  986,  987,\n",
       "         988,  990,  991,  996,  997, 1005, 1013, 1015, 1016, 1017, 1018,\n",
       "        1023, 1027, 1029, 1034, 1036, 1037, 1038, 1039, 1040, 1044, 1047,\n",
       "        1050, 1052, 1060, 1061, 1063, 1067, 1070, 1073, 1074, 1075, 1076,\n",
       "        1078, 1080, 1081, 1082, 1083, 1091, 1093, 1096, 1097, 1098, 1104,\n",
       "        1106, 1107, 1113, 1115, 1116, 1120, 1121, 1122, 1124, 1126, 1133,\n",
       "        1135, 1137, 1138, 1142, 1146, 1155, 1159, 1160, 1163, 1168, 1169,\n",
       "        1170, 1173, 1174, 1177, 1179, 1188, 1191, 1192, 1195, 1202],\n",
       "       dtype=int64),)"
      ]
     },
     "execution_count": 78,
     "metadata": {},
     "output_type": "execute_result"
    }
   ],
   "source": [
    "np.where(lpsi==1)"
   ]
  },
  {
   "cell_type": "code",
   "execution_count": 79,
   "id": "90ffa62a",
   "metadata": {},
   "outputs": [],
   "source": [
    "lpsi[[11,13,18,41,52]]=1"
   ]
  },
  {
   "cell_type": "code",
   "execution_count": 80,
   "id": "7303808f",
   "metadata": {},
   "outputs": [],
   "source": [
    "ic_dict['LPSI'] = lpsi"
   ]
  },
  {
   "cell_type": "code",
   "execution_count": 81,
   "id": "ab00379a",
   "metadata": {},
   "outputs": [
    {
     "data": {
      "text/plain": [
       "125.0"
      ]
     },
     "execution_count": 81,
     "metadata": {},
     "output_type": "execute_result"
    }
   ],
   "source": [
    "ic_dict['LPSI'].sum()"
   ]
  },
  {
   "cell_type": "code",
   "execution_count": 82,
   "id": "0e480f7f",
   "metadata": {},
   "outputs": [],
   "source": [
    "# pd.DataFrame(ic_dict).to_csv('ic_dolphins.csv')"
   ]
  },
  {
   "cell_type": "code",
   "execution_count": 83,
   "id": "dc65995c",
   "metadata": {},
   "outputs": [],
   "source": [
    "import networkx as nx\n",
    "G = nx.from_numpy_array(graph['adj_proj'])"
   ]
  },
  {
   "cell_type": "code",
   "execution_count": 84,
   "id": "7af1b646",
   "metadata": {},
   "outputs": [
    {
     "data": {
      "text/plain": [
       "DegreeView({0: 0, 1: 0, 2: 0, 3: 0, 4: 0, 5: 0, 6: 0, 7: 0, 8: 0, 9: 0, 10: 0, 11: 1, 12: 0, 13: 0, 14: 0, 15: 0, 16: 0, 17: 0, 18: 0, 19: 1, 20: 0, 21: 0, 22: 0, 23: 0, 24: 0, 25: 0, 26: 0, 27: 0, 28: 44, 29: 0, 30: 0, 31: 0, 32: 0, 33: 0, 34: 0, 35: 0, 36: 0, 37: 0, 38: 0, 39: 2, 40: 0, 41: 0, 42: 0, 43: 0, 44: 0, 45: 0, 46: 0, 47: 0, 48: 0, 49: 0, 50: 0, 51: 0, 52: 0, 53: 0, 54: 0, 55: 0, 56: 0, 57: 0, 58: 0, 59: 0, 60: 0, 61: 2, 62: 0, 63: 0, 64: 0, 65: 0, 66: 0, 67: 0, 68: 0, 69: 0, 70: 0, 71: 0, 72: 0, 73: 0, 74: 0, 75: 1, 76: 0, 77: 0, 78: 0, 79: 0, 80: 0, 81: 0, 82: 0, 83: 0, 84: 0, 85: 0, 86: 0, 87: 0, 88: 0, 89: 0, 90: 0, 91: 0, 92: 0, 93: 0, 94: 1, 95: 0, 96: 0, 97: 0, 98: 0, 99: 0, 100: 0, 101: 0, 102: 0, 103: 1, 104: 0, 105: 0, 106: 0, 107: 0, 108: 0, 109: 0, 110: 0, 111: 1, 112: 0, 113: 0, 114: 2, 115: 0, 116: 0, 117: 0, 118: 0, 119: 0, 120: 0, 121: 0, 122: 0, 123: 0, 124: 1, 125: 0, 126: 0, 127: 0, 128: 0, 129: 0, 130: 0, 131: 0, 132: 0, 133: 0, 134: 0, 135: 0, 136: 0, 137: 0, 138: 0, 139: 0, 140: 0, 141: 0, 142: 0, 143: 0, 144: 0, 145: 0, 146: 0, 147: 0, 148: 0, 149: 0, 150: 0, 151: 0, 152: 0, 153: 0, 154: 20, 155: 0, 156: 0, 157: 0, 158: 0, 159: 0, 160: 0, 161: 0, 162: 0, 163: 0, 164: 0, 165: 0, 166: 0, 167: 1, 168: 1, 169: 0, 170: 0, 171: 0, 172: 0, 173: 0, 174: 0, 175: 0, 176: 0, 177: 0, 178: 0, 179: 0, 180: 0, 181: 0, 182: 0, 183: 0, 184: 0, 185: 0, 186: 0, 187: 0, 188: 0, 189: 0, 190: 0, 191: 0, 192: 0, 193: 0, 194: 0, 195: 0, 196: 0, 197: 0, 198: 0, 199: 0, 200: 0, 201: 0, 202: 1, 203: 0, 204: 0, 205: 0, 206: 0, 207: 0, 208: 0, 209: 0, 210: 0, 211: 0, 212: 0, 213: 0, 214: 0, 215: 0, 216: 0, 217: 0, 218: 0, 219: 0, 220: 0, 221: 0, 222: 0, 223: 0, 224: 0, 225: 0, 226: 0, 227: 0, 228: 0, 229: 0, 230: 0, 231: 2, 232: 0, 233: 2, 234: 0, 235: 0, 236: 0, 237: 0, 238: 0, 239: 1, 240: 0, 241: 0, 242: 0, 243: 0, 244: 0, 245: 0, 246: 0, 247: 0, 248: 0, 249: 0, 250: 0, 251: 0, 252: 0, 253: 0, 254: 0, 255: 0, 256: 0, 257: 0, 258: 0, 259: 0, 260: 0, 261: 0, 262: 0, 263: 0, 264: 0, 265: 0, 266: 0, 267: 0, 268: 0, 269: 0, 270: 0, 271: 0, 272: 0, 273: 0, 274: 0, 275: 0, 276: 0, 277: 0, 278: 0, 279: 1, 280: 0, 281: 0, 282: 0, 283: 0, 284: 0, 285: 0, 286: 0, 287: 0, 288: 0, 289: 0, 290: 0, 291: 0, 292: 0, 293: 0, 294: 0, 295: 0, 296: 0, 297: 0, 298: 0, 299: 0, 300: 0, 301: 0, 302: 0, 303: 0, 304: 0, 305: 1, 306: 0, 307: 0, 308: 0, 309: 0, 310: 0, 311: 0, 312: 0, 313: 1, 314: 0, 315: 0, 316: 0, 317: 1, 318: 0, 319: 0, 320: 0, 321: 0, 322: 0, 323: 0, 324: 0, 325: 0, 326: 0, 327: 1, 328: 0, 329: 0, 330: 0, 331: 0, 332: 0, 333: 0, 334: 0, 335: 0, 336: 0, 337: 0, 338: 0, 339: 0, 340: 0, 341: 0, 342: 0, 343: 0, 344: 0, 345: 0, 346: 0, 347: 0, 348: 0, 349: 0, 350: 0, 351: 0, 352: 1, 353: 0, 354: 0, 355: 0, 356: 0, 357: 0, 358: 0, 359: 0, 360: 0, 361: 0, 362: 0, 363: 0, 364: 0, 365: 0, 366: 0, 367: 0, 368: 0, 369: 0, 370: 0, 371: 0, 372: 0, 373: 2, 374: 0, 375: 0, 376: 0, 377: 0, 378: 0, 379: 0, 380: 0, 381: 0, 382: 0, 383: 0, 384: 0, 385: 0, 386: 0, 387: 0, 388: 0, 389: 0, 390: 0, 391: 0, 392: 0, 393: 0, 394: 0, 395: 0, 396: 0, 397: 0, 398: 0, 399: 0, 400: 0, 401: 0, 402: 0, 403: 0, 404: 0, 405: 0, 406: 0, 407: 0, 408: 1, 409: 0, 410: 0, 411: 0, 412: 0, 413: 0, 414: 0, 415: 0, 416: 0, 417: 0, 418: 0, 419: 0, 420: 0, 421: 0, 422: 0, 423: 0, 424: 0, 425: 0, 426: 0, 427: 0, 428: 0, 429: 1, 430: 0, 431: 0, 432: 0, 433: 0, 434: 0, 435: 1, 436: 0, 437: 0, 438: 0, 439: 0, 440: 0, 441: 0, 442: 0, 443: 0, 444: 0, 445: 1, 446: 0, 447: 0, 448: 0, 449: 0, 450: 0, 451: 0, 452: 0, 453: 0, 454: 0, 455: 0, 456: 0, 457: 0, 458: 1, 459: 0, 460: 0, 461: 0, 462: 0, 463: 0, 464: 0, 465: 0, 466: 0, 467: 0, 468: 0, 469: 0, 470: 0, 471: 0, 472: 0, 473: 0, 474: 1, 475: 0, 476: 0, 477: 0, 478: 0, 479: 0, 480: 0, 481: 0, 482: 0, 483: 0, 484: 0, 485: 0, 486: 1, 487: 0, 488: 0, 489: 0, 490: 0, 491: 0, 492: 0, 493: 0, 494: 0, 495: 0, 496: 0, 497: 0, 498: 0, 499: 0, 500: 0, 501: 0, 502: 1, 503: 0, 504: 0, 505: 0, 506: 0, 507: 0, 508: 0, 509: 0, 510: 0, 511: 0, 512: 0, 513: 0, 514: 0, 515: 0, 516: 0, 517: 0, 518: 0, 519: 0, 520: 0, 521: 0, 522: 0, 523: 0, 524: 0, 525: 0, 526: 0, 527: 0, 528: 0, 529: 0, 530: 1, 531: 0, 532: 0, 533: 0, 534: 0, 535: 0, 536: 0, 537: 0, 538: 0, 539: 0, 540: 0, 541: 1, 542: 0, 543: 0, 544: 0, 545: 0, 546: 0, 547: 0, 548: 0, 549: 2, 550: 0, 551: 0, 552: 0, 553: 0, 554: 0, 555: 0, 556: 0, 557: 1, 558: 0, 559: 0, 560: 0, 561: 0, 562: 0, 563: 0, 564: 0, 565: 0, 566: 0, 567: 0, 568: 0, 569: 0, 570: 0, 571: 0, 572: 0, 573: 0, 574: 0, 575: 0, 576: 0, 577: 0, 578: 0, 579: 0, 580: 0, 581: 0, 582: 0, 583: 0, 584: 0, 585: 0, 586: 0, 587: 0, 588: 0, 589: 0, 590: 0, 591: 0, 592: 0, 593: 0, 594: 1, 595: 0, 596: 0, 597: 0, 598: 0, 599: 0, 600: 0, 601: 0, 602: 0, 603: 0, 604: 0, 605: 0, 606: 0, 607: 0, 608: 0, 609: 0, 610: 0, 611: 0, 612: 0, 613: 0, 614: 0, 615: 0, 616: 0, 617: 0, 618: 0, 619: 0, 620: 0, 621: 0, 622: 0, 623: 0, 624: 0, 625: 0, 626: 0, 627: 0, 628: 0, 629: 0, 630: 0, 631: 0, 632: 0, 633: 0, 634: 0, 635: 0, 636: 1, 637: 0, 638: 0, 639: 0, 640: 0, 641: 0, 642: 0, 643: 0, 644: 0, 645: 0, 646: 0, 647: 0, 648: 0, 649: 0, 650: 0, 651: 0, 652: 0, 653: 0, 654: 0, 655: 0, 656: 0, 657: 3, 658: 1, 659: 0, 660: 0, 661: 0, 662: 0, 663: 0, 664: 0, 665: 0, 666: 0, 667: 0, 668: 0, 669: 0, 670: 0, 671: 0, 672: 0, 673: 0, 674: 0, 675: 0, 676: 0, 677: 0, 678: 0, 679: 0, 680: 1, 681: 0, 682: 0, 683: 0, 684: 0, 685: 0, 686: 0, 687: 0, 688: 0, 689: 0, 690: 0, 691: 0, 692: 0, 693: 0, 694: 0, 695: 0, 696: 0, 697: 0, 698: 0, 699: 0, 700: 0, 701: 0, 702: 0, 703: 0, 704: 0, 705: 0, 706: 0, 707: 0, 708: 0, 709: 0, 710: 0, 711: 0, 712: 0, 713: 0, 714: 0, 715: 1, 716: 0, 717: 0, 718: 0, 719: 0, 720: 0, 721: 0, 722: 0, 723: 0, 724: 0, 725: 0, 726: 0, 727: 0, 728: 0, 729: 0, 730: 0, 731: 0, 732: 0, 733: 0, 734: 0, 735: 2, 736: 0, 737: 0, 738: 0, 739: 0, 740: 0, 741: 0, 742: 0, 743: 0, 744: 0, 745: 0, 746: 0, 747: 0, 748: 0, 749: 0, 750: 0, 751: 0, 752: 0, 753: 0, 754: 0, 755: 0, 756: 0, 757: 0, 758: 0, 759: 0, 760: 0, 761: 0, 762: 0, 763: 0, 764: 0, 765: 1, 766: 0, 767: 0, 768: 1, 769: 0, 770: 0, 771: 0, 772: 0, 773: 1, 774: 1, 775: 0, 776: 0, 777: 0, 778: 0, 779: 0, 780: 0, 781: 0, 782: 0, 783: 0, 784: 0, 785: 0, 786: 1, 787: 0, 788: 0, 789: 0, 790: 0, 791: 0, 792: 0, 793: 0, 794: 0, 795: 0, 796: 0, 797: 0, 798: 0, 799: 0, 800: 0, 801: 1, 802: 0, 803: 0, 804: 0, 805: 0, 806: 0, 807: 0, 808: 0, 809: 0, 810: 0, 811: 0, 812: 0, 813: 0, 814: 0, 815: 0, 816: 0, 817: 0, 818: 0, 819: 0, 820: 0, 821: 0, 822: 0, 823: 0, 824: 0, 825: 0, 826: 0, 827: 0, 828: 1, 829: 0, 830: 0, 831: 3, 832: 2, 833: 0, 834: 0, 835: 0, 836: 0, 837: 0, 838: 0, 839: 0, 840: 0, 841: 0, 842: 0, 843: 0, 844: 0, 845: 0, 846: 0, 847: 0, 848: 0, 849: 0, 850: 0, 851: 0, 852: 0, 853: 0, 854: 0, 855: 0, 856: 0, 857: 0, 858: 0, 859: 0, 860: 0, 861: 0, 862: 0, 863: 0, 864: 0, 865: 0, 866: 0, 867: 0, 868: 0, 869: 1, 870: 0, 871: 0, 872: 0, 873: 0, 874: 0, 875: 0, 876: 0, 877: 0, 878: 0, 879: 0, 880: 0, 881: 1, 882: 0, 883: 0, 884: 0, 885: 2, 886: 0, 887: 0, 888: 0, 889: 0, 890: 0, 891: 0, 892: 0, 893: 0, 894: 0, 895: 0, 896: 0, 897: 0, 898: 0, 899: 0, 900: 0, 901: 0, 902: 0, 903: 0, 904: 0, 905: 0, 906: 0, 907: 9, 908: 7, 909: 9, 910: 12, 911: 7, 912: 9, 913: 12, 914: 9, 915: 23, 916: 6, 917: 7, 918: 5, 919: 11, 920: 20, 921: 13, 922: 15, 923: 8, 924: 11, 925: 11, 926: 11, 927: 10, 928: 12, 929: 11, 930: 11, 931: 8, 932: 9, 933: 23, 934: 6, 935: 8, 936: 5, 937: 12, 938: 11, 939: 11, 940: 10, 941: 9, 942: 8, 943: 5, 944: 11, 945: 6, 946: 8, 947: 13, 948: 7, 949: 11, 950: 9, 951: 5, 952: 8, 953: 8, 954: 8, 955: 21, 956: 8, 957: 5, 958: 8, 959: 10, 960: 10, 961: 7, 962: 13, 963: 11, 964: 5, 965: 15, 966: 1, 967: 1, 968: 6, 969: 12, 970: 10, 971: 13, 972: 1, 973: 11, 974: 2, 975: 1, 976: 1, 977: 15, 978: 2, 979: 8, 980: 6, 981: 7, 982: 17, 983: 17, 984: 8, 985: 12, 986: 1, 987: 17, 988: 2, 989: 21, 990: 5, 991: 9, 992: 4, 993: 7, 994: 1, 995: 1, 996: 2, 997: 9, 998: 5, 999: 3, 1000: 1, 1001: 1, 1002: 4, 1003: 9, 1004: 12, 1005: 5, 1006: 4, 1007: 7, 1008: 2, 1009: 4, 1010: 2, 1011: 8, 1012: 1, 1013: 25, 1014: 3, 1015: 2, 1016: 3, 1017: 1, 1018: 13, 1019: 5, 1020: 5, 1021: 2, 1022: 2, 1023: 19, 1024: 2, 1025: 1, 1026: 6, 1027: 7, 1028: 3, 1029: 1, 1030: 1, 1031: 2, 1032: 4, 1033: 8, 1034: 3, 1035: 1, 1036: 2, 1037: 23, 1038: 7, 1039: 23, 1040: 18, 1041: 3, 1042: 5, 1043: 1, 1044: 8, 1045: 1, 1046: 1, 1047: 1, 1048: 7, 1049: 32, 1050: 5, 1051: 1, 1052: 6, 1053: 5, 1054: 1, 1055: 8, 1056: 1, 1057: 3, 1058: 5, 1059: 2, 1060: 2, 1061: 21, 1062: 1, 1063: 1, 1064: 9, 1065: 4, 1066: 4, 1067: 1, 1068: 12, 1069: 7, 1070: 1, 1071: 1, 1072: 4, 1073: 2, 1074: 1, 1075: 1, 1076: 7, 1077: 1, 1078: 10, 1079: 9, 1080: 12, 1081: 25, 1082: 1, 1083: 1, 1084: 2, 1085: 1, 1086: 3, 1087: 1, 1088: 1, 1089: 57, 1090: 3, 1091: 4, 1092: 1, 1093: 1, 1094: 13, 1095: 1, 1096: 2, 1097: 14, 1098: 1, 1099: 1, 1100: 1, 1101: 4, 1102: 35, 1103: 1, 1104: 10, 1105: 2, 1106: 2, 1107: 1, 1108: 2, 1109: 2, 1110: 1, 1111: 1, 1112: 14, 1113: 14, 1114: 1, 1115: 1, 1116: 4, 1117: 1, 1118: 4, 1119: 17, 1120: 1, 1121: 5, 1122: 5, 1123: 9, 1124: 1, 1125: 1, 1126: 47, 1127: 1, 1128: 4, 1129: 4, 1130: 15, 1131: 4, 1132: 4, 1133: 1, 1134: 6, 1135: 2, 1136: 2, 1137: 13, 1138: 3, 1139: 1, 1140: 1, 1141: 1, 1142: 1, 1143: 1, 1144: 1, 1145: 1, 1146: 8, 1147: 3, 1148: 1, 1149: 7, 1150: 1, 1151: 16, 1152: 4, 1153: 1, 1154: 1, 1155: 1, 1156: 1, 1157: 3, 1158: 2, 1159: 5, 1160: 1, 1161: 1, 1162: 1, 1163: 1, 1164: 1, 1165: 7, 1166: 2, 1167: 36, 1168: 2, 1169: 5, 1170: 1, 1171: 9, 1172: 1, 1173: 17, 1174: 3, 1175: 1, 1176: 1, 1177: 4, 1178: 1, 1179: 1, 1180: 4, 1181: 1, 1182: 1, 1183: 1, 1184: 1, 1185: 1, 1186: 1, 1187: 1, 1188: 1, 1189: 1, 1190: 11, 1191: 4, 1192: 13, 1193: 1, 1194: 5, 1195: 1, 1196: 59, 1197: 1, 1198: 10, 1199: 3, 1200: 1, 1201: 3, 1202: 4, 1203: 1})"
      ]
     },
     "execution_count": 84,
     "metadata": {},
     "output_type": "execute_result"
    }
   ],
   "source": [
    "G.degree()"
   ]
  },
  {
   "cell_type": "code",
   "execution_count": 85,
   "id": "e63a7ddb",
   "metadata": {},
   "outputs": [],
   "source": [
    "im_dict = {}"
   ]
  },
  {
   "cell_type": "code",
   "execution_count": 86,
   "id": "088d2355",
   "metadata": {},
   "outputs": [],
   "source": [
    "bvls = np.array(graph['inverse_pairs_proj'][0, :, 0]).copy()"
   ]
  },
  {
   "cell_type": "code",
   "execution_count": 87,
   "id": "3eeaac40",
   "metadata": {},
   "outputs": [],
   "source": [
    "bvls[[14, 37, 45, 33, 51, 57]]=1"
   ]
  },
  {
   "cell_type": "code",
   "execution_count": 88,
   "id": "f455599c",
   "metadata": {},
   "outputs": [],
   "source": [
    "im_dict['BVLS'] = bvls"
   ]
  },
  {
   "cell_type": "code",
   "execution_count": 89,
   "id": "3de92291",
   "metadata": {},
   "outputs": [],
   "source": [
    "lpsi = bvls.copy()"
   ]
  },
  {
   "cell_type": "code",
   "execution_count": 90,
   "id": "14c7a434",
   "metadata": {},
   "outputs": [
    {
     "data": {
      "text/plain": [
       "(array([   5,    7,   14,   28,   33,   37,   39,   45,   51,   57,  111,\n",
       "         154,  167,  279,  305,  317,  408,  474,  502,  541,  549,  594,\n",
       "         636,  657,  658,  715,  765,  828,  831,  910,  912,  914,  919,\n",
       "         921,  922,  924,  927,  931,  951,  952,  955,  956,  962,  963,\n",
       "         967,  968,  971,  978,  986,  987,  988,  990,  991,  996,  997,\n",
       "        1005, 1013, 1015, 1016, 1017, 1018, 1023, 1027, 1029, 1034, 1036,\n",
       "        1037, 1038, 1039, 1040, 1044, 1047, 1050, 1052, 1060, 1061, 1063,\n",
       "        1067, 1070, 1073, 1074, 1075, 1076, 1078, 1080, 1081, 1082, 1083,\n",
       "        1091, 1093, 1096, 1097, 1098, 1104, 1106, 1107, 1113, 1115, 1116,\n",
       "        1120, 1121, 1122, 1124, 1126, 1133, 1135, 1137, 1138, 1142, 1146,\n",
       "        1155, 1159, 1160, 1163, 1168, 1169, 1170, 1173, 1174, 1177, 1179,\n",
       "        1188, 1191, 1192, 1195, 1202], dtype=int64),)"
      ]
     },
     "execution_count": 90,
     "metadata": {},
     "output_type": "execute_result"
    }
   ],
   "source": [
    "np.where(lpsi==1)"
   ]
  },
  {
   "cell_type": "code",
   "execution_count": 91,
   "id": "741532cb",
   "metadata": {},
   "outputs": [],
   "source": [
    "lpsi[[12,31,44,61]]=1"
   ]
  },
  {
   "cell_type": "code",
   "execution_count": 92,
   "id": "57681647",
   "metadata": {},
   "outputs": [],
   "source": [
    "im_dict['LPSI']=lpsi"
   ]
  },
  {
   "cell_type": "code",
   "execution_count": 93,
   "id": "8c352a9e",
   "metadata": {},
   "outputs": [],
   "source": [
    "# pd.DataFrame(im_dict).to_csv('im_dolphins.csv')"
   ]
  },
  {
   "cell_type": "code",
   "execution_count": 94,
   "id": "267e3f84",
   "metadata": {},
   "outputs": [],
   "source": [
    "# %pip install torch-geometric\n",
    "from torch_geometric.nn import MessagePassing\n",
    "from torch_geometric.utils import add_self_loops, degree"
   ]
  },
  {
   "cell_type": "code",
   "execution_count": 95,
   "id": "68b6a25d",
   "metadata": {},
   "outputs": [
    {
     "name": "stdout",
     "output_type": "stream",
     "text": [
      "Is GPU available? False\n",
      "\n"
     ]
    }
   ],
   "source": [
    "print('Is GPU available? {}\\n'.format(torch.cuda.is_available()))\n",
    "device = torch.device('cuda' if torch.cuda.is_available() else 'cpu')"
   ]
  },
  {
   "cell_type": "code",
   "execution_count": 96,
   "id": "1c8c82d5",
   "metadata": {},
   "outputs": [],
   "source": [
    "def write_to_gephi(dataset, gt_y, gt_x, pred_x):\n",
    "    graph = load_dataset(dataset)\n",
    "    true_G = nx.from_scipy_sparse_matrix(graph.adj_matrix)\n",
    "    pred_G = nx.from_scipy_sparse_matrix(graph.adj_matrix)\n",
    "    true_y = nx.from_scipy_sparse_matrix(graph.adj_matrix)\n",
    "    \n",
    "    for i in true_G.nodes:\n",
    "        true_G.nodes[i]['class'] = gt_x[i]\n",
    "        pred_G.nodes[i]['class'] = pred_x[i]\n",
    "        true_y.nodes[i]['inf_rate'] = gt_y[i]\n",
    "        \n",
    "    nx.write_gexf(true_G, \"{}_GCNSI_real.gexf\".format(dataset))\n",
    "    nx.write_gexf(pred_G, \"{}_GCNSI_pred.gexf\".format(dataset))\n",
    "    nx.write_gexf(true_y, \"{}_GCNSI_y.gexf\".format(dataset))"
   ]
  },
  {
   "cell_type": "code",
   "execution_count": 97,
   "id": "c7122e6d",
   "metadata": {},
   "outputs": [],
   "source": [
    "class GCNConv(MessagePassing):\n",
    "    def __init__(self, in_channels, out_channels):\n",
    "        super(GCNConv, self).__init__(aggr='add')  # \"Add\" aggregation\n",
    "        self.lin = torch.nn.Linear(in_channels, out_channels)\n",
    "\n",
    "    def forward(self, x, edge_index):\n",
    "        # Step 1: Add self-loops\n",
    "        edge_index, _ = add_self_loops(edge_index, num_nodes=x.size(0))\n",
    "\n",
    "        # Step 2: Multiply with weights\n",
    "        x = self.lin(x)\n",
    "\n",
    "        # Step 3: Calculate the normalization\n",
    "        row, col = edge_index\n",
    "        deg = degree(row, x.size(0), dtype=x.dtype)\n",
    "        deg_inv_sqrt = deg.pow(-0.5)\n",
    "        norm = deg_inv_sqrt[row] * deg_inv_sqrt[col]\n",
    "\n",
    "        # Step 4: Propagate the embeddings to the next layer\n",
    "        return self.propagate(edge_index, size=(x.size(0), x.size(0)), x=x,\n",
    "                              norm=norm)\n",
    "\n",
    "    def message(self, x_j, norm):\n",
    "        # Normalize node features.\n",
    "        return norm.view(-1, 1) * x_j"
   ]
  },
  {
   "cell_type": "code",
   "execution_count": 98,
   "id": "e56bba9e",
   "metadata": {},
   "outputs": [],
   "source": [
    "class Net(torch.nn.Module):\n",
    "    def __init__(self):\n",
    "        super(Net, self).__init__()\n",
    "        self.conv1 = GCNConv(4, 128)\n",
    "        self.conv2 = GCNConv(128, 128)\n",
    "        self.fc =torch.nn.Linear(128,2)\n",
    "\n",
    "    def forward(self, x,edge_index):\n",
    "        x = self.conv1(x, edge_index)\n",
    "        x = F.relu(x)\n",
    "        x = F.dropout(x, training=self.training)\n",
    "        x = self.conv2(x, edge_index)\n",
    "        x = self.fc(x)\n",
    "\n",
    "        return x"
   ]
  },
  {
   "cell_type": "code",
   "execution_count": 99,
   "id": "1a8132c2",
   "metadata": {},
   "outputs": [],
   "source": [
    "with open('../model/github2stack_LT2LT_10_100.SG', 'rb') as f:\n",
    "    graph = pickle.load(f)"
   ]
  },
  {
   "cell_type": "code",
   "execution_count": null,
   "metadata": {},
   "outputs": [],
   "source": []
  },
  {
   "cell_type": "markdown",
   "metadata": {},
   "source": [
    "1. training of stack(receiving) networks "
   ]
  },
  {
   "cell_type": "code",
   "execution_count": 100,
   "metadata": {},
   "outputs": [],
   "source": [
    "# 0.15\n",
    "# 0.05\n",
    "threshold = 0.5"
   ]
  },
  {
   "cell_type": "code",
   "execution_count": 101,
   "id": "d232ea35",
   "metadata": {},
   "outputs": [],
   "source": [
    "adj, inverse_pairs, prob = graph['adj_received'], np.array(graph['inverse_pairs_received']), graph['prob_received']"
   ]
  },
  {
   "cell_type": "code",
   "execution_count": 102,
   "metadata": {},
   "outputs": [
    {
     "data": {
      "text/plain": [
       "array([0., 1.], dtype=float32)"
      ]
     },
     "execution_count": 102,
     "metadata": {},
     "output_type": "execute_result"
    }
   ],
   "source": [
    "np.unique(inverse_pairs)"
   ]
  },
  {
   "cell_type": "code",
   "execution_count": 103,
   "metadata": {},
   "outputs": [],
   "source": [
    "# Splitting data\n",
    "random_seed = 42\n",
    "split_ratio = 0.8\n",
    "\n",
    "# Define the total number of samples\n",
    "total_samples = inverse_pairs.shape[0]\n",
    "\n",
    "# Calculate the number of samples for training and testing\n",
    "num_train_samples = int(total_samples * split_ratio)\n",
    "num_test_samples = total_samples - num_train_samples\n",
    "\n",
    "# Create a list of shuffled indices\n",
    "indices = list(range(total_samples))\n",
    "np.random.seed(random_seed)\n",
    "np.random.shuffle(indices)\n",
    "\n",
    "# Use the shuffled indices to split the data\n",
    "train_indices = indices[:num_train_samples]\n",
    "test_indices = indices[num_train_samples:]\n",
    "\n",
    "# Split the data into training and testing sets\n",
    "inverse_pairs_train = inverse_pairs[train_indices]\n",
    "inverse_pairs_test = inverse_pairs[test_indices]\n",
    "\n",
    "# print(inverse_pairs)\n",
    "# print(inverse_pairs_train)\n",
    "# print(inverse_pairs_test)"
   ]
  },
  {
   "cell_type": "code",
   "execution_count": 104,
   "metadata": {},
   "outputs": [
    {
     "name": "stdout",
     "output_type": "stream",
     "text": [
      "NumPy version: 1.26.2\n",
      "PyTorch version: 2.1.0+cpu\n"
     ]
    }
   ],
   "source": [
    "# %pip install --upgrade numpy scipy\n",
    "print(f\"NumPy version: {np.__version__}\")\n",
    "print(f\"PyTorch version: {torch.__version__}\")\n"
   ]
  },
  {
   "cell_type": "code",
   "execution_count": 105,
   "id": "a766acad",
   "metadata": {},
   "outputs": [
    {
     "name": "stdout",
     "output_type": "stream",
     "text": [
      "<class 'numpy.ndarray'>\n"
     ]
    }
   ],
   "source": [
    "S = csgraph.laplacian(adj, normed=False)\n",
    "print(type(S))\n",
    "\n",
    "# S = np.array(coo_matrix.todense(S)) REMOVED LINE"
   ]
  },
  {
   "cell_type": "code",
   "execution_count": 106,
   "id": "958a45d3",
   "metadata": {},
   "outputs": [],
   "source": [
    "num_node = adj.shape[0]"
   ]
  },
  {
   "cell_type": "code",
   "execution_count": 107,
   "id": "f82a8735",
   "metadata": {},
   "outputs": [],
   "source": [
    "alpha = 0.4"
   ]
  },
  {
   "cell_type": "code",
   "execution_count": 108,
   "id": "6d24239f",
   "metadata": {},
   "outputs": [],
   "source": [
    "adj_sparse = coo_matrix(adj) # ADDED LINE\n",
    "\n",
    "coo = adj_sparse.tocoo()\n",
    "row = torch.from_numpy(coo.row.astype(np.int64)).to(torch.long).to(device)\n",
    "col = torch.from_numpy(coo.col.astype(np.int64)).to(torch.long).to(device)"
   ]
  },
  {
   "cell_type": "code",
   "execution_count": 109,
   "id": "b27b0e19",
   "metadata": {},
   "outputs": [],
   "source": [
    "edge_index = torch.stack([row, col], dim=0).to(device)"
   ]
  },
  {
   "cell_type": "code",
   "execution_count": 110,
   "id": "9af3ab37",
   "metadata": {},
   "outputs": [],
   "source": [
    "model = Net().to(device)\n",
    "optimizer = torch.optim.SGD(model.parameters(), lr=1e-3, weight_decay=1e-4)\n",
    "criterion=torch.nn.CrossEntropyLoss(weight=torch.tensor([1.0, 2.5]).to(device)) #[2 3]"
   ]
  },
  {
   "cell_type": "code",
   "execution_count": 111,
   "id": "d7ce47f0",
   "metadata": {},
   "outputs": [],
   "source": [
    "import time"
   ]
  },
  {
   "cell_type": "code",
   "execution_count": 112,
   "id": "f3c55092",
   "metadata": {},
   "outputs": [
    {
     "name": "stdout",
     "output_type": "stream",
     "text": [
      "epoch:0\n"
     ]
    },
    {
     "name": "stdout",
     "output_type": "stream",
     "text": [
      "loss:0.462063\n",
      "training acc: 0.89135163127913\n",
      "training pr: 0.8400347833822785\n",
      "training re: 0.032255624292310964\n",
      "training fs: 0.004358421114468846\n",
      "training auc: 0.2359646542620189\n",
      "epoch:1\n",
      "loss:0.274729\n",
      "training acc: 0.9550103573278095\n",
      "training pr: 0.6688839447469868\n",
      "training re: 0.4353336353000897\n",
      "training fs: 0.32236244161589495\n",
      "training auc: 0.9270973109354006\n",
      "epoch:2\n",
      "loss:0.190554\n",
      "training acc: 0.9544407042982913\n",
      "training pr: 0.5380311890942253\n",
      "training re: 0.49287926723367076\n",
      "training fs: 0.38873598263930953\n",
      "training auc: 0.9740083440529321\n"
     ]
    }
   ],
   "source": [
    "begin = time.time()\n",
    "prediction_train = []\n",
    "for epoch in range(3):\n",
    "    print(\"epoch:\" + str(epoch))\n",
    "    optimizer.zero_grad()\n",
    "    total_loss=0\n",
    "    train_acc = 0\n",
    "    train_pr = 0\n",
    "    train_re = 0\n",
    "    train_fs = 0\n",
    "    train_auc = 0\n",
    "    for i, influ_mat in enumerate(inverse_pairs_train):\n",
    "        seed_vec = influ_mat[:, 0]\n",
    "        # seed = torch.LongTensor(seed_vec).to(device)\n",
    "        influ_vec = influ_mat[:, -1]\n",
    "        V3 = copy.copy(influ_vec)\n",
    "        V4 = copy.copy(influ_vec)\n",
    "        \n",
    "        V3[influ_vec < 0.5] =  0 # play with this 0\n",
    "        V4[influ_vec >= 0.5] =  1 # 1\n",
    "        d1 = influ_vec\n",
    "        d1 = d1[:, np.newaxis]\n",
    "        d2 = (1 - alpha) * np.matmul(np.linalg.inv(np.eye(N=num_node) - alpha * S), influ_vec)\n",
    "        d2 = d2[:, np.newaxis]\n",
    "        d3 = (1 - alpha) * np.matmul(np.linalg.inv(np.eye(N=num_node) - alpha * S), V3)\n",
    "        d3 = d3[:, np.newaxis]\n",
    "        d4 = (1 - alpha) * np.matmul(np.linalg.inv(np.eye(N=num_node) - alpha * S), V4)\n",
    "        d4 = d4[:, np.newaxis]\n",
    "        x = np.concatenate((d1, d2, d3, d4), axis=1)\n",
    "        x = torch.tensor(x,dtype=torch.float).to(device)\n",
    "        seed_vec = torch.tensor(seed_vec).squeeze(-1).long().to(device)\n",
    "        pred = model(x, edge_index)\n",
    "        loss = criterion(pred, seed_vec)\n",
    "        total_loss += loss\n",
    "        loss.backward()\n",
    "        optimizer.step()\n",
    "\n",
    "        pred = torch.softmax(pred,dim=1)\n",
    "        pred = pred[:,1].squeeze(-1).cpu().detach().numpy()\n",
    "        # print(\"accuracy: \" + str(accuracy_score(seed_vec, pred >=threshold)))\n",
    "        # print(\"precision_score: \" + str(precision_score(seed_vec, pred >= threshold, zero_division=0)))\n",
    "        # print(\"recall_score: \" + str(recall_score(seed_vec, pred >= threshold)))\n",
    "        # print(\"f1_score: \" + str(f1_score(seed_vec, pred >= threshold)))\n",
    "        # print(\"roc_auc_score: \" + str(roc_auc_score(seed_vec, pred)))\n",
    "        train_acc += accuracy_score(seed_vec, pred >= threshold)\n",
    "        train_pr += precision_score(seed_vec, pred >= threshold, zero_division=1)\n",
    "        train_re += recall_score(seed_vec, pred >=threshold)\n",
    "        train_fs += f1_score(seed_vec, pred >= threshold)\n",
    "        train_auc += roc_auc_score(seed_vec, pred)\n",
    "\n",
    "        prediction_train.append(pred)\n",
    "    \n",
    "    print(\"loss:{:0.6f}\".format(total_loss/inverse_pairs_train.shape[0]))\n",
    "    print('training acc:', train_acc / inverse_pairs_train.shape[0])\n",
    "    print('training pr:', train_pr / inverse_pairs_train.shape[0])\n",
    "    print('training re:', train_re / inverse_pairs_train.shape[0])\n",
    "    print('training fs:', train_fs / inverse_pairs_train.shape[0])\n",
    "    print('training auc:', train_auc / inverse_pairs_train.shape[0])\n",
    "end = time.time()"
   ]
  },
  {
   "cell_type": "code",
   "execution_count": 113,
   "id": "d09db6c6",
   "metadata": {},
   "outputs": [
    {
     "name": "stdout",
     "output_type": "stream",
     "text": [
      "1220.9014174938202\n",
      "[array([0.502087  , 0.53331256, 0.5233127 , ..., 0.52536166, 0.49112582,\n",
      "       0.50875   ], dtype=float32), array([0.546813  , 0.5169296 , 0.50535655, ..., 0.55061376, 0.48677373,\n",
      "       0.50614995], dtype=float32), array([0.5112042 , 0.5311547 , 0.5018757 , ..., 0.51946825, 0.4866709 ,\n",
      "       0.5053698 ], dtype=float32), array([0.50575674, 0.52019966, 0.4891341 , ..., 0.5154369 , 0.5099886 ,\n",
      "       0.49765205], dtype=float32), array([0.51638955, 0.4973009 , 0.5285128 , ..., 0.49970993, 0.52537864,\n",
      "       0.53172255], dtype=float32), array([0.49610224, 0.50328416, 0.5085138 , ..., 0.48642865, 0.50941586,\n",
      "       0.52021974], dtype=float32), array([0.50117683, 0.49539348, 0.49714056, ..., 0.48661622, 0.50023675,\n",
      "       0.484431  ], dtype=float32), array([0.515644  , 0.51461524, 0.4841275 , ..., 0.48364398, 0.48905504,\n",
      "       0.48916686], dtype=float32), array([0.4846113 , 0.4964366 , 0.4800038 , ..., 0.49301994, 0.47954717,\n",
      "       0.463345  ], dtype=float32), array([0.48554325, 0.46706808, 0.47005683, ..., 0.4785746 , 0.47305405,\n",
      "       0.452961  ], dtype=float32), array([0.46879163, 0.48497546, 0.4652004 , ..., 0.48036742, 0.48446047,\n",
      "       0.47111472], dtype=float32), array([0.4881013 , 0.46157753, 0.47149873, ..., 0.45629314, 0.45081523,\n",
      "       0.47192287], dtype=float32), array([0.47745502, 0.45670933, 0.47311184, ..., 0.4348312 , 0.42250672,\n",
      "       0.45984903], dtype=float32), array([0.43632808, 0.4357477 , 0.45821577, ..., 0.438817  , 0.44466108,\n",
      "       0.44087777], dtype=float32), array([0.4405847 , 0.4458361 , 0.43968675, ..., 0.4156607 , 0.4462415 ,\n",
      "       0.4367971 ], dtype=float32), array([0.41223693, 0.43233383, 0.43057376, ..., 0.37291363, 0.42161185,\n",
      "       0.41573784], dtype=float32), array([0.4056777 , 0.40099996, 0.39168328, ..., 0.38475472, 0.42682597,\n",
      "       0.3952433 ], dtype=float32), array([0.41233766, 0.39821804, 0.41078225, ..., 0.37585574, 0.39688084,\n",
      "       0.41527677], dtype=float32), array([0.3746878 , 0.37536666, 0.40321758, ..., 0.36837903, 0.3995076 ,\n",
      "       0.4031073 ], dtype=float32), array([0.3371588 , 0.39376622, 0.39267385, ..., 0.39282843, 0.37837994,\n",
      "       0.393589  ], dtype=float32), array([0.37999892, 0.37756595, 0.36908922, ..., 0.31716314, 0.36711794,\n",
      "       0.37869546], dtype=float32), array([0.358232  , 0.38628852, 0.36953855, ..., 0.33142176, 0.34733874,\n",
      "       0.38984165], dtype=float32), array([0.36432198, 0.31156275, 0.33971298, ..., 0.31269377, 0.3422177 ,\n",
      "       0.34655994], dtype=float32), array([0.33711633, 0.34599212, 0.32885817, ..., 0.32920885, 0.32376197,\n",
      "       0.31952447], dtype=float32), array([0.32238427, 0.32439896, 0.30305755, ..., 0.29831216, 0.30123708,\n",
      "       0.29656026], dtype=float32), array([0.27811962, 0.3025728 , 0.34891033, ..., 0.3108234 , 0.31193987,\n",
      "       0.3458133 ], dtype=float32), array([0.24649675, 0.26162374, 0.25830358, ..., 0.27344382, 0.27972224,\n",
      "       0.2545584 ], dtype=float32), array([0.27544987, 0.27725407, 0.29327613, ..., 0.2765984 , 0.27743673,\n",
      "       0.321913  ], dtype=float32), array([0.26117945, 0.2751169 , 0.27566746, ..., 0.22809274, 0.2521056 ,\n",
      "       0.26015007], dtype=float32), array([0.28999582, 0.2264096 , 0.25862488, ..., 0.21723501, 0.22292012,\n",
      "       0.26511282], dtype=float32), array([0.25009304, 0.27274412, 0.24985096, ..., 0.18968572, 0.22961411,\n",
      "       0.24916855], dtype=float32), array([0.24710563, 0.21782297, 0.23393446, ..., 0.21498214, 0.2056242 ,\n",
      "       0.23719497], dtype=float32), array([0.20229751, 0.21475033, 0.25773796, ..., 0.18656872, 0.18759723,\n",
      "       0.26096517], dtype=float32), array([0.18442102, 0.19730361, 0.19836119, ..., 0.16149563, 0.2146962 ,\n",
      "       0.20597097], dtype=float32), array([0.21912134, 0.23205628, 0.20460297, ..., 0.14508654, 0.20677991,\n",
      "       0.19749883], dtype=float32), array([0.17053497, 0.16306907, 0.18272416, ..., 0.16665523, 0.1840506 ,\n",
      "       0.19165356], dtype=float32), array([0.1753179 , 0.19007236, 0.18064083, ..., 0.12416175, 0.17360209,\n",
      "       0.16382788], dtype=float32), array([0.16946173, 0.18635862, 0.18632366, ..., 0.11628839, 0.10543579,\n",
      "       0.16986147], dtype=float32), array([0.21635577, 0.15773788, 0.14974457, ..., 0.09386947, 0.1183535 ,\n",
      "       0.14574794], dtype=float32), array([0.1147524 , 0.16509539, 0.1522573 , ..., 0.07893936, 0.12238237,\n",
      "       0.14293572], dtype=float32), array([0.14161158, 0.11183087, 0.15899698, ..., 0.08930514, 0.15219285,\n",
      "       0.19708286], dtype=float32), array([0.14459352, 0.137885  , 0.1535986 , ..., 0.10700815, 0.15614413,\n",
      "       0.12684274], dtype=float32), array([0.11747696, 0.13544488, 0.16489212, ..., 0.07373738, 0.09939741,\n",
      "       0.13068263], dtype=float32), array([0.10259365, 0.12220474, 0.0963336 , ..., 0.05483132, 0.11776558,\n",
      "       0.11712631], dtype=float32), array([0.13543394, 0.06007852, 0.09479322, ..., 0.05772303, 0.12351936,\n",
      "       0.10536323], dtype=float32), array([0.10344826, 0.12605853, 0.14087602, ..., 0.07501792, 0.08017226,\n",
      "       0.12070302], dtype=float32), array([0.07557374, 0.08565535, 0.0668498 , ..., 0.08115666, 0.09459428,\n",
      "       0.09130885], dtype=float32), array([0.07608732, 0.08702527, 0.07319397, ..., 0.05260049, 0.07750902,\n",
      "       0.07913472], dtype=float32), array([0.09476759, 0.08100928, 0.09057339, ..., 0.0505379 , 0.05502757,\n",
      "       0.09945308], dtype=float32), array([0.06908995, 0.07551385, 0.07900035, ..., 0.06199381, 0.07809714,\n",
      "       0.0887723 ], dtype=float32), array([0.13270397, 0.0659707 , 0.06667282, ..., 0.0600337 , 0.08467871,\n",
      "       0.09163447], dtype=float32), array([0.07345436, 0.06290105, 0.11494783, ..., 0.03427366, 0.07416625,\n",
      "       0.1067627 ], dtype=float32), array([0.07868996, 0.07324159, 0.04768717, ..., 0.05294941, 0.04430659,\n",
      "       0.05675659], dtype=float32), array([0.04971129, 0.0644827 , 0.05820793, ..., 0.02378767, 0.0524695 ,\n",
      "       0.0522663 ], dtype=float32), array([0.04201741, 0.05438097, 0.08342475, ..., 0.02956466, 0.05333375,\n",
      "       0.07955538], dtype=float32), array([0.06792019, 0.05964995, 0.0527662 , ..., 0.06456584, 0.06658854,\n",
      "       0.05494449], dtype=float32), array([0.05001801, 0.08890187, 0.04590993, ..., 0.02409051, 0.05965256,\n",
      "       0.04638394], dtype=float32), array([0.04760255, 0.05726326, 0.04512877, ..., 0.02607767, 0.03165415,\n",
      "       0.04852737], dtype=float32), array([0.07820987, 0.0647537 , 0.04896197, ..., 0.0222582 , 0.05947483,\n",
      "       0.04912299], dtype=float32), array([0.06465513, 0.05144085, 0.04552739, ..., 0.02702736, 0.05809633,\n",
      "       0.04642644], dtype=float32), array([0.03983091, 0.05166163, 0.06281444, ..., 0.03280115, 0.0433882 ,\n",
      "       0.04862802], dtype=float32), array([0.0645664 , 0.04131421, 0.04260083, ..., 0.03726664, 0.02278915,\n",
      "       0.03378753], dtype=float32), array([0.03272129, 0.03749019, 0.02648468, ..., 0.02556975, 0.03264371,\n",
      "       0.0305357 ], dtype=float32), array([0.06511033, 0.03385096, 0.04948639, ..., 0.01751048, 0.03215579,\n",
      "       0.04038552], dtype=float32), array([0.02878449, 0.03210388, 0.02152351, ..., 0.02412165, 0.03707734,\n",
      "       0.01886519], dtype=float32), array([0.04198117, 0.0261748 , 0.02665538, ..., 0.01557928, 0.02412406,\n",
      "       0.02183609], dtype=float32), array([0.04393158, 0.05607312, 0.03047792, ..., 0.01870394, 0.03905622,\n",
      "       0.02787507], dtype=float32), array([0.02630831, 0.04810641, 0.0283774 , ..., 0.01439833, 0.0349991 ,\n",
      "       0.03320419], dtype=float32), array([0.0184287 , 0.03896645, 0.04581182, ..., 0.00972984, 0.01703535,\n",
      "       0.03371092], dtype=float32), array([0.04173901, 0.03154428, 0.03178028, ..., 0.00997364, 0.0230478 ,\n",
      "       0.02430877], dtype=float32), array([0.03302401, 0.03472992, 0.05766373, ..., 0.01080881, 0.04095466,\n",
      "       0.06132125], dtype=float32), array([0.02648514, 0.0227349 , 0.02210782, ..., 0.01337805, 0.02028287,\n",
      "       0.01875235], dtype=float32), array([0.0323149 , 0.03687393, 0.04384667, ..., 0.01977182, 0.01559771,\n",
      "       0.04295497], dtype=float32), array([0.01702909, 0.02827265, 0.03606486, ..., 0.01197435, 0.02061307,\n",
      "       0.03314118], dtype=float32), array([0.0216706 , 0.01319324, 0.0282144 , ..., 0.01108235, 0.01368615,\n",
      "       0.03036438], dtype=float32), array([0.02566125, 0.02768313, 0.03092133, ..., 0.0092026 , 0.02114555,\n",
      "       0.03806087], dtype=float32), array([0.04002652, 0.02552295, 0.01806976, ..., 0.01420279, 0.01397425,\n",
      "       0.02444561], dtype=float32), array([0.02640837, 0.03259493, 0.02813123, ..., 0.02865564, 0.03347229,\n",
      "       0.02839883], dtype=float32), array([0.02993519, 0.03676693, 0.0324751 , ..., 0.00601485, 0.01651135,\n",
      "       0.0330834 ], dtype=float32), array([0.01442468, 0.01960178, 0.02248268, ..., 0.0083597 , 0.01533095,\n",
      "       0.02459225], dtype=float32), array([0.01513737, 0.02432829, 0.03879121, ..., 0.01303003, 0.0209575 ,\n",
      "       0.02690853], dtype=float32), array([0.040863  , 0.03130374, 0.03828647, ..., 0.00864442, 0.02923914,\n",
      "       0.03880466], dtype=float32), array([0.02666263, 0.02250932, 0.01881136, ..., 0.00953312, 0.02546547,\n",
      "       0.01738902], dtype=float32), array([0.01400592, 0.04008372, 0.03957603, ..., 0.00754106, 0.01237321,\n",
      "       0.02892439], dtype=float32), array([0.03919652, 0.03384647, 0.01998151, ..., 0.00842855, 0.02122128,\n",
      "       0.02227063], dtype=float32), array([0.04254711, 0.03528361, 0.02974671, ..., 0.01323441, 0.01987708,\n",
      "       0.02859298], dtype=float32), array([0.03579535, 0.02687893, 0.03160042, ..., 0.02601314, 0.01535153,\n",
      "       0.02570613], dtype=float32), array([0.02132863, 0.02478929, 0.02313736, ..., 0.01340486, 0.0233505 ,\n",
      "       0.02866274], dtype=float32), array([0.03563989, 0.04383937, 0.03167842, ..., 0.01474684, 0.04157299,\n",
      "       0.02776637], dtype=float32), array([0.04091899, 0.03694341, 0.01603145, ..., 0.04589148, 0.02465804,\n",
      "       0.01490755], dtype=float32), array([0.03191384, 0.0238687 , 0.02707525, ..., 0.01084616, 0.01717565,\n",
      "       0.02809281], dtype=float32), array([0.03110543, 0.03036508, 0.02589766, ..., 0.01136249, 0.03465699,\n",
      "       0.02137337], dtype=float32), array([0.02730181, 0.04070456, 0.0479131 , ..., 0.01731033, 0.01383445,\n",
      "       0.0361494 ], dtype=float32), array([0.02644105, 0.02636801, 0.03854034, ..., 0.01094757, 0.02729516,\n",
      "       0.03576766], dtype=float32), array([0.02635007, 0.0359284 , 0.0321235 , ..., 0.02372981, 0.02400913,\n",
      "       0.03404744], dtype=float32), array([0.02776698, 0.02069375, 0.02990302, ..., 0.01270781, 0.02970211,\n",
      "       0.03655007], dtype=float32), array([0.02608586, 0.03508776, 0.02532892, ..., 0.02563104, 0.02120695,\n",
      "       0.03227252], dtype=float32), array([0.04325887, 0.0220068 , 0.02827413, ..., 0.02318742, 0.04370751,\n",
      "       0.03353376], dtype=float32), array([0.04721441, 0.03230206, 0.07538612, ..., 0.0269432 , 0.03163242,\n",
      "       0.05249732], dtype=float32), array([0.03294398, 0.04567814, 0.04154063, ..., 0.02078   , 0.04026506,\n",
      "       0.03343436], dtype=float32), array([0.04417285, 0.03000354, 0.03442504, ..., 0.01612347, 0.04563553,\n",
      "       0.04756938], dtype=float32), array([0.05745782, 0.04833099, 0.05908436, ..., 0.02222179, 0.03935191,\n",
      "       0.04516912], dtype=float32), array([0.05188067, 0.05218459, 0.05758652, ..., 0.03169874, 0.03750486,\n",
      "       0.06582043], dtype=float32), array([0.04440474, 0.03451672, 0.04679822, ..., 0.02706972, 0.04260893,\n",
      "       0.0480643 ], dtype=float32), array([0.04737213, 0.07011226, 0.03820857, ..., 0.02140694, 0.02208606,\n",
      "       0.04687149], dtype=float32), array([0.05282727, 0.05491463, 0.03359396, ..., 0.03481098, 0.04530974,\n",
      "       0.03143814], dtype=float32), array([0.06138697, 0.043057  , 0.06025181, ..., 0.04148333, 0.03908258,\n",
      "       0.06359168], dtype=float32), array([0.09151351, 0.0402008 , 0.04413927, ..., 0.04128306, 0.06202706,\n",
      "       0.05374479], dtype=float32), array([0.06875869, 0.05410789, 0.04430513, ..., 0.03837393, 0.05172469,\n",
      "       0.04531809], dtype=float32), array([0.05355983, 0.0579593 , 0.07575547, ..., 0.03194071, 0.04299344,\n",
      "       0.06933166], dtype=float32), array([0.04736463, 0.0621708 , 0.07482278, ..., 0.02647112, 0.05383151,\n",
      "       0.08018009], dtype=float32), array([0.08248944, 0.0590572 , 0.06297908, ..., 0.04762636, 0.04874403,\n",
      "       0.08246974], dtype=float32), array([0.05763131, 0.0670987 , 0.06628171, ..., 0.05440025, 0.05801037,\n",
      "       0.07022663], dtype=float32), array([0.09077604, 0.04305036, 0.07486573, ..., 0.05950441, 0.0792016 ,\n",
      "       0.10697583], dtype=float32), array([0.07746231, 0.08164389, 0.09530694, ..., 0.06644397, 0.06040632,\n",
      "       0.08213017], dtype=float32), array([0.06657353, 0.10326991, 0.08462918, ..., 0.05048378, 0.06468101,\n",
      "       0.10292416], dtype=float32), array([0.08969456, 0.09953143, 0.07782832, ..., 0.06115735, 0.08789401,\n",
      "       0.08850542], dtype=float32), array([0.12441488, 0.08906204, 0.12673622, ..., 0.07475315, 0.09948055,\n",
      "       0.12308203], dtype=float32), array([0.08956899, 0.13474332, 0.09971799, ..., 0.07361212, 0.11626924,\n",
      "       0.10033359], dtype=float32), array([0.09090967, 0.07491276, 0.09247851, ..., 0.05683108, 0.07056036,\n",
      "       0.10761698], dtype=float32), array([0.1090536 , 0.08260268, 0.09108768, ..., 0.05783974, 0.07120557,\n",
      "       0.08307756], dtype=float32), array([0.11933126, 0.13029006, 0.14036311, ..., 0.11568817, 0.10932136,\n",
      "       0.11416757], dtype=float32), array([0.13443676, 0.13257414, 0.08197922, ..., 0.05930424, 0.07805626,\n",
      "       0.08065554], dtype=float32), array([0.11824211, 0.12828182, 0.09132412, ..., 0.10922265, 0.10444057,\n",
      "       0.08349212], dtype=float32), array([0.13115238, 0.08938848, 0.14467014, ..., 0.07232618, 0.10948854,\n",
      "       0.14256516], dtype=float32), array([0.10514518, 0.100311  , 0.16644011, ..., 0.07741478, 0.1070262 ,\n",
      "       0.20500304], dtype=float32), array([0.15550861, 0.14566845, 0.14875755, ..., 0.12382341, 0.10171161,\n",
      "       0.16627848], dtype=float32), array([0.09567131, 0.11200371, 0.17430605, ..., 0.22653395, 0.11456607,\n",
      "       0.1329625 ], dtype=float32), array([0.14391406, 0.17060328, 0.12313083, ..., 0.09885747, 0.09166237,\n",
      "       0.12891316], dtype=float32), array([0.18410024, 0.14002497, 0.16310202, ..., 0.1475962 , 0.134046  ,\n",
      "       0.17904463], dtype=float32), array([0.16740046, 0.15373962, 0.13790724, ..., 0.1037623 , 0.13151573,\n",
      "       0.11409204], dtype=float32), array([0.16109273, 0.14714122, 0.13887778, ..., 0.10238347, 0.1192003 ,\n",
      "       0.16775563], dtype=float32), array([0.14373365, 0.10224809, 0.16411571, ..., 0.22266868, 0.20676002,\n",
      "       0.19024712], dtype=float32), array([0.17652582, 0.17401193, 0.15074702, ..., 0.18059655, 0.146873  ,\n",
      "       0.15067433], dtype=float32), array([0.14755936, 0.18496531, 0.20899674, ..., 0.272817  , 0.18021786,\n",
      "       0.16226248], dtype=float32), array([0.13182136, 0.17178124, 0.16385683, ..., 0.15710557, 0.20797983,\n",
      "       0.1514504 ], dtype=float32), array([0.18188912, 0.17953405, 0.11394765, ..., 0.17282738, 0.1440636 ,\n",
      "       0.12873928], dtype=float32), array([0.15704355, 0.14693986, 0.15172695, ..., 0.12165225, 0.19192654,\n",
      "       0.14624488], dtype=float32), array([0.17511392, 0.15536527, 0.17256464, ..., 0.19115882, 0.14654742,\n",
      "       0.19103304], dtype=float32), array([0.19371732, 0.22987536, 0.18201524, ..., 0.09451789, 0.17881869,\n",
      "       0.20983024], dtype=float32), array([0.23591626, 0.21230024, 0.13872047, ..., 0.16895896, 0.2251924 ,\n",
      "       0.17707011], dtype=float32), array([0.23098479, 0.17532136, 0.23423004, ..., 0.12028442, 0.14820892,\n",
      "       0.2113972 ], dtype=float32), array([0.18672334, 0.18410066, 0.15750572, ..., 0.14955707, 0.2045771 ,\n",
      "       0.1384296 ], dtype=float32), array([0.15087594, 0.17648828, 0.16901447, ..., 0.10896088, 0.14456333,\n",
      "       0.1698093 ], dtype=float32), array([0.2581409 , 0.19434766, 0.20216879, ..., 0.2049513 , 0.22488132,\n",
      "       0.16817209], dtype=float32), array([0.20437752, 0.1903929 , 0.1393172 , ..., 0.1305502 , 0.15002564,\n",
      "       0.14764406], dtype=float32), array([0.18515396, 0.19079988, 0.19906321, ..., 0.18200196, 0.20243654,\n",
      "       0.1662145 ], dtype=float32), array([0.16884008, 0.1319974 , 0.21730435, ..., 0.163039  , 0.10445569,\n",
      "       0.17394906], dtype=float32), array([0.15704499, 0.17692614, 0.178376  , ..., 0.12587722, 0.16656606,\n",
      "       0.17002404], dtype=float32), array([0.1310607 , 0.2235492 , 0.19713521, ..., 0.1418125 , 0.13850343,\n",
      "       0.23289886], dtype=float32), array([0.17581989, 0.16995506, 0.15992269, ..., 0.19538009, 0.16220976,\n",
      "       0.18096209], dtype=float32), array([0.17779602, 0.16783062, 0.15027869, ..., 0.13433868, 0.2230385 ,\n",
      "       0.15604639], dtype=float32), array([0.2102529 , 0.13222834, 0.12399013, ..., 0.16551836, 0.20564966,\n",
      "       0.13913321], dtype=float32), array([0.21931785, 0.1798291 , 0.1340696 , ..., 0.20414312, 0.19968368,\n",
      "       0.12845463], dtype=float32), array([0.11403748, 0.14199069, 0.12495998, ..., 0.10593402, 0.15453802,\n",
      "       0.20206076], dtype=float32), array([0.10709221, 0.16128199, 0.2032348 , ..., 0.15094523, 0.12008159,\n",
      "       0.21429016], dtype=float32), array([0.2246316 , 0.22124946, 0.19828159, ..., 0.2523981 , 0.14942221,\n",
      "       0.19415356], dtype=float32), array([0.13353144, 0.15238981, 0.12289085, ..., 0.14992791, 0.09975294,\n",
      "       0.17607994], dtype=float32), array([0.11407342, 0.24812442, 0.14599544, ..., 0.06772519, 0.09825113,\n",
      "       0.13864124], dtype=float32), array([0.15216316, 0.17812417, 0.14167485, ..., 0.13494104, 0.11604375,\n",
      "       0.14879124], dtype=float32), array([0.15451947, 0.13668863, 0.11951107, ..., 0.07735943, 0.0903935 ,\n",
      "       0.11479909], dtype=float32), array([0.10240916, 0.10272896, 0.12632647, ..., 0.07536506, 0.08524717,\n",
      "       0.15431532], dtype=float32), array([0.12446764, 0.12366965, 0.16902621, ..., 0.08742341, 0.11036918,\n",
      "       0.14807345], dtype=float32), array([0.15740797, 0.15393029, 0.08911983, ..., 0.07421701, 0.07737648,\n",
      "       0.1399104 ], dtype=float32), array([0.17588574, 0.10646347, 0.11882687, ..., 0.15131971, 0.10900528,\n",
      "       0.10364651], dtype=float32), array([0.18928507, 0.1107808 , 0.08591255, ..., 0.08141854, 0.15091026,\n",
      "       0.09656446], dtype=float32), array([0.08677638, 0.10517351, 0.16288672, ..., 0.07468175, 0.08834642,\n",
      "       0.19739418], dtype=float32), array([0.11241829, 0.116135  , 0.14796725, ..., 0.07411343, 0.1098322 ,\n",
      "       0.12535937], dtype=float32), array([0.1743768 , 0.11605608, 0.11778479, ..., 0.1083027 , 0.1512021 ,\n",
      "       0.13654825], dtype=float32), array([0.13080233, 0.1267752 , 0.09763777, ..., 0.09805425, 0.12623078,\n",
      "       0.10690642], dtype=float32), array([0.13130689, 0.12937482, 0.09452789, ..., 0.10697399, 0.09348628,\n",
      "       0.12515444], dtype=float32), array([0.10576004, 0.1032416 , 0.08546264, ..., 0.13858075, 0.07632548,\n",
      "       0.08666001], dtype=float32), array([0.0902703 , 0.07578714, 0.11864336, ..., 0.08684859, 0.20785744,\n",
      "       0.10682428], dtype=float32), array([0.1589758 , 0.10453926, 0.09651361, ..., 0.07377119, 0.1244849 ,\n",
      "       0.12087177], dtype=float32), array([0.22816429, 0.14763366, 0.12159964, ..., 0.15698193, 0.12620315,\n",
      "       0.10683043], dtype=float32), array([0.13756377, 0.07823336, 0.08629038, ..., 0.07146465, 0.08845049,\n",
      "       0.10133269], dtype=float32), array([0.14409463, 0.11138718, 0.08829021, ..., 0.0510795 , 0.12455592,\n",
      "       0.08298065], dtype=float32), array([0.08650677, 0.10867942, 0.09605293, ..., 0.06221958, 0.13927786,\n",
      "       0.10083108], dtype=float32), array([0.09751052, 0.07136728, 0.10178916, ..., 0.06497911, 0.12549458,\n",
      "       0.09650479], dtype=float32), array([0.11067642, 0.08025771, 0.12199945, ..., 0.05868835, 0.09965955,\n",
      "       0.12123512], dtype=float32), array([0.15351756, 0.06474805, 0.10756887, ..., 0.0789059 , 0.17489214,\n",
      "       0.11447185], dtype=float32), array([0.07191394, 0.05873567, 0.08329294, ..., 0.06692623, 0.11231827,\n",
      "       0.07863153], dtype=float32), array([0.0624181 , 0.10427744, 0.09421403, ..., 0.05537364, 0.05592378,\n",
      "       0.08271228], dtype=float32), array([0.09447533, 0.09284144, 0.09672421, ..., 0.07460404, 0.09340352,\n",
      "       0.09238686], dtype=float32), array([0.07942816, 0.06230679, 0.08871538, ..., 0.05772081, 0.0619585 ,\n",
      "       0.07968666], dtype=float32), array([0.06905185, 0.04142031, 0.086436  , ..., 0.04524967, 0.05650244,\n",
      "       0.08523356], dtype=float32), array([0.05395816, 0.06462657, 0.08523773, ..., 0.05452129, 0.11975273,\n",
      "       0.1021992 ], dtype=float32), array([0.06668327, 0.09464041, 0.0615469 , ..., 0.02776969, 0.05444395,\n",
      "       0.06692362], dtype=float32), array([0.05184064, 0.0730174 , 0.12772162, ..., 0.04896283, 0.09367302,\n",
      "       0.12851325], dtype=float32), array([0.06612875, 0.05201386, 0.06335429, ..., 0.03877596, 0.03754491,\n",
      "       0.08523803], dtype=float32), array([0.05221566, 0.04045029, 0.07679979, ..., 0.02591676, 0.06357829,\n",
      "       0.07513287], dtype=float32), array([0.07282427, 0.04370901, 0.09183498, ..., 0.04522362, 0.03096298,\n",
      "       0.07714216], dtype=float32), array([0.06675307, 0.05027856, 0.07023811, ..., 0.03567899, 0.05029255,\n",
      "       0.06078169], dtype=float32), array([0.03652762, 0.06790629, 0.05558588, ..., 0.03085017, 0.04479967,\n",
      "       0.04776551], dtype=float32), array([0.04207085, 0.04183038, 0.03938264, ..., 0.02835096, 0.06810409,\n",
      "       0.04175241], dtype=float32), array([0.05444702, 0.064326  , 0.05414659, ..., 0.03717624, 0.03634045,\n",
      "       0.05570313], dtype=float32), array([0.03777849, 0.05797583, 0.06896395, ..., 0.03488876, 0.03452474,\n",
      "       0.07113899], dtype=float32), array([0.06614691, 0.03818029, 0.04802109, ..., 0.03077805, 0.02088757,\n",
      "       0.05141727], dtype=float32), array([0.07761047, 0.05505833, 0.06387103, ..., 0.00946736, 0.04568564,\n",
      "       0.07181052], dtype=float32), array([0.03885943, 0.05124355, 0.0511104 , ..., 0.01410489, 0.05965505,\n",
      "       0.0483573 ], dtype=float32), array([0.02920414, 0.04071739, 0.0359227 , ..., 0.01453091, 0.03919278,\n",
      "       0.03811081], dtype=float32), array([0.05933977, 0.06582595, 0.04245815, ..., 0.04180244, 0.03810265,\n",
      "       0.03035181], dtype=float32), array([0.0327952 , 0.06634965, 0.0362368 , ..., 0.0290727 , 0.02982868,\n",
      "       0.03140707], dtype=float32), array([0.02490295, 0.02531991, 0.04296556, ..., 0.03767772, 0.02694027,\n",
      "       0.0426247 ], dtype=float32), array([0.04084378, 0.04748216, 0.063481  , ..., 0.01057104, 0.02133536,\n",
      "       0.08200809], dtype=float32), array([0.03315715, 0.03932335, 0.04276211, ..., 0.01604052, 0.02681918,\n",
      "       0.04225019], dtype=float32), array([0.03991597, 0.05163822, 0.0370108 , ..., 0.01733229, 0.02648558,\n",
      "       0.0590501 ], dtype=float32), array([0.02268824, 0.02793498, 0.02815592, ..., 0.01826598, 0.04246667,\n",
      "       0.02817324], dtype=float32), array([0.03354999, 0.02353377, 0.0292682 , ..., 0.02134109, 0.01456059,\n",
      "       0.02568338], dtype=float32), array([0.01025071, 0.02458956, 0.02747004, ..., 0.01450027, 0.02031543,\n",
      "       0.03129287], dtype=float32), array([0.03364633, 0.01961261, 0.02212537, ..., 0.01671418, 0.02649207,\n",
      "       0.01911105], dtype=float32), array([0.0108335 , 0.02332663, 0.02763388, ..., 0.00991528, 0.0241873 ,\n",
      "       0.02823309], dtype=float32), array([0.03223856, 0.03666179, 0.01886606, ..., 0.01324727, 0.01618861,\n",
      "       0.01981798], dtype=float32), array([0.03795727, 0.02189618, 0.01628009, ..., 0.0084478 , 0.00911955,\n",
      "       0.0187806 ], dtype=float32), array([0.02657624, 0.01442241, 0.02003455, ..., 0.01500947, 0.0150762 ,\n",
      "       0.02214221], dtype=float32), array([0.02336452, 0.01436621, 0.02713787, ..., 0.01466852, 0.00786086,\n",
      "       0.01872505], dtype=float32), array([0.02786772, 0.01458032, 0.02192544, ..., 0.00874087, 0.02015212,\n",
      "       0.02411773], dtype=float32), array([0.0113837 , 0.01446565, 0.0209014 , ..., 0.00612056, 0.0049435 ,\n",
      "       0.01608903], dtype=float32), array([0.01121733, 0.01381142, 0.02035449, ..., 0.00581908, 0.01357067,\n",
      "       0.01642276], dtype=float32), array([0.0162078 , 0.02497291, 0.01176544, ..., 0.00556938, 0.00764672,\n",
      "       0.01634773], dtype=float32), array([0.01041087, 0.02073674, 0.02352286, ..., 0.00776099, 0.00445941,\n",
      "       0.01894584], dtype=float32), array([0.03084104, 0.01591088, 0.02357777, ..., 0.01463576, 0.01482956,\n",
      "       0.03027243], dtype=float32), array([0.00909448, 0.01638546, 0.01855203, ..., 0.00700546, 0.01258756,\n",
      "       0.01676875], dtype=float32), array([0.02600011, 0.01710557, 0.01219863, ..., 0.00669972, 0.0086546 ,\n",
      "       0.01019425], dtype=float32), array([0.01932429, 0.01731088, 0.01133702, ..., 0.00555942, 0.00461249,\n",
      "       0.01337149], dtype=float32), array([0.00893677, 0.0125083 , 0.01834583, ..., 0.00496953, 0.01672749,\n",
      "       0.01349034], dtype=float32), array([0.00868102, 0.01070611, 0.00780175, ..., 0.01074677, 0.0084457 ,\n",
      "       0.00688768], dtype=float32), array([0.014783  , 0.00760433, 0.01281724, ..., 0.00190826, 0.00540197,\n",
      "       0.01377949], dtype=float32), array([0.02005329, 0.0091239 , 0.00765905, ..., 0.00853119, 0.00248051,\n",
      "       0.00759544], dtype=float32), array([0.0198184 , 0.00876164, 0.01221475, ..., 0.00484399, 0.01272673,\n",
      "       0.01133466], dtype=float32), array([0.01008239, 0.02325268, 0.01909241, ..., 0.00186326, 0.01288653,\n",
      "       0.01529526], dtype=float32), array([0.00538515, 0.00766852, 0.0093453 , ..., 0.00966241, 0.01093077,\n",
      "       0.01675186], dtype=float32), array([0.01531674, 0.00496083, 0.01085286, ..., 0.00577653, 0.00641916,\n",
      "       0.01440661], dtype=float32), array([0.0141831 , 0.00997519, 0.01169642, ..., 0.00397883, 0.00827072,\n",
      "       0.00948386], dtype=float32), array([0.01101168, 0.01777159, 0.01188532, ..., 0.00568864, 0.01708566,\n",
      "       0.02218162], dtype=float32), array([0.01491711, 0.00629775, 0.01055071, ..., 0.00224648, 0.00852731,\n",
      "       0.00747857], dtype=float32), array([0.01151753, 0.01452337, 0.00920227, ..., 0.00382359, 0.00408815,\n",
      "       0.00940697], dtype=float32), array([0.00805481, 0.00876325, 0.01652618, ..., 0.00410677, 0.0033129 ,\n",
      "       0.01249159], dtype=float32), array([0.01139721, 0.00442571, 0.00624016, ..., 0.00478494, 0.00871873,\n",
      "       0.00604464], dtype=float32), array([0.01039857, 0.0071128 , 0.01362906, ..., 0.00353262, 0.0073294 ,\n",
      "       0.01253149], dtype=float32)]\n",
      "0.99721414\n"
     ]
    }
   ],
   "source": [
    "print(end - begin)\n",
    "print(prediction_train)\n",
    "print(np.max(prediction_train))\n"
   ]
  },
  {
   "cell_type": "markdown",
   "metadata": {},
   "source": [
    "2. training of the github(proj) network"
   ]
  },
  {
   "cell_type": "code",
   "execution_count": 114,
   "metadata": {},
   "outputs": [
    {
     "name": "stdout",
     "output_type": "stream",
     "text": [
      "<class 'numpy.ndarray'>\n"
     ]
    }
   ],
   "source": [
    "adj_proj, inverse_pairs_proj, prob_proj = graph['adj_proj'], np.array(graph['inverse_pairs_proj']), graph['prob_proj']\n",
    "S_proj = csgraph.laplacian(adj_proj, normed=False)\n",
    "print(type(S_proj))\n",
    "num_node = adj_proj.shape[0]\n",
    "alpha = 0.4\n",
    "\n",
    "# Splitting data\n",
    "random_seed = 42\n",
    "split_ratio = 0.8\n",
    "\n",
    "# Define the total number of samples\n",
    "total_samples = inverse_pairs_proj.shape[0]\n",
    "\n",
    "# Calculate the number of samples for training and testing\n",
    "num_train_samples = int(total_samples * split_ratio)\n",
    "num_test_samples = total_samples - num_train_samples\n",
    "\n",
    "# Create a list of shuffled indices\n",
    "indices = list(range(total_samples))\n",
    "np.random.seed(random_seed)\n",
    "np.random.shuffle(indices)\n",
    "\n",
    "# Use the shuffled indices to split the data\n",
    "train_indices = indices[:num_train_samples]\n",
    "test_indices = indices[num_train_samples:]\n",
    "\n",
    "# Split the data into training and testing sets\n",
    "inverse_pairs_proj_train = inverse_pairs_proj[train_indices]\n",
    "inverse_pairs_proj_test = inverse_pairs_proj[test_indices]"
   ]
  },
  {
   "cell_type": "code",
   "execution_count": 115,
   "metadata": {},
   "outputs": [],
   "source": [
    "adj_sparse_proj = coo_matrix(adj_proj) # ADDED LINE\n",
    "coo_proj = adj_sparse_proj.tocoo()\n",
    "row_proj = torch.from_numpy(coo_proj.row.astype(np.int64)).to(torch.long).to(device)\n",
    "col_proj = torch.from_numpy(coo_proj.col.astype(np.int64)).to(torch.long).to(device)\n",
    "edge_index_proj = torch.stack([row_proj, col_proj], dim=0).to(device)"
   ]
  },
  {
   "cell_type": "code",
   "execution_count": 116,
   "metadata": {},
   "outputs": [],
   "source": [
    "model_proj = Net().to(device)\n",
    "optimizer_proj = torch.optim.SGD(model_proj.parameters(), lr=1e-3, weight_decay=1e-4)\n",
    "criterion_proj =torch.nn.CrossEntropyLoss(weight=torch.tensor([1.0, 2.5]).to(device)) #[2 3]"
   ]
  },
  {
   "cell_type": "code",
   "execution_count": 117,
   "metadata": {},
   "outputs": [
    {
     "name": "stdout",
     "output_type": "stream",
     "text": [
      "epoch:0\n"
     ]
    },
    {
     "name": "stdout",
     "output_type": "stream",
     "text": [
      "loss:0.526397\n",
      "training acc: 0.8324958471760807\n",
      "training pr: 0.7414259639742299\n",
      "training re: 0.0328125\n",
      "training fs: 0.02234993488859452\n",
      "training auc: 0.6088958717712176\n",
      "epoch:1\n",
      "loss:0.307606\n",
      "training acc: 0.8594580564784053\n",
      "training pr: 0.38917748933187835\n",
      "training re: 0.5857291666666666\n",
      "training fs: 0.4366742664981958\n",
      "training auc: 0.9079677890528904\n",
      "epoch:2\n",
      "loss:0.301304\n",
      "training acc: 0.8594269102990033\n",
      "training pr: 0.3925752581132128\n",
      "training re: 0.5972916666666668\n",
      "training fs: 0.43696101430860795\n",
      "training auc: 0.9084193861469865\n",
      "epoch:3\n",
      "loss:0.305067\n",
      "training acc: 0.8611503322259138\n",
      "training pr: 0.3922129727388254\n",
      "training re: 0.5523958333333336\n",
      "training fs: 0.4086603227066912\n",
      "training auc: 0.9079212792127921\n",
      "epoch:4\n",
      "loss:0.304822\n",
      "training acc: 0.8628945182724254\n",
      "training pr: 0.39123026197067007\n",
      "training re: 0.5253125000000001\n",
      "training fs: 0.38743898128481086\n",
      "training auc: 0.9079188768450184\n",
      "epoch:5\n",
      "loss:0.302910\n",
      "training acc: 0.8612541528239201\n",
      "training pr: 0.3933995686778852\n",
      "training re: 0.5342708333333333\n",
      "training fs: 0.393504358277884\n",
      "training auc: 0.9083707622232472\n",
      "epoch:6\n",
      "loss:0.296822\n",
      "training acc: 0.8573608803986715\n",
      "training pr: 0.3897872394230843\n",
      "training re: 0.5864583333333332\n",
      "training fs: 0.4219932658968242\n",
      "training auc: 0.9096231645910204\n",
      "epoch:7\n",
      "loss:0.293979\n",
      "training acc: 0.8552117940199334\n",
      "training pr: 0.3846434286461695\n",
      "training re: 0.6155208333333331\n",
      "training fs: 0.43462784167276663\n",
      "training auc: 0.9096885089944647\n",
      "epoch:8\n",
      "loss:0.291780\n",
      "training acc: 0.8552948504983388\n",
      "training pr: 0.38850619589955077\n",
      "training re: 0.6320833333333331\n",
      "training fs: 0.44323196871398585\n",
      "training auc: 0.9103372443880685\n",
      "epoch:9\n",
      "loss:0.290758\n",
      "training acc: 0.8549003322259139\n",
      "training pr: 0.391750169787237\n",
      "training re: 0.630625\n",
      "training fs: 0.4414382375240559\n",
      "training auc: 0.9100912899753995\n"
     ]
    }
   ],
   "source": [
    "begin = time.time()\n",
    "for epoch in range(10):\n",
    "    print(\"epoch:\" + str(epoch))\n",
    "    optimizer_proj.zero_grad()\n",
    "    total_loss=0\n",
    "    train_acc = 0\n",
    "    train_pr = 0\n",
    "    train_re = 0\n",
    "    train_fs = 0\n",
    "    train_auc = 0\n",
    "    for i, influ_mat in enumerate(inverse_pairs_proj_train):\n",
    "        seed_vec = influ_mat[:, 0]\n",
    "        # seed = torch.LongTensor(seed_vec).to(device)\n",
    "        influ_vec = influ_mat[:, -1]\n",
    "        V3 = copy.copy(influ_vec)\n",
    "        V4 = copy.copy(influ_vec)\n",
    "        V3[influ_vec < 0.5] =  0\n",
    "        V4[influ_vec >= 0.5] =  1\n",
    "        d1 = influ_vec\n",
    "        d1 = d1[:, np.newaxis]\n",
    "        d2 = (1 - alpha) * np.matmul(np.linalg.inv(np.eye(N=num_node) - alpha * S_proj), influ_vec)\n",
    "        d2 = d2[:, np.newaxis]\n",
    "        d3 = (1 - alpha) * np.matmul(np.linalg.inv(np.eye(N=num_node) - alpha * S_proj), V3)\n",
    "        d3 = d3[:, np.newaxis]\n",
    "        d4 = (1 - alpha) * np.matmul(np.linalg.inv(np.eye(N=num_node) - alpha * S_proj), V4)\n",
    "        d4 = d4[:, np.newaxis]\n",
    "        x = np.concatenate((d1, d2, d3, d4), axis=1)\n",
    "        x = torch.tensor(x,dtype=torch.float).to(device)\n",
    "        seed_vec = torch.tensor(seed_vec).squeeze(-1).long().to(device)\n",
    "        pred = model_proj(x, edge_index_proj)\n",
    "        loss = criterion_proj(pred, seed_vec)\n",
    "        total_loss += loss\n",
    "        loss.backward()\n",
    "        optimizer_proj.step()\n",
    "\n",
    "        pred = torch.softmax(pred,dim=1)\n",
    "        pred = pred[:,1].squeeze(-1).cpu().detach().numpy()\n",
    "        # print(\"accuracy: \" + str(accuracy_score(seed_vec, pred >=threshold)))\n",
    "        # print(\"precision_score: \" + str(precision_score(seed_vec, pred >= threshold, zero_division=0)))\n",
    "        # print(\"recall_score: \" + str(recall_score(seed_vec, pred >= threshold)))\n",
    "        # print(\"f1_score: \" + str(f1_score(seed_vec, pred >= threshold)))\n",
    "        # print(\"roc_auc_score: \" + str(roc_auc_score(seed_vec, pred)))\n",
    "        train_acc += accuracy_score(seed_vec, pred >= threshold)\n",
    "        train_pr += precision_score(seed_vec, pred >= threshold, zero_division=1)\n",
    "        train_re += recall_score(seed_vec, pred >=threshold)\n",
    "        train_fs += f1_score(seed_vec, pred >= threshold)\n",
    "        train_auc += roc_auc_score(seed_vec, pred)\n",
    "\n",
    "    print(\"loss:{:0.6f}\".format(total_loss/inverse_pairs_proj_train.shape[0]))\n",
    "    print('training acc:', train_acc / inverse_pairs_proj_train.shape[0])\n",
    "    print('training pr:', train_pr / inverse_pairs_proj_train.shape[0])\n",
    "    print('training re:', train_re / inverse_pairs_proj_train.shape[0])\n",
    "    print('training fs:', train_fs / inverse_pairs_proj_train.shape[0])\n",
    "    print('training auc:', train_auc / inverse_pairs_proj_train.shape[0])\n",
    "end = time.time()"
   ]
  },
  {
   "cell_type": "code",
   "execution_count": 118,
   "metadata": {},
   "outputs": [
    {
     "name": "stdout",
     "output_type": "stream",
     "text": [
      "1028.7187552452087\n"
     ]
    }
   ],
   "source": [
    "print(end - begin)\n"
   ]
  },
  {
   "cell_type": "markdown",
   "metadata": {},
   "source": [
    "3. Testing of stack(reiceiving) networks to find predicted stack seed nodes"
   ]
  },
  {
   "cell_type": "code",
   "execution_count": 119,
   "metadata": {},
   "outputs": [],
   "source": [
    "stack_testing_threshold = 0.5"
   ]
  },
  {
   "cell_type": "code",
   "execution_count": 120,
   "id": "d1f5439f",
   "metadata": {
    "scrolled": true
   },
   "outputs": [
    {
     "name": "stdout",
     "output_type": "stream",
     "text": [
      "i=0\n",
      "accuracy: 0.9533920248575868\n",
      "precision_score: 1.0\n",
      "recall_score: 0.01098901098901099\n",
      "f1_score: 0.02173913043478261\n",
      "roc_auc_score: 0.9706320174390827\n",
      "[6.4835110e-16 2.2267145e-12 7.9330181e-11 ... 4.3047905e-01 5.7394797e-01\n",
      " 7.4342340e-01]\n",
      "i=1\n",
      "accuracy: 0.9733298808907301\n",
      "precision_score: 0.5\n",
      "recall_score: 0.009708737864077669\n",
      "f1_score: 0.019047619047619046\n",
      "roc_auc_score: 0.9842746340820865\n",
      "[7.4152562e-16 2.1533415e-12 7.8879805e-11 ... 4.3293691e-01 4.3865046e-01\n",
      " 5.4310405e-01]\n",
      "i=2\n",
      "accuracy: 0.9531330916623512\n",
      "precision_score: 0.75\n",
      "recall_score: 0.01639344262295082\n",
      "f1_score: 0.0320855614973262\n",
      "roc_auc_score: 0.9622298765553124\n",
      "[6.6750453e-16 2.7309557e-12 5.3386798e-11 ... 5.3810138e-01 5.4415143e-01\n",
      " 6.6492814e-01]\n",
      "i=3\n",
      "accuracy: 0.9518384256861729\n",
      "precision_score: 0.5\n",
      "recall_score: 0.010752688172043012\n",
      "f1_score: 0.02105263157894737\n",
      "roc_auc_score: 0.9676022616916471\n",
      "[7.0485852e-16 2.9207262e-12 8.4832863e-11 ... 4.6482459e-01 5.3420568e-01\n",
      " 5.3581744e-01]\n",
      "i=4\n",
      "accuracy: 0.976954945624029\n",
      "precision_score: 0.0\n",
      "recall_score: 0.0\n",
      "f1_score: 0.0\n",
      "roc_auc_score: 0.9856282218125831\n",
      "[5.99439182e-16 2.20505818e-12 1.14884206e-10 ... 4.06780392e-01\n",
      " 4.40722138e-01 4.71792966e-01]\n",
      "i=5\n",
      "accuracy: 0.9523562920766442\n",
      "precision_score: 0.3333333333333333\n",
      "recall_score: 0.01098901098901099\n",
      "f1_score: 0.02127659574468085\n",
      "roc_auc_score: 0.9685611263736263\n",
      "[4.8956726e-16 3.3647180e-12 5.0170337e-11 ... 5.1354986e-01 5.6772655e-01\n",
      " 6.0661054e-01]\n",
      "i=6\n",
      "accuracy: 0.9528741584671155\n",
      "precision_score: 1.0\n",
      "recall_score: 0.00546448087431694\n",
      "f1_score: 0.010869565217391304\n",
      "roc_auc_score: 0.9677010413556785\n",
      "[1.1920909e-15 2.4714235e-12 7.4843749e-11 ... 4.6602887e-01 4.7126713e-01\n",
      " 6.2392616e-01]\n",
      "i=7\n",
      "accuracy: 0.9528741584671155\n",
      "precision_score: 0.0\n",
      "recall_score: 0.0\n",
      "f1_score: 0.0\n",
      "roc_auc_score: 0.9685820293836598\n",
      "[6.1420487e-16 3.3050492e-12 6.9825014e-11 ... 4.3565717e-01 4.6396363e-01\n",
      " 4.7300860e-01]\n",
      "i=8\n",
      "accuracy: 0.9502848265147592\n",
      "precision_score: 0.6666666666666666\n",
      "recall_score: 0.010362694300518135\n",
      "f1_score: 0.02040816326530612\n",
      "roc_auc_score: 0.9691936502018734\n",
      "[4.7769408e-16 2.7506430e-12 5.1890336e-11 ... 4.5106402e-01 5.0471747e-01\n",
      " 5.7278162e-01]\n",
      "i=9\n",
      "accuracy: 0.9544277576385293\n",
      "precision_score: 0.5\n",
      "recall_score: 0.005681818181818182\n",
      "f1_score: 0.011235955056179775\n",
      "roc_auc_score: 0.9662875191140926\n",
      "[7.2587505e-16 2.5737834e-12 1.4006570e-10 ... 4.8410061e-01 5.0724435e-01\n",
      " 5.4447585e-01]\n",
      "i=10\n",
      "accuracy: 0.9528741584671155\n",
      "precision_score: 0.6\n",
      "recall_score: 0.01639344262295082\n",
      "f1_score: 0.03191489361702128\n",
      "roc_auc_score: 0.9671477608105077\n",
      "[5.2562990e-16 2.4928508e-12 9.1114505e-11 ... 5.2849323e-01 5.4316759e-01\n",
      " 5.6199157e-01]\n",
      "i=11\n",
      "accuracy: 0.9520973588814086\n",
      "precision_score: 0.5\n",
      "recall_score: 0.016216216216216217\n",
      "f1_score: 0.031413612565445025\n",
      "roc_auc_score: 0.9674014509478203\n",
      "[7.5296163e-16 1.8291666e-12 6.5657112e-11 ... 6.3171399e-01 6.6456652e-01\n",
      " 6.7297512e-01]\n",
      "i=12\n",
      "accuracy: 0.9502848265147592\n",
      "precision_score: 0.0\n",
      "recall_score: 0.0\n",
      "f1_score: 0.0\n",
      "roc_auc_score: 0.966809292688465\n",
      "[7.0336515e-16 2.8825557e-12 9.7814631e-11 ... 4.3560630e-01 4.6639434e-01\n",
      " 4.8568380e-01]\n",
      "i=13\n",
      "accuracy: 0.9515794924909373\n",
      "precision_score: 1.0\n",
      "recall_score: 0.005319148936170213\n",
      "f1_score: 0.010582010582010583\n",
      "roc_auc_score: 0.9651714462757272\n",
      "[3.8640597e-16 2.8002440e-12 9.4837568e-11 ... 4.6033889e-01 4.9604213e-01\n",
      " 6.0143244e-01]\n",
      "i=14\n",
      "accuracy: 0.9528741584671155\n",
      "precision_score: 0.0\n",
      "recall_score: 0.0\n",
      "f1_score: 0.0\n",
      "roc_auc_score: 0.9687940456282848\n",
      "[8.2701073e-16 3.0314956e-12 7.1888585e-11 ... 4.3584019e-01 4.5708615e-01\n",
      " 4.7131890e-01]\n",
      "i=15\n",
      "accuracy: 0.9549456240290005\n",
      "precision_score: 0.3333333333333333\n",
      "recall_score: 0.005780346820809248\n",
      "f1_score: 0.011363636363636362\n",
      "roc_auc_score: 0.9675601734260737\n",
      "[7.8233525e-16 1.5095757e-12 1.1797031e-10 ... 4.7459903e-01 5.2536935e-01\n",
      " 5.4092896e-01]\n",
      "i=16\n",
      "accuracy: 0.9725530813050233\n",
      "precision_score: 0.6666666666666666\n",
      "recall_score: 0.037037037037037035\n",
      "f1_score: 0.07017543859649122\n",
      "roc_auc_score: 0.9811559028394403\n",
      "[6.6776176e-16 2.1094498e-12 8.9411346e-11 ... 5.3366470e-01 5.5720502e-01\n",
      " 5.7309997e-01]\n",
      "i=17\n",
      "accuracy: 0.9508026929052305\n",
      "precision_score: 0.5\n",
      "recall_score: 0.005263157894736842\n",
      "f1_score: 0.010416666666666666\n",
      "roc_auc_score: 0.9674170106639147\n",
      "[6.8805265e-16 2.3473170e-12 9.2371055e-11 ... 3.8804746e-01 4.1840753e-01\n",
      " 5.1678771e-01]\n",
      "i=18\n",
      "accuracy: 0.955981356809943\n",
      "precision_score: 0.5\n",
      "recall_score: 0.0058823529411764705\n",
      "f1_score: 0.011627906976744186\n",
      "roc_auc_score: 0.9681146835765726\n",
      "[9.51585824e-16 2.68875460e-12 1.16159526e-10 ... 4.55323368e-01\n",
      " 4.88932192e-01 5.36868691e-01]\n",
      "i=19\n",
      "accuracy: 0.9518384256861729\n",
      "precision_score: 0.5\n",
      "recall_score: 0.005376344086021506\n",
      "f1_score: 0.010638297872340427\n",
      "roc_auc_score: 0.9688505505048732\n",
      "[1.2778880e-15 2.3722701e-12 6.6893366e-11 ... 4.5133165e-01 5.0995892e-01\n",
      " 5.1872116e-01]\n"
     ]
    }
   ],
   "source": [
    "test_acc = 0\n",
    "test_pr = 0\n",
    "test_re = 0\n",
    "test_fs = 0\n",
    "test_auc = 0\n",
    "\n",
    "\n",
    "num_node = adj.shape[0]\n",
    "# setting the model in evaluation mode\n",
    "# model.eval()\n",
    "\n",
    "predictions = []\n",
    "seed_vec_list = []\n",
    "\n",
    "for i, influ_mat in enumerate(inverse_pairs_test):\n",
    "    print(\"i={:d}\".format(i))\n",
    "    seed_vec = influ_mat[:, 0]\n",
    "    influ_vec = influ_mat[:, -1]\n",
    "    V3 = copy.copy(influ_vec)\n",
    "    V4 = copy.copy(influ_vec)\n",
    "    V3[influ_vec < 0.5] =  0\n",
    "    V4[influ_vec >= 0.5] =  1\n",
    "    d1 = influ_vec\n",
    "    d1 = d1[:, np.newaxis]\n",
    "    d2 = (1 - alpha) * np.matmul(np.linalg.inv(np.eye(N=num_node) - alpha * S), influ_vec)\n",
    "    d2 = d2[:, np.newaxis]\n",
    "    d3 = (1 - alpha) * np.matmul(np.linalg.inv(np.eye(N=num_node) - alpha * S), V3)\n",
    "    d3 = d3[:, np.newaxis]\n",
    "    d4 = (1 - alpha) * np.matmul(np.linalg.inv(np.eye(N=num_node) - alpha * S), V4)\n",
    "    d4 = d4[:, np.newaxis]\n",
    "    x = np.concatenate((d1, d2, d3, d4), axis=1)\n",
    "    x = torch.tensor(x,dtype=torch.float).to(device)\n",
    "    seed_vec = torch.tensor(seed_vec).squeeze(-1).long().to(device)\n",
    "    pred = model(x, edge_index)\n",
    "    pred = torch.softmax(pred,dim=1)\n",
    "    pred = pred[:,1].squeeze(-1).cpu().detach().numpy()\n",
    "    # print(pred)\n",
    "    # print(seed_vec)\n",
    "#     if i < 50:\n",
    "#         train_acc += accuracy_score(seed_vec, pred >= 0.5)\n",
    "#         train_pr += precision_score(seed_vec, pred >= 0.5, zero_division=1)\n",
    "#         train_re += recall_score(seed_vec, pred >= 0.5)\n",
    "#         train_fs += f1_score(seed_vec, pred >= 0.5)\n",
    "#         train_auc += roc_auc_score(seed_vec, pred)\n",
    "    # if i >= 50:\n",
    "    print(\"accuracy: \" + str(accuracy_score(seed_vec, pred >=stack_testing_threshold)))\n",
    "    print(\"precision_score: \" + str(precision_score(seed_vec, pred >= stack_testing_threshold, zero_division=0)))\n",
    "    print(\"recall_score: \" + str(recall_score(seed_vec, pred >= stack_testing_threshold)))\n",
    "    print(\"f1_score: \" + str(f1_score(seed_vec, pred >= stack_testing_threshold)))\n",
    "    print(\"roc_auc_score: \" + str(roc_auc_score(seed_vec, pred)))\n",
    "\n",
    "    test_acc += accuracy_score(seed_vec, pred >= stack_testing_threshold)\n",
    "    test_pr += precision_score(seed_vec, pred >= stack_testing_threshold, zero_division=0)\n",
    "    test_re += recall_score(seed_vec, pred >= stack_testing_threshold)\n",
    "    test_fs += f1_score(seed_vec, pred >= stack_testing_threshold)\n",
    "    test_auc += roc_auc_score(seed_vec, pred)\n",
    "\n",
    "    # store  predictions\n",
    "    print(np.unique(pred))\n",
    "    predictions.append(pred)\n",
    "    seed_vec_list.append(seed_vec)\n",
    "    # if i == 0:\n",
    "    #     sum_pred = np.zeros_like(pred)\n",
    "    # sum_pred += pred\n",
    "\n",
    "\n",
    "# print(\"train:\" + '{:.4f}'.format(train_acc / 50) + \"&\" + '{:.4f}'.format(train_pr / 50) + \"&\" + '{:.4f}'.format(\n",
    "#     train_re / 50) + \"&\" + '{:.4f}'.format(train_fs / 50))\n",
    "# print(\"test:\" + '{:.4f}'.format(test_acc / 10) + \"&\" + '{:.4f}'.format(test_pr / 10) + \"&\" + '{:.4f}'.format(\n",
    "#     test_re / 10) + \"&\" + '{:.4f}'.format(test_fs / 10))"
   ]
  },
  {
   "cell_type": "code",
   "execution_count": 138,
   "id": "b724d849",
   "metadata": {},
   "outputs": [
    {
     "name": "stdout",
     "output_type": "stream",
     "text": [
      "test acc: 0.955864836872087\n",
      "test pr: 0.4925\n",
      "test re: 0.008880496527443254\n",
      "test fs: 0.017292384254129455\n",
      "test auc: 0.9699557347685662\n",
      "[array([0., 0., 0., ..., 0., 0., 0.], dtype=float32), array([0., 0., 0., ..., 0., 0., 0.], dtype=float32), array([0., 0., 0., ..., 0., 0., 0.], dtype=float32), array([0., 0., 0., ..., 0., 0., 0.], dtype=float32), array([0., 0., 0., ..., 0., 0., 0.], dtype=float32), array([0., 0., 0., ..., 0., 0., 0.], dtype=float32), array([0., 0., 0., ..., 0., 0., 0.], dtype=float32), array([0., 0., 0., ..., 0., 0., 0.], dtype=float32), array([0., 0., 0., ..., 0., 0., 0.], dtype=float32), array([0., 0., 0., ..., 0., 0., 0.], dtype=float32), array([0., 0., 0., ..., 0., 0., 0.], dtype=float32), array([0., 0., 0., ..., 0., 0., 0.], dtype=float32), array([0., 0., 0., ..., 0., 0., 0.], dtype=float32), array([0., 0., 0., ..., 0., 0., 0.], dtype=float32), array([0., 0., 0., ..., 0., 0., 0.], dtype=float32), array([0., 0., 0., ..., 0., 0., 0.], dtype=float32), array([0., 0., 0., ..., 0., 0., 0.], dtype=float32), array([0., 0., 0., ..., 0., 0., 0.], dtype=float32), array([0., 0., 0., ..., 0., 0., 0.], dtype=float32), array([0., 0., 0., ..., 0., 0., 0.], dtype=float32)]\n",
      "1.0\n",
      "20\n",
      "3862\n"
     ]
    }
   ],
   "source": [
    "# print('training acc:', train_acc / 50)\n",
    "# print('training pr:', train_pr / 50)\n",
    "# print('training re:', train_re / 50)\n",
    "# print('training fs:', train_fs / 50)\n",
    "# print('training auc:', train_auc / 50)\n",
    "print('test acc:', test_acc / inverse_pairs_test.shape[0])\n",
    "print('test pr:', test_pr / inverse_pairs_test.shape[0])\n",
    "print('test re:', test_re / inverse_pairs_test.shape[0])\n",
    "print('test fs:', test_fs / inverse_pairs_test.shape[0])\n",
    "print('test auc:', test_auc / inverse_pairs_test.shape[0])\n",
    "\n",
    "print(predictions)\n",
    "print(np.max(predictions))\n",
    "print(len(predictions))\n",
    "print(len(predictions[0]))\n",
    "\n",
    "\n",
    "# final_avg_pred = sum_pred / inverse_pairs_test.shape[0]\n",
    "# print('final predicted source nodes:', final_avg_pred)\n",
    "# print('average prediction:', np.average(final_avg_pred))\n",
    "# print('max prediction: ', np.max(final_avg_pred))"
   ]
  },
  {
   "cell_type": "code",
   "execution_count": 122,
   "metadata": {},
   "outputs": [],
   "source": [
    "# stack_seed_node_threshold = 0.3"
   ]
  },
  {
   "cell_type": "code",
   "execution_count": 123,
   "id": "37a88434",
   "metadata": {},
   "outputs": [],
   "source": [
    "for pred in predictions:\n",
    "    for i in range(len(pred)):\n",
    "        if pred[i]>=stack_testing_threshold:\n",
    "            pred[i] = 1\n",
    "        else:\n",
    "            pred[i] = 0\n"
   ]
  },
  {
   "cell_type": "code",
   "execution_count": 139,
   "id": "d325dc65",
   "metadata": {},
   "outputs": [
    {
     "name": "stdout",
     "output_type": "stream",
     "text": [
      "[array([0., 0., 0., ..., 0., 0., 0.], dtype=float32), array([0., 0., 0., ..., 0., 0., 0.], dtype=float32), array([0., 0., 0., ..., 0., 0., 0.], dtype=float32), array([0., 0., 0., ..., 0., 0., 0.], dtype=float32), array([0., 0., 0., ..., 0., 0., 0.], dtype=float32), array([0., 0., 0., ..., 0., 0., 0.], dtype=float32), array([0., 0., 0., ..., 0., 0., 0.], dtype=float32), array([0., 0., 0., ..., 0., 0., 0.], dtype=float32), array([0., 0., 0., ..., 0., 0., 0.], dtype=float32), array([0., 0., 0., ..., 0., 0., 0.], dtype=float32), array([0., 0., 0., ..., 0., 0., 0.], dtype=float32), array([0., 0., 0., ..., 0., 0., 0.], dtype=float32), array([0., 0., 0., ..., 0., 0., 0.], dtype=float32), array([0., 0., 0., ..., 0., 0., 0.], dtype=float32), array([0., 0., 0., ..., 0., 0., 0.], dtype=float32), array([0., 0., 0., ..., 0., 0., 0.], dtype=float32), array([0., 0., 0., ..., 0., 0., 0.], dtype=float32), array([0., 0., 0., ..., 0., 0., 0.], dtype=float32), array([0., 0., 0., ..., 0., 0., 0.], dtype=float32), array([0., 0., 0., ..., 0., 0., 0.], dtype=float32)]\n",
      "False\n",
      "False\n",
      "False\n",
      "False\n",
      "False\n",
      "False\n",
      "False\n",
      "False\n",
      "False\n",
      "False\n",
      "False\n",
      "False\n",
      "False\n",
      "False\n",
      "False\n",
      "False\n",
      "False\n",
      "False\n",
      "False\n"
     ]
    }
   ],
   "source": [
    "print(predictions)\n",
    "for i in range(1, len(predictions)):\n",
    "    are_identical = all(a == b for a, b in zip(predictions[i],  predictions[i-1]))\n",
    "    print(are_identical)\n",
    "\n",
    "# for i in range(1, len(seed_vec_list)):\n",
    "#     are_identical = all(a == b for a, b in zip(seed_vec_list[i],  seed_vec_list[i-1]))\n",
    "#     print(are_identical)"
   ]
  },
  {
   "cell_type": "code",
   "execution_count": 125,
   "id": "ad19c941",
   "metadata": {},
   "outputs": [],
   "source": [
    "# write_to_gephi('power_grid', influ_vec, pred, seed_vec)"
   ]
  },
  {
   "cell_type": "code",
   "execution_count": 126,
   "id": "fb354f56",
   "metadata": {},
   "outputs": [],
   "source": [
    "# test_pr = 0\n",
    "# test_re = 0 \n",
    "# test_fs = 0\n",
    "# test_auc = 0\n",
    "# test_pr = precision_score(seed_vec, pred >= 0.1, zero_division=0)\n",
    "# test_re = recall_score(seed_vec, pred >= 0.1)\n",
    "# test_fs = f1_score(seed_vec, pred >= 0.1)\n",
    "# test_auc = roc_auc_score(seed_vec, pred)"
   ]
  },
  {
   "cell_type": "code",
   "execution_count": 127,
   "id": "8e4c3cde",
   "metadata": {},
   "outputs": [],
   "source": [
    "# print(test_pr, test_re, test_fs, test_auc)"
   ]
  },
  {
   "cell_type": "markdown",
   "metadata": {},
   "source": [
    "4. Use the stack seed nodes to find the infected nodes for the github graph "
   ]
  },
  {
   "cell_type": "code",
   "execution_count": 140,
   "id": "3a9170ae",
   "metadata": {},
   "outputs": [
    {
     "name": "stdout",
     "output_type": "stream",
     "text": [
      "check git inf node\n",
      "['g499442' 'g97584']\n",
      "2\n",
      "check git inf node\n",
      "['g6525']\n",
      "1\n",
      "check git inf node\n",
      "['g97584' 'g17597' 'g514178']\n",
      "3\n",
      "check git inf node\n",
      "['g374093' 'g373046']\n",
      "2\n",
      "check git inf node\n",
      "[]\n",
      "0\n",
      "check git inf node\n",
      "['g460329' 'g71117']\n",
      "2\n",
      "check git inf node\n",
      "['g426427']\n",
      "1\n",
      "check git inf node\n",
      "[]\n",
      "0\n",
      "check git inf node\n",
      "['g388296' 'g487649']\n",
      "2\n",
      "check git inf node\n",
      "['g185456']\n",
      "1\n",
      "check git inf node\n",
      "['g17597' 'g405089' 'g101761']\n",
      "3\n",
      "check git inf node\n",
      "['g6525' 'g62574' 'g2246']\n",
      "3\n",
      "check git inf node\n",
      "[]\n",
      "0\n",
      "check git inf node\n",
      "['g290148']\n",
      "1\n",
      "check git inf node\n",
      "[]\n",
      "0\n",
      "check git inf node\n",
      "['g352633']\n",
      "1\n",
      "check git inf node\n",
      "['g150798' 'g499442' 'g834' 'g460329']\n",
      "4\n",
      "check git inf node\n",
      "['g435445']\n",
      "1\n",
      "check git inf node\n",
      "['g157121']\n",
      "1\n",
      "check git inf node\n",
      "['g296723']\n",
      "1\n",
      "check git inf vector\n",
      "[[0, 0, 0, 0, 0, 0, 0, 0, 0, 0, 0, 0, 0, 0, 0, 0, 0, 0, 0, 0, 0, 0, 0, 0, 0, 0, 0, 0, 0, 0, 0, 0, 0, 0, 0, 0, 0, 0, 0, 0, 0, 0, 0, 0, 0, 0, 0, 0, 0, 0, 0, 0, 0, 0, 0, 0, 0, 0, 0, 0, 0, 0, 0, 0, 0, 0, 0, 0, 0, 0, 0, 0, 0, 0, 0, 0, 0, 0, 0, 0, 0, 0, 0, 0, 0, 0, 0, 0, 0, 0, 0, 0, 0, 0, 0, 0, 0, 0, 0, 0, 0, 0, 0, 0, 0, 0, 0, 0, 0, 0, 0, 0, 0, 0, 0, 0, 0, 0, 0, 0, 0, 0, 0, 0, 0, 0, 0, 0, 0, 0, 0, 0, 0, 0, 0, 0, 0, 0, 0, 0, 0, 0, 0, 0, 0, 0, 0, 0, 0, 0, 0, 0, 0, 0, 0, 0, 0, 0, 0, 0, 0, 0, 0, 0, 0, 0, 0, 0, 0, 0, 0, 0, 0, 0, 0, 0, 0, 0, 0, 0, 0, 0, 0, 0, 0, 0, 0, 0, 0, 0, 0, 0, 0, 0, 0, 0, 0, 0, 0, 0, 0, 0, 0, 0, 0, 0, 0, 0, 0, 0, 0, 0, 0, 0, 0, 0, 0, 0, 0, 0, 0, 0, 0, 0, 0, 0, 0, 0, 0, 0, 0, 0, 0, 0, 0, 0, 0, 0, 0, 0, 0, 0, 0, 0, 0, 0, 0, 0, 0, 0, 0, 0, 0, 0, 0, 0, 0, 0, 0, 0, 0, 0, 0, 0, 0, 0, 0, 0, 0, 0, 0, 0, 0, 0, 0, 0, 0, 0, 0, 0, 0, 0, 0, 0, 0, 0, 0, 0, 0, 0, 0, 0, 0, 0, 0, 0, 0, 0, 0, 0, 0, 0, 0, 0, 0, 1, 0, 0, 0, 0, 0, 0, 0, 0, 0, 0, 0, 0, 0, 0, 0, 0, 0, 0, 0, 0, 0, 0, 0, 0, 0, 0, 0, 0, 0, 0, 0, 0, 0, 0, 0, 0, 0, 0, 0, 0, 0, 0, 0, 0, 0, 0, 0, 0, 0, 0, 0, 0, 0, 0, 0, 0, 0, 0, 0, 0, 0, 0, 0, 0, 0, 0, 0, 0, 0, 0, 0, 0, 0, 0, 0, 0, 0, 0, 0, 0, 0, 0, 0, 0, 0, 0, 0, 0, 0, 0, 0, 0, 0, 0, 0, 0, 0, 0, 0, 0, 0, 0, 0, 0, 0, 0, 0, 0, 0, 0, 0, 0, 0, 0, 0, 0, 0, 0, 0, 0, 0, 0, 0, 0, 0, 0, 0, 0, 0, 0, 0, 0, 0, 0, 0, 0, 0, 0, 0, 0, 0, 0, 0, 0, 0, 0, 0, 0, 0, 0, 0, 0, 0, 0, 0, 0, 0, 0, 0, 0, 0, 0, 0, 0, 0, 0, 0, 0, 0, 0, 0, 0, 0, 0, 0, 0, 0, 0, 0, 0, 0, 0, 0, 0, 0, 0, 0, 0, 0, 0, 0, 0, 0, 0, 0, 0, 0, 0, 0, 0, 0, 0, 0, 0, 0, 0, 0, 0, 0, 0, 0, 0, 0, 0, 0, 0, 0, 0, 0, 0, 0, 0, 0, 0, 0, 0, 0, 0, 0, 0, 0, 0, 0, 0, 0, 0, 0, 0, 0, 0, 0, 0, 0, 0, 0, 0, 0, 0, 0, 0, 0, 0, 0, 0, 0, 0, 0, 0, 0, 0, 0, 0, 0, 0, 0, 0, 0, 0, 0, 0, 0, 0, 0, 0, 0, 0, 0, 0, 0, 0, 0, 0, 0, 0, 0, 0, 0, 0, 0, 0, 0, 0, 0, 0, 0, 0, 0, 0, 0, 0, 0, 0, 0, 0, 0, 0, 0, 0, 0, 0, 0, 0, 0, 0, 0, 0, 0, 0, 0, 0, 0, 0, 0, 0, 0, 0, 0, 0, 0, 0, 0, 0, 0, 0, 0, 0, 0, 0, 0, 0, 0, 0, 0, 0, 0, 0, 0, 0, 0, 0, 0, 0, 0, 0, 0, 0, 0, 0, 0, 0, 0, 0, 0, 0, 0, 0, 0, 0, 0, 0, 0, 0, 0, 0, 0, 0, 0, 0, 0, 0, 0, 0, 0, 0, 0, 0, 0, 0, 0, 0, 0, 0, 0, 0, 0, 0, 0, 0, 0, 0, 0, 0, 0, 0, 0, 0, 0, 0, 0, 0, 0, 0, 0, 0, 0, 0, 0, 0, 0, 0, 0, 0, 0, 0, 0, 0, 0, 0, 0, 0, 0, 0, 0, 0, 0, 0, 0, 0, 0, 0, 0, 0, 0, 0, 0, 0, 0, 0, 0, 0, 0, 0, 0, 0, 0, 0, 0, 0, 0, 0, 0, 0, 0, 0, 0, 0, 0, 0, 0, 0, 0, 0, 0, 0, 0, 0, 0, 0, 0, 0, 0, 0, 0, 0, 0, 0, 0, 0, 0, 0, 0, 0, 0, 0, 0, 0, 0, 0, 0, 0, 0, 0, 0, 0, 0, 0, 0, 0, 0, 0, 0, 0, 0, 0, 0, 0, 0, 0, 0, 0, 0, 0, 0, 0, 0, 0, 0, 0, 0, 0, 0, 0, 0, 0, 0, 0, 0, 0, 0, 0, 0, 0, 0, 0, 0, 0, 0, 0, 0, 0, 0, 0, 0, 0, 0, 0, 0, 0, 0, 0, 0, 0, 0, 0, 0, 0, 0, 0, 0, 0, 0, 0, 0, 0, 0, 0, 0, 0, 0, 0, 0, 0, 0, 0, 0, 0, 0, 0, 0, 0, 0, 0, 0, 0, 0, 0, 0, 0, 0, 0, 0, 0, 0, 0, 0, 0, 0, 0, 0, 0, 0, 0, 0, 0, 0, 0, 0, 0, 0, 0, 0, 0, 0, 0, 0, 0, 0, 0, 0, 0, 0, 0, 0, 0, 0, 0, 0, 0, 0, 0, 0, 0, 0, 0, 0, 0, 0, 0, 0, 0, 0, 0, 0, 0, 0, 0, 0, 0, 0, 0, 0, 0, 0, 0, 0, 0, 0, 0, 0, 0, 1, 0, 0, 0, 0, 0, 0, 0, 0, 0, 0, 0, 0, 0, 0, 0, 0, 0, 0, 0, 0, 0, 0, 0, 0, 0, 0, 0, 0, 0, 0, 0, 0, 0, 0, 0, 0, 0, 0, 0, 0, 0, 0, 0, 0, 0, 0, 0, 0, 0, 0, 0, 0, 0, 0, 0, 0, 0, 0, 0, 0, 0, 0, 0, 0, 0, 0, 0, 0, 0, 0, 0, 0, 0, 0, 0, 0, 0, 0, 0, 0, 0, 0, 0, 0, 0, 0, 0, 0, 0, 0, 0, 0, 0, 0, 0, 0, 0, 0, 0, 0, 0, 0, 0, 0, 0, 0, 0, 0, 0, 0, 0, 0, 0, 0, 0, 0, 0, 0, 0, 0, 0, 0, 0, 0, 0, 0, 0, 0, 0, 0, 0, 0, 0, 0, 0, 0, 0, 0, 0, 0, 0, 0, 0, 0, 0, 0, 0, 0, 0, 0, 0, 0, 0, 0, 0, 0, 0, 0, 0, 0, 0, 0, 0, 0, 0, 0, 0, 0, 0, 0, 0, 0, 0, 0, 0, 0, 0, 0, 0, 0, 0, 0, 0, 0, 0, 0, 0, 0, 0, 0, 0, 0, 0, 0, 0, 0, 0, 0, 0, 0, 0, 0, 0, 0, 0, 0, 0, 0, 0, 0, 0, 0, 0, 0, 0, 0, 0, 0, 0, 0, 0, 0, 0, 0, 0, 0, 0], [0, 0, 0, 0, 0, 0, 0, 0, 0, 0, 0, 0, 0, 0, 0, 0, 0, 0, 0, 0, 0, 0, 0, 0, 0, 0, 0, 0, 0, 0, 0, 0, 0, 0, 0, 0, 0, 0, 0, 0, 0, 0, 0, 0, 0, 0, 0, 0, 0, 0, 0, 0, 0, 0, 0, 0, 0, 0, 0, 0, 0, 0, 0, 0, 0, 0, 0, 0, 0, 0, 0, 0, 0, 0, 0, 0, 0, 0, 0, 0, 0, 0, 0, 0, 0, 0, 0, 0, 0, 0, 0, 0, 0, 0, 0, 0, 0, 0, 0, 0, 0, 0, 0, 0, 0, 0, 0, 0, 0, 0, 0, 0, 0, 0, 0, 0, 0, 0, 0, 0, 0, 0, 0, 0, 0, 0, 0, 0, 0, 0, 0, 0, 0, 0, 0, 0, 0, 0, 0, 0, 0, 0, 0, 0, 0, 0, 0, 0, 0, 0, 0, 0, 0, 0, 0, 0, 0, 0, 0, 0, 0, 0, 0, 0, 0, 0, 0, 0, 0, 0, 0, 0, 0, 0, 0, 0, 0, 0, 0, 0, 0, 0, 0, 0, 0, 0, 0, 0, 0, 0, 0, 0, 0, 0, 0, 0, 0, 0, 0, 0, 0, 0, 0, 0, 0, 0, 0, 0, 0, 0, 0, 0, 0, 0, 0, 0, 0, 0, 0, 0, 0, 0, 0, 0, 0, 0, 0, 0, 0, 0, 0, 0, 0, 0, 0, 0, 0, 0, 0, 0, 0, 0, 0, 0, 0, 0, 0, 0, 0, 0, 0, 0, 0, 0, 0, 0, 0, 0, 0, 0, 0, 0, 0, 0, 0, 0, 0, 0, 0, 0, 0, 0, 0, 0, 0, 0, 0, 0, 0, 0, 0, 0, 0, 0, 0, 0, 0, 0, 0, 0, 0, 0, 0, 0, 0, 0, 0, 0, 0, 0, 0, 0, 0, 0, 0, 0, 0, 0, 0, 0, 0, 0, 0, 0, 0, 0, 0, 0, 0, 0, 0, 0, 0, 0, 0, 0, 0, 0, 0, 0, 0, 0, 0, 0, 0, 0, 0, 0, 0, 0, 0, 0, 0, 0, 0, 0, 0, 0, 0, 0, 0, 0, 0, 0, 0, 0, 0, 0, 0, 0, 0, 0, 0, 0, 0, 0, 0, 0, 0, 0, 0, 0, 0, 0, 0, 0, 0, 0, 0, 0, 0, 0, 0, 0, 0, 0, 0, 0, 0, 0, 0, 0, 0, 0, 0, 0, 0, 0, 0, 0, 0, 0, 0, 0, 0, 0, 0, 0, 0, 0, 0, 0, 0, 0, 0, 0, 0, 0, 0, 0, 0, 0, 0, 0, 0, 0, 0, 0, 0, 0, 0, 0, 0, 0, 0, 0, 0, 0, 0, 0, 0, 0, 0, 0, 0, 0, 0, 0, 0, 0, 0, 0, 0, 0, 0, 0, 0, 0, 0, 0, 0, 0, 0, 0, 0, 0, 0, 0, 0, 0, 0, 0, 0, 0, 0, 0, 0, 0, 0, 0, 0, 0, 0, 0, 0, 0, 0, 0, 0, 0, 0, 0, 0, 0, 0, 0, 0, 0, 0, 0, 0, 0, 0, 0, 0, 0, 0, 0, 0, 0, 0, 0, 0, 0, 0, 0, 0, 0, 0, 0, 0, 0, 0, 0, 0, 0, 0, 0, 0, 0, 0, 0, 0, 0, 0, 0, 0, 0, 0, 0, 0, 0, 0, 0, 0, 0, 0, 0, 0, 0, 0, 0, 0, 0, 0, 0, 0, 0, 0, 0, 0, 0, 0, 0, 0, 0, 0, 0, 0, 0, 0, 0, 0, 0, 0, 0, 0, 0, 0, 0, 0, 0, 0, 0, 0, 0, 0, 0, 0, 0, 0, 0, 0, 0, 0, 0, 0, 0, 0, 0, 0, 0, 0, 0, 0, 0, 0, 0, 0, 0, 0, 0, 0, 0, 0, 0, 0, 0, 0, 0, 0, 0, 0, 0, 0, 0, 0, 0, 0, 0, 0, 0, 0, 0, 0, 0, 0, 0, 0, 0, 0, 0, 0, 0, 0, 0, 0, 0, 0, 0, 0, 0, 0, 0, 0, 0, 0, 0, 0, 0, 0, 0, 0, 0, 0, 0, 0, 0, 0, 0, 0, 0, 0, 0, 0, 0, 0, 0, 0, 0, 0, 0, 0, 0, 0, 0, 0, 0, 0, 0, 0, 0, 0, 0, 0, 0, 0, 0, 0, 0, 0, 0, 0, 0, 0, 0, 0, 0, 0, 0, 0, 0, 0, 0, 0, 0, 0, 0, 0, 0, 0, 0, 0, 0, 0, 0, 0, 0, 0, 0, 0, 0, 0, 0, 0, 0, 0, 0, 0, 0, 0, 0, 0, 0, 0, 0, 0, 0, 0, 0, 0, 0, 0, 0, 0, 0, 0, 0, 0, 0, 0, 0, 0, 0, 0, 0, 0, 0, 0, 0, 0, 0, 0, 0, 0, 0, 0, 0, 0, 0, 0, 0, 0, 0, 0, 0, 0, 0, 0, 0, 0, 0, 0, 0, 0, 0, 0, 0, 0, 0, 0, 0, 0, 0, 0, 0, 0, 0, 0, 0, 0, 0, 0, 0, 0, 0, 0, 0, 0, 0, 0, 0, 0, 0, 0, 0, 0, 0, 0, 0, 0, 0, 0, 0, 0, 0, 0, 0, 0, 0, 0, 0, 0, 0, 0, 0, 0, 0, 0, 0, 0, 0, 0, 0, 0, 0, 0, 0, 0, 0, 0, 0, 0, 0, 0, 0, 0, 0, 0, 0, 0, 0, 0, 0, 0, 0, 0, 0, 0, 0, 0, 0, 0, 0, 0, 0, 0, 0, 0, 0, 0, 0, 0, 0, 0, 0, 0, 0, 0, 0, 0, 0, 0, 0, 0, 0, 0, 0, 0, 0, 0, 0, 0, 0, 0, 0, 0, 0, 0, 0, 0, 0, 0, 0, 0, 0, 0, 0, 0, 0, 0, 0, 0, 0, 0, 0, 0, 0, 0, 0, 0, 0, 0, 0, 0, 0, 0, 0, 0, 0, 0, 0, 0, 0, 0, 0, 0, 0, 0, 0, 0, 0, 0, 0, 0, 0, 0, 0, 0, 0, 0, 0, 0, 0, 0, 0, 0, 0, 0, 0, 0, 0, 0, 0, 0, 0, 0, 0, 0, 0, 0, 0, 0, 0, 0, 0, 0, 0, 0, 0, 0, 0, 0, 0, 0, 0, 0, 0, 0, 0, 0, 0, 0, 0, 0, 0, 0, 0, 0, 0, 0, 0, 0, 0, 0, 0, 0, 0, 0, 0, 0, 0, 0, 0, 0, 0, 0, 0, 0, 0, 0, 0, 0, 0, 0, 0, 0, 0, 0, 0, 0, 0, 0, 0, 0, 0, 0, 0, 0, 0, 0, 0, 0, 0, 0, 0, 0, 0, 0, 0, 0, 0, 0, 0, 0, 0, 0, 0, 0, 0, 0, 0, 0, 0, 0, 1, 0, 0, 0, 0, 0, 0, 0, 0, 0, 0, 0, 0, 0, 0, 0, 0, 0, 0, 0, 0, 0, 0, 0, 0, 0, 0, 0, 0, 0, 0, 0, 0, 0, 0, 0, 0, 0, 0, 0, 0, 0, 0, 0, 0, 0, 0, 0, 0, 0, 0, 0, 0, 0, 0, 0, 0, 0, 0, 0, 0, 0, 0, 0, 0, 0, 0, 0, 0, 0, 0, 0, 0, 0, 0, 0, 0, 0, 0, 0, 0, 0, 0, 0, 0, 0, 0, 0, 0, 0, 0, 0, 0, 0, 0, 0, 0, 0, 0, 0, 0, 0, 0, 0, 0, 0, 0, 0, 0, 0, 0, 0, 0, 0, 0, 0, 0, 0, 0], [0, 0, 0, 0, 0, 0, 0, 0, 0, 0, 0, 0, 0, 0, 0, 0, 0, 0, 0, 0, 0, 0, 0, 0, 0, 0, 0, 0, 0, 0, 0, 0, 0, 0, 0, 0, 0, 0, 0, 0, 0, 0, 0, 0, 0, 0, 0, 0, 0, 0, 0, 0, 0, 0, 0, 0, 0, 0, 0, 0, 0, 0, 0, 0, 0, 0, 0, 0, 0, 0, 0, 0, 0, 0, 0, 0, 0, 0, 0, 0, 0, 0, 0, 0, 0, 0, 0, 0, 0, 0, 0, 0, 0, 0, 0, 0, 0, 0, 0, 0, 0, 0, 0, 0, 0, 0, 0, 0, 0, 0, 0, 0, 0, 0, 0, 0, 0, 0, 0, 0, 0, 0, 0, 0, 0, 0, 0, 0, 0, 0, 0, 0, 0, 0, 0, 0, 0, 0, 0, 0, 0, 0, 0, 0, 0, 0, 0, 0, 0, 0, 0, 0, 0, 0, 0, 0, 0, 0, 0, 0, 0, 0, 0, 0, 0, 0, 0, 0, 0, 0, 0, 0, 0, 0, 0, 0, 0, 0, 0, 0, 0, 0, 0, 0, 0, 0, 0, 0, 0, 0, 0, 0, 0, 0, 0, 0, 0, 0, 0, 0, 0, 0, 0, 0, 0, 0, 0, 0, 0, 0, 0, 0, 0, 0, 0, 0, 0, 0, 0, 0, 0, 0, 0, 0, 0, 0, 0, 0, 0, 0, 0, 0, 0, 0, 0, 0, 0, 0, 0, 0, 0, 0, 0, 0, 0, 0, 0, 0, 0, 0, 0, 0, 0, 0, 0, 0, 0, 0, 0, 0, 0, 0, 0, 0, 0, 0, 0, 0, 0, 0, 0, 0, 0, 0, 0, 0, 0, 0, 0, 0, 0, 0, 0, 0, 0, 0, 0, 0, 0, 0, 0, 0, 0, 0, 0, 0, 0, 0, 0, 0, 0, 0, 0, 0, 0, 0, 0, 0, 0, 0, 0, 0, 0, 0, 0, 0, 0, 0, 0, 0, 0, 0, 0, 0, 0, 0, 0, 0, 0, 0, 0, 0, 0, 0, 0, 0, 0, 0, 0, 0, 0, 0, 0, 0, 0, 0, 0, 0, 0, 0, 0, 0, 0, 0, 0, 0, 0, 0, 0, 0, 0, 0, 0, 0, 0, 0, 0, 0, 0, 0, 0, 0, 0, 0, 0, 0, 0, 0, 0, 0, 0, 0, 0, 0, 0, 0, 0, 0, 0, 0, 0, 0, 0, 0, 0, 0, 0, 0, 0, 0, 0, 0, 0, 0, 0, 0, 0, 0, 0, 0, 0, 0, 0, 0, 0, 0, 0, 0, 0, 0, 0, 0, 0, 0, 0, 0, 0, 0, 0, 0, 0, 0, 0, 0, 0, 0, 0, 0, 0, 0, 0, 0, 0, 0, 0, 0, 0, 0, 0, 0, 0, 0, 0, 0, 0, 0, 0, 0, 0, 0, 0, 0, 0, 0, 0, 0, 0, 0, 0, 0, 0, 0, 0, 0, 0, 0, 0, 0, 0, 0, 0, 0, 0, 0, 0, 0, 0, 0, 0, 0, 0, 0, 0, 0, 0, 0, 0, 0, 0, 0, 0, 0, 0, 0, 0, 0, 0, 0, 0, 0, 0, 0, 0, 0, 0, 0, 0, 0, 0, 0, 0, 0, 0, 0, 0, 0, 0, 0, 0, 0, 0, 0, 0, 0, 0, 0, 0, 0, 0, 0, 0, 0, 0, 0, 0, 0, 0, 0, 0, 0, 0, 0, 0, 0, 0, 0, 0, 0, 0, 0, 0, 0, 0, 0, 0, 0, 0, 0, 0, 0, 0, 0, 0, 0, 0, 0, 0, 0, 0, 0, 0, 0, 0, 0, 0, 0, 0, 0, 0, 0, 0, 0, 0, 0, 0, 0, 0, 0, 0, 0, 0, 0, 0, 0, 0, 0, 0, 0, 0, 0, 0, 0, 0, 0, 0, 0, 0, 0, 0, 0, 0, 0, 0, 0, 0, 0, 0, 0, 0, 0, 0, 0, 0, 0, 0, 0, 0, 0, 0, 0, 0, 0, 0, 0, 0, 0, 0, 0, 0, 0, 0, 0, 0, 0, 0, 0, 0, 0, 1, 0, 0, 0, 0, 0, 0, 0, 0, 0, 0, 0, 0, 0, 0, 0, 0, 0, 0, 0, 0, 0, 0, 0, 0, 0, 0, 0, 0, 0, 0, 0, 0, 0, 0, 0, 0, 0, 0, 0, 0, 0, 0, 0, 0, 0, 0, 0, 0, 0, 0, 0, 0, 0, 0, 0, 0, 0, 0, 0, 0, 0, 0, 0, 0, 0, 0, 0, 0, 0, 0, 0, 0, 0, 0, 0, 0, 0, 0, 0, 0, 0, 0, 0, 0, 0, 0, 0, 0, 0, 0, 0, 0, 0, 0, 0, 0, 0, 0, 0, 0, 0, 0, 0, 0, 0, 0, 0, 0, 0, 0, 0, 0, 0, 0, 0, 0, 0, 0, 0, 0, 0, 0, 0, 0, 0, 0, 0, 0, 0, 0, 0, 0, 0, 0, 0, 0, 0, 0, 0, 0, 0, 0, 0, 0, 0, 0, 0, 0, 0, 0, 0, 0, 0, 0, 0, 0, 0, 0, 0, 0, 0, 0, 0, 0, 0, 0, 0, 0, 0, 0, 0, 0, 0, 0, 0, 0, 0, 0, 0, 0, 0, 0, 0, 0, 0, 0, 0, 0, 0, 0, 0, 0, 0, 0, 0, 0, 0, 0, 0, 0, 0, 0, 0, 0, 0, 0, 0, 0, 0, 0, 0, 0, 0, 0, 0, 0, 0, 0, 0, 0, 0, 0, 0, 0, 0, 0, 0, 0, 0, 0, 0, 0, 0, 0, 0, 0, 0, 0, 0, 0, 0, 0, 0, 0, 0, 0, 0, 0, 0, 0, 0, 0, 0, 0, 0, 0, 0, 0, 0, 0, 0, 0, 0, 0, 0, 0, 0, 0, 0, 0, 0, 0, 0, 0, 0, 0, 0, 0, 0, 0, 0, 0, 0, 0, 0, 0, 0, 0, 0, 0, 0, 0, 0, 0, 0, 0, 0, 0, 0, 0, 0, 0, 0, 0, 0, 0, 0, 0, 0, 0, 0, 0, 0, 0, 0, 0, 0, 1, 0, 0, 0, 0, 0, 0, 0, 0, 0, 0, 0, 0, 0, 0, 0, 0, 0, 0, 0, 0, 0, 0, 0, 0, 0, 0, 0, 0, 0, 0, 0, 0, 0, 0, 0, 0, 0, 0, 0, 0, 0, 0, 0, 0, 0, 0, 0, 0, 0, 0, 0, 0, 0, 0, 0, 0, 0, 0, 0, 0, 0, 0, 0, 0, 0, 0, 0, 0, 0, 0, 0, 0, 0, 0, 0, 0, 0, 0, 0, 0, 0, 0, 0, 0, 0, 0, 0, 0, 0, 0, 0, 0, 0, 0, 0, 0, 0, 0, 0, 0, 0, 0, 0, 0, 0, 0, 0, 0, 0, 0, 0, 0, 0, 0, 0, 0, 0, 0, 0, 0, 0, 0, 0, 0, 0, 0, 0, 0, 0, 0, 0, 0, 0, 0, 0, 0, 0, 0, 0, 0, 0, 0, 0, 0, 0, 0, 0, 0, 0, 0, 0, 0, 0, 0, 0, 0, 0, 0, 0, 0, 0, 0, 0, 0, 0, 0, 0, 0, 0, 0, 0, 0, 0, 0, 0, 0, 0, 0, 0, 0, 0, 0, 0, 0, 0, 0, 0, 0, 0, 0, 0, 0, 0, 0, 0, 0, 0, 0, 0, 0, 0, 0, 0, 0, 0, 0, 0, 0, 0, 0, 0, 0, 0, 0, 0, 1, 0, 0, 0, 0, 0, 0, 0, 0, 0, 0, 0], [0, 0, 0, 0, 0, 0, 0, 0, 0, 0, 0, 0, 0, 0, 0, 0, 0, 0, 0, 0, 0, 0, 0, 0, 0, 0, 0, 0, 0, 0, 0, 0, 0, 0, 0, 0, 0, 0, 0, 0, 0, 0, 0, 0, 0, 0, 0, 0, 0, 0, 0, 0, 0, 0, 0, 0, 0, 0, 0, 0, 0, 0, 0, 0, 0, 0, 0, 0, 0, 0, 0, 0, 0, 0, 0, 0, 0, 0, 0, 0, 0, 0, 0, 0, 0, 0, 0, 0, 0, 0, 0, 0, 0, 0, 0, 0, 0, 0, 0, 0, 0, 0, 0, 0, 0, 0, 0, 0, 0, 0, 0, 0, 0, 0, 0, 0, 0, 0, 0, 0, 0, 0, 0, 0, 0, 0, 0, 0, 0, 0, 0, 0, 0, 0, 0, 0, 0, 0, 0, 0, 0, 0, 0, 0, 0, 0, 0, 0, 0, 0, 0, 0, 0, 0, 0, 0, 0, 0, 0, 0, 0, 0, 0, 0, 0, 0, 0, 0, 0, 0, 0, 0, 0, 0, 0, 0, 0, 0, 0, 0, 0, 0, 0, 0, 0, 0, 0, 0, 0, 0, 0, 0, 0, 0, 0, 0, 0, 0, 0, 0, 0, 0, 0, 0, 0, 0, 0, 0, 0, 0, 0, 0, 0, 0, 0, 0, 0, 0, 0, 0, 0, 0, 0, 0, 0, 0, 0, 0, 0, 0, 0, 0, 0, 0, 0, 0, 0, 0, 0, 0, 0, 0, 0, 0, 0, 0, 0, 0, 0, 0, 0, 0, 0, 0, 0, 0, 0, 0, 0, 0, 0, 0, 0, 0, 0, 0, 0, 0, 0, 0, 0, 0, 0, 0, 0, 0, 0, 0, 0, 0, 0, 0, 0, 0, 0, 0, 0, 0, 0, 0, 0, 0, 0, 0, 0, 0, 0, 0, 0, 0, 0, 0, 0, 0, 0, 0, 0, 0, 0, 0, 0, 0, 0, 0, 0, 0, 0, 0, 0, 0, 0, 0, 0, 0, 0, 0, 0, 0, 0, 0, 0, 0, 0, 0, 0, 0, 0, 0, 0, 0, 0, 0, 0, 0, 0, 0, 0, 0, 0, 0, 0, 0, 0, 0, 0, 0, 0, 0, 0, 0, 0, 0, 0, 0, 0, 0, 0, 0, 0, 0, 0, 0, 0, 0, 0, 0, 0, 0, 0, 0, 0, 0, 0, 0, 0, 0, 0, 0, 0, 0, 0, 0, 0, 0, 0, 0, 0, 0, 0, 0, 0, 0, 0, 0, 0, 0, 0, 0, 0, 0, 0, 0, 0, 0, 0, 0, 0, 0, 0, 0, 0, 0, 0, 0, 0, 0, 0, 0, 0, 0, 0, 0, 0, 0, 0, 0, 0, 0, 0, 0, 0, 0, 0, 0, 0, 0, 0, 0, 0, 0, 0, 0, 0, 0, 0, 0, 0, 0, 0, 0, 0, 0, 0, 0, 0, 0, 0, 0, 0, 0, 0, 0, 0, 0, 0, 0, 0, 0, 0, 0, 0, 0, 0, 0, 0, 0, 0, 0, 0, 0, 0, 0, 0, 0, 0, 0, 0, 0, 0, 0, 0, 0, 0, 0, 0, 0, 0, 0, 0, 0, 0, 0, 0, 0, 0, 0, 0, 0, 0, 0, 0, 0, 0, 0, 0, 0, 0, 0, 0, 0, 0, 0, 0, 0, 0, 0, 0, 0, 0, 0, 0, 0, 0, 0, 0, 0, 0, 0, 0, 0, 0, 0, 0, 0, 0, 0, 0, 0, 0, 0, 0, 0, 0, 0, 0, 0, 0, 0, 0, 0, 0, 0, 0, 0, 0, 0, 0, 0, 0, 0, 0, 0, 0, 0, 0, 0, 0, 0, 0, 0, 0, 0, 0, 0, 0, 0, 0, 0, 0, 0, 0, 0, 0, 0, 0, 0, 0, 0, 0, 0, 0, 0, 0, 0, 0, 0, 0, 0, 0, 0, 0, 0, 0, 0, 0, 0, 0, 0, 0, 0, 0, 0, 0, 0, 0, 0, 0, 0, 0, 0, 0, 0, 0, 0, 0, 0, 0, 0, 0, 0, 0, 0, 0, 0, 0, 0, 0, 0, 0, 0, 0, 0, 0, 0, 0, 0, 0, 0, 0, 0, 0, 0, 0, 0, 0, 0, 0, 0, 0, 0, 0, 0, 0, 0, 0, 0, 0, 0, 0, 0, 0, 0, 0, 0, 0, 0, 0, 0, 0, 0, 0, 0, 0, 0, 0, 0, 0, 0, 0, 0, 0, 0, 0, 0, 0, 0, 0, 0, 0, 0, 0, 0, 0, 0, 0, 0, 0, 0, 0, 0, 0, 0, 0, 0, 0, 0, 0, 0, 0, 0, 0, 0, 0, 0, 0, 0, 0, 0, 0, 0, 0, 0, 0, 0, 0, 0, 0, 0, 0, 0, 0, 0, 0, 0, 0, 0, 0, 0, 0, 0, 0, 0, 0, 0, 0, 0, 0, 0, 0, 0, 0, 0, 0, 0, 0, 0, 0, 0, 0, 0, 0, 0, 0, 0, 0, 0, 0, 0, 0, 0, 0, 0, 0, 0, 0, 0, 0, 0, 0, 0, 0, 0, 0, 0, 0, 0, 0, 0, 0, 0, 0, 0, 0, 0, 0, 0, 0, 0, 0, 0, 0, 0, 0, 0, 0, 0, 0, 0, 0, 0, 0, 0, 0, 0, 0, 0, 0, 0, 0, 0, 0, 0, 0, 0, 0, 0, 0, 0, 0, 0, 0, 0, 0, 0, 0, 0, 0, 0, 0, 0, 0, 0, 0, 0, 0, 0, 0, 0, 0, 0, 0, 0, 0, 0, 0, 0, 0, 0, 0, 0, 0, 0, 0, 0, 0, 0, 0, 0, 0, 0, 0, 0, 0, 0, 0, 0, 0, 0, 0, 0, 0, 0, 0, 0, 0, 0, 0, 0, 0, 0, 0, 0, 0, 0, 0, 0, 0, 0, 0, 0, 0, 0, 0, 0, 0, 0, 0, 0, 0, 0, 0, 0, 0, 0, 0, 0, 0, 0, 0, 0, 0, 0, 1, 0, 0, 0, 0, 0, 0, 0, 1, 0, 0, 0, 0, 0, 0, 0, 0, 0, 0, 0, 0, 0, 0, 0, 0, 0, 0, 0, 0, 0, 0, 0, 0, 0, 0, 0, 0, 0, 0, 0, 0, 0, 0, 0, 0, 0, 0, 0, 0, 0, 0, 0, 0, 0, 0, 0, 0, 0, 0, 0, 0, 0, 0, 0, 0, 0, 0, 0, 0, 0, 0, 0, 0, 0, 0, 0, 0, 0, 0, 0, 0, 0, 0, 0, 0, 0, 0, 0, 0, 0, 0, 0, 0, 0, 0, 0, 0, 0, 0, 0, 0, 0, 0, 0, 0, 0, 0, 0, 0, 0, 0, 0, 0, 0, 0, 0, 0, 0, 0, 0, 0, 0, 0, 0, 0, 0, 0, 0, 0, 0, 0, 0, 0, 0, 0, 0, 0, 0, 0, 0, 0, 0, 0, 0, 0, 0, 0, 0, 0, 0, 0, 0, 0, 0, 0, 0, 0, 0, 0, 0, 0, 0, 0, 0, 0, 0, 0, 0, 0, 0, 0, 0, 0, 0, 0, 0, 0, 0, 0, 0, 0, 0, 0, 0, 0, 0, 0, 0, 0, 0, 0, 0, 0, 0, 0, 0, 0, 0, 0, 0, 0, 0, 0, 0, 0, 0, 0, 0, 0, 0, 0, 0, 0, 0, 0, 0, 0, 0, 0, 0, 0, 0, 0, 0, 0, 0, 0, 0, 0, 0, 0, 0, 0, 0, 0, 0, 0, 0, 0, 0, 0, 0, 0, 0, 0, 0, 0, 0, 0, 0, 0, 0], [0, 0, 0, 0, 0, 0, 0, 0, 0, 0, 0, 0, 0, 0, 0, 0, 0, 0, 0, 0, 0, 0, 0, 0, 0, 0, 0, 0, 0, 0, 0, 0, 0, 0, 0, 0, 0, 0, 0, 0, 0, 0, 0, 0, 0, 0, 0, 0, 0, 0, 0, 0, 0, 0, 0, 0, 0, 0, 0, 0, 0, 0, 0, 0, 0, 0, 0, 0, 0, 0, 0, 0, 0, 0, 0, 0, 0, 0, 0, 0, 0, 0, 0, 0, 0, 0, 0, 0, 0, 0, 0, 0, 0, 0, 0, 0, 0, 0, 0, 0, 0, 0, 0, 0, 0, 0, 0, 0, 0, 0, 0, 0, 0, 0, 0, 0, 0, 0, 0, 0, 0, 0, 0, 0, 0, 0, 0, 0, 0, 0, 0, 0, 0, 0, 0, 0, 0, 0, 0, 0, 0, 0, 0, 0, 0, 0, 0, 0, 0, 0, 0, 0, 0, 0, 0, 0, 0, 0, 0, 0, 0, 0, 0, 0, 0, 0, 0, 0, 0, 0, 0, 0, 0, 0, 0, 0, 0, 0, 0, 0, 0, 0, 0, 0, 0, 0, 0, 0, 0, 0, 0, 0, 0, 0, 0, 0, 0, 0, 0, 0, 0, 0, 0, 0, 0, 0, 0, 0, 0, 0, 0, 0, 0, 0, 0, 0, 0, 0, 0, 0, 0, 0, 0, 0, 0, 0, 0, 0, 0, 0, 0, 0, 0, 0, 0, 0, 0, 0, 0, 0, 0, 0, 0, 0, 0, 0, 0, 0, 0, 0, 0, 0, 0, 0, 0, 0, 0, 0, 0, 0, 0, 0, 0, 0, 0, 0, 0, 0, 0, 0, 0, 0, 0, 0, 0, 0, 0, 0, 0, 0, 0, 0, 0, 0, 0, 0, 0, 0, 0, 0, 0, 0, 0, 0, 0, 0, 0, 0, 0, 0, 0, 0, 0, 0, 0, 0, 0, 0, 0, 0, 0, 0, 0, 0, 0, 0, 0, 0, 0, 0, 0, 0, 0, 0, 0, 0, 0, 0, 0, 0, 0, 0, 0, 0, 0, 0, 0, 0, 0, 0, 0, 0, 0, 0, 0, 0, 0, 0, 0, 0, 0, 0, 0, 0, 0, 0, 0, 0, 0, 0, 0, 0, 0, 0, 0, 0, 0, 0, 0, 0, 0, 0, 0, 0, 0, 0, 0, 0, 0, 0, 0, 0, 0, 0, 0, 0, 0, 0, 0, 0, 0, 0, 0, 0, 0, 0, 0, 0, 0, 0, 0, 0, 0, 0, 0, 0, 0, 0, 0, 0, 0, 0, 0, 0, 0, 0, 0, 0, 0, 0, 0, 0, 0, 0, 0, 0, 0, 0, 0, 0, 0, 0, 0, 0, 0, 0, 0, 0, 0, 0, 0, 0, 0, 0, 0, 0, 0, 0, 0, 0, 0, 0, 0, 0, 0, 0, 0, 0, 0, 0, 0, 0, 0, 0, 0, 0, 0, 0, 0, 0, 0, 0, 0, 0, 0, 0, 0, 0, 0, 0, 0, 0, 0, 0, 0, 0, 0, 0, 0, 0, 0, 0, 0, 0, 0, 0, 0, 0, 0, 0, 0, 0, 0, 0, 0, 0, 0, 0, 0, 0, 0, 0, 0, 0, 0, 0, 0, 0, 0, 0, 0, 0, 0, 0, 0, 0, 0, 0, 0, 0, 0, 0, 0, 0, 0, 0, 0, 0, 0, 0, 0, 0, 0, 0, 0, 0, 0, 0, 0, 0, 0, 0, 0, 0, 0, 0, 0, 0, 0, 0, 0, 0, 0, 0, 0, 0, 0, 0, 0, 0, 0, 0, 0, 0, 0, 0, 0, 0, 0, 0, 0, 0, 0, 0, 0, 0, 0, 0, 0, 0, 0, 0, 0, 0, 0, 0, 0, 0, 0, 0, 0, 0, 0, 0, 0, 0, 0, 0, 0, 0, 0, 0, 0, 0, 0, 0, 0, 0, 0, 0, 0, 0, 0, 0, 0, 0, 0, 0, 0, 0, 0, 0, 0, 0, 0, 0, 0, 0, 0, 0, 0, 0, 0, 0, 0, 0, 0, 0, 0, 0, 0, 0, 0, 0, 0, 0, 0, 0, 0, 0, 0, 0, 0, 0, 0, 0, 0, 0, 0, 0, 0, 0, 0, 0, 0, 0, 0, 0, 0, 0, 0, 0, 0, 0, 0, 0, 0, 0, 0, 0, 0, 0, 0, 0, 0, 0, 0, 0, 0, 0, 0, 0, 0, 0, 0, 0, 0, 0, 0, 0, 0, 0, 0, 0, 0, 0, 0, 0, 0, 0, 0, 0, 0, 0, 0, 0, 0, 0, 0, 0, 0, 0, 0, 0, 0, 0, 0, 0, 0, 0, 0, 0, 0, 0, 0, 0, 0, 0, 0, 0, 0, 0, 0, 0, 0, 0, 0, 0, 0, 0, 0, 0, 0, 0, 0, 0, 0, 0, 0, 0, 0, 0, 0, 0, 0, 0, 0, 0, 0, 0, 0, 0, 0, 0, 0, 0, 0, 0, 0, 0, 0, 0, 0, 0, 0, 0, 0, 0, 0, 0, 0, 0, 0, 0, 0, 0, 0, 0, 0, 0, 0, 0, 0, 0, 0, 0, 0, 0, 0, 0, 0, 0, 0, 0, 0, 0, 0, 0, 0, 0, 0, 0, 0, 0, 0, 0, 0, 0, 0, 0, 0, 0, 0, 0, 0, 0, 0, 0, 0, 0, 0, 0, 0, 0, 0, 0, 0, 0, 0, 0, 0, 0, 0, 0, 0, 0, 0, 0, 0, 0, 0, 0, 0, 0, 0, 0, 0, 0, 0, 0, 0, 0, 0, 0, 0, 0, 0, 0, 0, 0, 0, 0, 0, 0, 0, 0, 0, 0, 0, 0, 0, 0, 0, 0, 0, 0, 0, 0, 0, 0, 0, 0, 0, 0, 0, 0, 0, 0, 0, 0, 0, 0, 0, 0, 0, 0, 0, 0, 0, 0, 0, 0, 0, 0, 0, 0, 0, 0, 0, 0, 0, 0, 0, 0, 0, 0, 0, 0, 0, 0, 0, 0, 0, 0, 0, 0, 0, 0, 0, 0, 0, 0, 0, 0, 0, 0, 0, 0, 0, 0, 0, 0, 0, 0, 0, 0, 0, 0, 0, 0, 0, 0, 0, 0, 0, 0, 0, 0, 0, 0, 0, 0, 0, 0, 0, 0, 0, 0, 0, 0, 0, 0, 0, 0, 0, 0, 0, 0, 0, 0, 0, 0, 0, 0, 0, 0, 0, 0, 0, 0, 0, 0, 0, 0, 0, 0, 0, 0, 0, 0, 0, 0, 0, 0, 0, 0, 0, 0, 0, 0, 0, 0, 0, 0, 0, 0, 0, 0, 0, 0, 0, 0, 0, 0, 0, 0, 0, 0, 0, 0, 0, 0, 0, 0, 0, 0, 0, 0, 0, 0, 0, 0, 0, 0, 0, 0, 0, 0, 0, 0, 0, 0, 0, 0, 0, 0, 0, 0, 0, 0, 0, 0, 0, 0, 0, 0, 0, 0, 0, 0, 0, 0, 0, 0, 0, 0, 0, 0, 0, 0, 0, 0, 0, 0, 0, 0, 0, 0, 0, 0, 0, 0, 0, 0, 0, 0, 0, 0, 0, 0, 0, 0, 0, 0, 0, 0, 0, 0, 0, 0, 0, 0, 0, 0, 0, 0, 0, 0, 0, 0, 0, 0, 0, 0, 0, 0, 0, 0, 0, 0, 0, 0, 0, 0, 0, 0, 0, 0, 0, 0, 0, 0, 0, 0, 0, 0, 0, 0, 0, 0, 0, 0, 0, 0, 0, 0, 0, 0, 0, 0, 0, 0, 0, 0, 0, 0, 0, 0, 0, 0, 0, 0, 0, 0], [0, 0, 0, 0, 0, 0, 0, 0, 0, 0, 0, 0, 0, 0, 0, 0, 0, 0, 0, 0, 0, 0, 0, 0, 0, 0, 0, 0, 0, 0, 0, 0, 0, 0, 0, 0, 0, 0, 0, 0, 0, 0, 0, 0, 0, 0, 0, 0, 0, 0, 0, 0, 0, 0, 0, 0, 0, 0, 0, 0, 0, 0, 0, 0, 0, 0, 0, 0, 0, 0, 0, 0, 0, 0, 0, 0, 0, 0, 0, 0, 0, 0, 0, 0, 0, 0, 0, 0, 0, 0, 0, 0, 0, 0, 0, 0, 0, 0, 0, 0, 0, 0, 0, 0, 0, 0, 0, 0, 0, 0, 0, 0, 0, 0, 0, 0, 0, 0, 0, 0, 0, 0, 0, 0, 0, 0, 0, 0, 0, 0, 0, 0, 0, 0, 0, 0, 0, 0, 0, 0, 0, 0, 0, 0, 0, 0, 0, 0, 0, 0, 0, 0, 0, 0, 0, 0, 0, 0, 0, 0, 0, 0, 0, 0, 0, 0, 0, 0, 0, 0, 0, 0, 0, 0, 0, 0, 0, 0, 0, 0, 0, 0, 0, 0, 0, 0, 0, 0, 0, 0, 0, 0, 0, 0, 0, 0, 0, 0, 0, 0, 0, 0, 1, 0, 0, 0, 0, 0, 0, 0, 0, 0, 0, 0, 0, 0, 0, 0, 0, 0, 0, 0, 0, 0, 0, 0, 0, 0, 0, 0, 0, 0, 0, 0, 0, 0, 0, 0, 0, 0, 0, 0, 0, 0, 0, 0, 0, 0, 0, 0, 0, 0, 0, 0, 0, 0, 0, 0, 0, 0, 0, 0, 0, 0, 0, 0, 0, 0, 0, 0, 0, 0, 0, 0, 0, 0, 0, 0, 0, 0, 0, 0, 0, 0, 0, 0, 0, 0, 0, 0, 0, 0, 0, 0, 0, 0, 0, 0, 0, 0, 0, 0, 0, 0, 0, 0, 0, 0, 0, 0, 0, 0, 0, 0, 0, 0, 0, 0, 0, 0, 0, 0, 0, 0, 0, 0, 0, 0, 0, 0, 0, 0, 0, 0, 0, 0, 0, 0, 0, 0, 0, 0, 0, 0, 0, 0, 0, 0, 0, 0, 0, 0, 0, 0, 0, 0, 0, 0, 0, 0, 0, 0, 0, 0, 0, 0, 0, 0, 0, 0, 0, 0, 0, 0, 0, 0, 0, 0, 0, 0, 0, 0, 0, 0, 0, 0, 0, 0, 0, 0, 0, 0, 0, 0, 0, 0, 0, 0, 0, 0, 0, 0, 0, 0, 0, 0, 0, 0, 0, 0, 0, 0, 0, 0, 0, 0, 0, 0, 0, 0, 0, 0, 0, 0, 0, 0, 0, 0, 0, 0, 0, 0, 0, 0, 0, 0, 0, 0, 0, 0, 0, 0, 0, 0, 0, 0, 0, 0, 0, 0, 0, 0, 0, 0, 0, 0, 0, 0, 0, 0, 0, 0, 0, 0, 0, 0, 0, 0, 0, 0, 0, 0, 0, 0, 0, 0, 0, 0, 0, 0, 0, 0, 0, 0, 0, 0, 0, 0, 0, 0, 0, 0, 0, 0, 0, 0, 0, 0, 0, 0, 0, 0, 0, 0, 0, 0, 0, 0, 0, 0, 0, 0, 0, 0, 0, 0, 0, 0, 0, 0, 0, 0, 0, 0, 0, 0, 0, 0, 0, 0, 0, 0, 0, 0, 0, 0, 0, 0, 0, 0, 0, 0, 0, 0, 0, 0, 0, 0, 0, 0, 0, 0, 0, 0, 0, 0, 0, 0, 0, 0, 0, 0, 0, 0, 0, 0, 0, 0, 0, 0, 0, 0, 0, 0, 0, 0, 0, 0, 0, 0, 0, 0, 0, 0, 0, 0, 0, 0, 0, 0, 0, 0, 0, 0, 0, 0, 0, 0, 0, 0, 0, 0, 0, 0, 0, 0, 0, 0, 0, 0, 0, 0, 0, 0, 0, 0, 0, 0, 0, 0, 0, 0, 0, 0, 0, 0, 0, 0, 0, 0, 0, 0, 0, 0, 0, 0, 0, 0, 0, 0, 0, 0, 0, 0, 0, 0, 0, 0, 0, 0, 0, 0, 0, 0, 0, 0, 0, 0, 0, 0, 0, 0, 0, 0, 0, 0, 0, 0, 0, 0, 0, 0, 0, 0, 0, 0, 0, 0, 0, 0, 0, 0, 0, 0, 0, 0, 0, 0, 0, 0, 0, 0, 0, 0, 0, 0, 0, 0, 0, 0, 0, 0, 0, 0, 0, 0, 0, 0, 0, 0, 0, 0, 0, 0, 0, 0, 0, 0, 0, 0, 0, 0, 0, 0, 0, 0, 0, 0, 0, 0, 0, 0, 0, 0, 0, 0, 0, 0, 0, 0, 0, 0, 0, 0, 0, 0, 0, 0, 0, 0, 0, 0, 0, 0, 0, 0, 0, 0, 0, 0, 0, 0, 0, 0, 0, 0, 0, 0, 0, 0, 0, 0, 0, 0, 0, 0, 0, 0, 0, 0, 0, 0, 0, 0, 0, 0, 0, 0, 0, 0, 0, 0, 0, 0, 0, 0, 0, 0, 0, 0, 0, 0, 0, 0, 0, 0, 0, 0, 0, 0, 0, 0, 0, 0, 0, 0, 0, 0, 0, 0, 0, 0, 0, 0, 0, 0, 0, 0, 0, 0, 0, 0, 0, 0, 0, 0, 0, 0, 0, 0, 0, 0, 0, 0, 0, 0, 0, 0, 0, 0, 0, 0, 0, 0, 0, 0, 0, 0, 0, 0, 0, 0, 0, 0, 0, 0, 0, 0, 0, 0, 0, 0, 0, 0, 0, 0, 0, 0, 0, 0, 0, 0, 0, 0, 0, 0, 0, 0, 0, 0, 0, 0, 0, 0, 0, 0, 0, 0, 0, 0, 0, 0, 0, 0, 0, 0, 0, 0, 0, 0, 0, 0, 0, 0, 0, 0, 0, 0, 0, 0, 1, 0, 0, 0, 0, 0, 0, 0, 0, 0, 0, 0, 0, 0, 0, 0, 0, 0, 0, 0, 0, 0, 0, 0, 0, 0, 0, 0, 0, 0, 0, 0, 0, 0, 0, 0, 0, 0, 0, 0, 0, 0, 0, 0, 0, 0, 0, 0, 0, 0, 0, 0, 0, 0, 0, 0, 0, 0, 0, 0, 0, 0, 0, 0, 0, 0, 0, 0, 0, 0, 0, 0, 0, 0, 0, 0, 0, 0, 0, 0, 0, 0, 0, 0, 0, 0, 0, 0, 0, 0, 0, 0, 0, 0, 0, 0, 0, 0, 0, 0, 0, 0, 0, 0, 0, 0, 0, 0, 0, 0, 0, 0, 0, 0, 0, 0, 0, 0, 0, 0, 0, 0, 0, 0, 0, 0, 0, 0, 0, 0, 0, 0, 0, 0, 0, 0, 0, 0, 0, 0, 0, 0, 0, 0, 0, 0, 0, 0, 0, 0, 0, 0, 0, 0, 0, 0, 0, 0, 0, 0, 0, 0, 0, 0, 0, 0, 0, 0, 0, 0, 0, 0, 0, 0, 0, 0, 0, 0, 0, 0, 0, 0, 0, 0, 0, 0, 0, 0, 0, 0, 0, 0, 0, 0, 0, 0, 0, 0, 0, 0, 0, 0, 0, 0, 0, 0, 0, 0, 0, 0, 0, 0, 0, 0, 0, 0, 0, 0, 0, 0, 0, 0, 0, 0, 0, 0, 0, 0, 0, 0, 0, 0, 0, 0, 0, 0, 0, 0, 0, 0, 0, 0, 0, 0, 0, 0, 0, 0, 0, 0, 0, 0, 0, 0, 0, 0, 0, 0, 0, 0, 0, 0, 0, 0, 0, 0, 0, 0, 0, 0, 0, 0, 0, 0, 0, 0, 0, 0, 0, 0, 0, 0, 0, 0], [0, 0, 0, 0, 0, 0, 0, 0, 0, 0, 0, 0, 0, 0, 0, 0, 0, 0, 0, 0, 0, 0, 0, 0, 0, 0, 0, 0, 0, 0, 0, 0, 0, 0, 0, 0, 0, 0, 0, 0, 0, 0, 0, 0, 0, 0, 0, 0, 0, 0, 0, 0, 0, 0, 0, 0, 0, 0, 0, 0, 0, 0, 0, 0, 0, 0, 0, 0, 0, 0, 0, 0, 0, 0, 0, 0, 0, 0, 0, 0, 0, 0, 0, 0, 0, 0, 0, 0, 0, 0, 0, 0, 0, 0, 0, 0, 0, 0, 0, 0, 0, 0, 0, 0, 0, 0, 0, 0, 0, 0, 0, 0, 0, 0, 0, 0, 0, 0, 0, 0, 0, 0, 0, 0, 0, 0, 0, 0, 0, 0, 0, 0, 0, 0, 0, 0, 0, 0, 0, 0, 0, 0, 0, 0, 0, 0, 0, 0, 0, 0, 0, 0, 0, 0, 0, 0, 0, 0, 0, 0, 0, 0, 0, 0, 0, 0, 0, 0, 0, 0, 0, 0, 0, 0, 0, 0, 0, 0, 0, 0, 0, 0, 0, 0, 0, 0, 0, 0, 0, 0, 0, 0, 0, 0, 0, 0, 0, 0, 0, 0, 0, 0, 0, 0, 0, 0, 0, 0, 0, 0, 0, 0, 0, 0, 0, 0, 0, 0, 0, 0, 0, 0, 0, 0, 0, 0, 0, 0, 0, 0, 0, 0, 0, 0, 0, 0, 0, 0, 0, 0, 0, 0, 0, 0, 0, 0, 0, 0, 0, 0, 0, 0, 0, 0, 0, 0, 0, 0, 0, 0, 0, 0, 0, 0, 0, 0, 0, 0, 0, 0, 0, 0, 0, 0, 0, 0, 0, 0, 0, 0, 0, 0, 0, 0, 0, 0, 0, 0, 0, 0, 0, 0, 0, 0, 0, 0, 0, 0, 0, 0, 0, 0, 0, 0, 0, 0, 0, 0, 0, 0, 0, 0, 0, 0, 0, 0, 0, 0, 0, 0, 0, 0, 0, 0, 0, 0, 0, 0, 0, 0, 0, 0, 0, 0, 0, 0, 0, 0, 0, 0, 0, 0, 0, 0, 0, 0, 0, 0, 0, 0, 0, 0, 0, 0, 0, 0, 0, 0, 0, 0, 0, 0, 0, 0, 0, 0, 0, 0, 0, 0, 0, 0, 0, 0, 0, 0, 0, 0, 0, 0, 0, 0, 0, 0, 0, 0, 0, 0, 0, 0, 0, 0, 0, 0, 0, 0, 0, 0, 0, 0, 0, 0, 0, 0, 0, 0, 0, 0, 0, 0, 0, 0, 0, 0, 0, 0, 0, 0, 0, 0, 0, 0, 0, 0, 0, 0, 0, 0, 0, 0, 0, 0, 0, 0, 0, 0, 0, 0, 0, 0, 0, 0, 0, 0, 0, 0, 0, 0, 0, 0, 0, 0, 0, 0, 0, 0, 0, 0, 0, 0, 0, 0, 0, 0, 0, 0, 0, 0, 0, 0, 0, 0, 0, 0, 0, 0, 0, 0, 0, 0, 0, 0, 0, 0, 0, 0, 0, 0, 0, 0, 0, 0, 0, 0, 0, 0, 0, 0, 0, 0, 0, 0, 0, 0, 0, 0, 0, 0, 0, 0, 0, 0, 0, 0, 0, 0, 0, 0, 0, 0, 0, 0, 0, 0, 0, 0, 0, 0, 0, 0, 0, 0, 0, 0, 0, 0, 0, 0, 0, 0, 0, 0, 0, 0, 0, 0, 0, 0, 0, 0, 0, 0, 0, 0, 0, 0, 0, 0, 0, 0, 0, 0, 0, 0, 0, 0, 0, 0, 0, 0, 0, 0, 0, 0, 0, 0, 0, 0, 0, 0, 0, 0, 0, 0, 0, 0, 0, 0, 0, 0, 0, 0, 0, 0, 0, 0, 0, 0, 0, 0, 0, 0, 0, 0, 0, 0, 0, 0, 0, 0, 0, 0, 0, 0, 0, 0, 0, 0, 0, 0, 0, 0, 0, 0, 0, 0, 0, 0, 0, 0, 0, 0, 0, 0, 0, 0, 0, 0, 0, 0, 0, 0, 0, 0, 0, 0, 0, 0, 0, 0, 0, 0, 0, 0, 0, 0, 0, 0, 0, 0, 0, 0, 0, 0, 0, 0, 0, 0, 0, 0, 0, 0, 0, 0, 0, 0, 0, 0, 0, 0, 0, 0, 0, 0, 0, 0, 0, 0, 0, 0, 0, 0, 0, 0, 0, 0, 0, 0, 0, 0, 0, 0, 0, 0, 0, 0, 0, 0, 0, 0, 0, 0, 0, 0, 0, 0, 0, 0, 0, 0, 0, 0, 0, 0, 0, 0, 0, 0, 0, 0, 0, 0, 0, 0, 0, 0, 0, 0, 0, 0, 0, 0, 0, 0, 0, 0, 0, 0, 0, 0, 0, 0, 0, 0, 0, 0, 0, 0, 0, 0, 0, 0, 0, 0, 0, 0, 0, 0, 0, 0, 0, 0, 0, 0, 0, 0, 0, 0, 0, 0, 0, 0, 0, 0, 0, 0, 0, 0, 0, 0, 0, 0, 0, 0, 0, 0, 0, 0, 0, 0, 0, 0, 0, 0, 0, 0, 0, 0, 0, 0, 0, 0, 0, 0, 0, 0, 0, 0, 0, 0, 0, 0, 0, 0, 0, 0, 0, 0, 0, 0, 0, 0, 0, 0, 0, 0, 0, 0, 0, 0, 0, 0, 0, 0, 0, 0, 0, 0, 0, 0, 0, 0, 0, 0, 0, 0, 0, 0, 0, 0, 0, 0, 0, 0, 0, 0, 0, 0, 0, 0, 0, 0, 0, 0, 0, 0, 0, 0, 0, 0, 0, 0, 0, 0, 0, 0, 0, 0, 0, 0, 0, 0, 0, 0, 0, 0, 0, 0, 0, 0, 0, 0, 0, 0, 0, 0, 0, 0, 0, 0, 0, 0, 0, 0, 0, 0, 0, 0, 0, 0, 0, 0, 0, 0, 0, 0, 0, 0, 0, 0, 0, 0, 0, 0, 0, 0, 0, 0, 0, 0, 0, 0, 0, 0, 0, 0, 0, 0, 0, 0, 0, 0, 0, 0, 0, 0, 0, 0, 0, 0, 0, 0, 0, 0, 0, 0, 0, 0, 0, 0, 0, 0, 0, 0, 0, 0, 0, 0, 0, 0, 0, 0, 0, 0, 0, 0, 0, 0, 0, 1, 0, 0, 0, 0, 0, 0, 0, 0, 0, 0, 0, 0, 0, 0, 0, 0, 0, 0, 0, 0, 0, 0, 0, 0, 0, 0, 0, 0, 0, 0, 0, 0, 0, 0, 0, 0, 0, 0, 0, 0, 0, 0, 0, 0, 0, 0, 0, 0, 0, 0, 0, 0, 0, 0, 0, 0, 0, 0, 0, 0, 0, 0, 0, 0, 0, 0, 0, 0, 0, 0, 0, 0, 0, 0, 0, 0, 0, 0, 0, 0, 0, 0, 0, 0, 0, 0, 0, 0, 0, 0, 0, 0, 0, 0, 0, 0, 0, 0, 0, 0, 0, 0, 0, 0, 0, 0, 0, 0, 0, 0, 0, 0, 0, 0, 0, 0, 0, 0, 0, 0, 0, 0, 0, 0, 0, 0, 0, 0, 0, 0, 0, 0, 0, 0, 0, 0, 0, 0, 0, 0, 0, 0, 0, 0, 0, 0, 0, 0, 0, 0, 0, 0, 0, 0, 0, 0, 0, 0, 0, 0, 0, 0, 0, 0, 0, 0, 0, 0, 0, 0, 0, 0, 0, 0, 0, 0, 0, 0, 0, 0, 0, 0, 0, 0, 0, 0, 0, 0, 0, 0, 0, 0, 0, 0, 0, 0, 0, 0, 0, 0, 0, 0, 0, 0, 0, 0, 0, 0, 0, 0, 0, 0, 0, 0], [0, 0, 0, 0, 0, 0, 0, 0, 0, 0, 0, 0, 0, 0, 0, 0, 0, 0, 0, 0, 0, 0, 0, 0, 0, 0, 0, 0, 0, 0, 0, 0, 0, 0, 0, 0, 0, 0, 0, 0, 0, 0, 0, 0, 0, 0, 0, 0, 0, 0, 0, 0, 0, 0, 0, 0, 0, 0, 0, 0, 0, 0, 0, 0, 0, 0, 0, 0, 0, 0, 0, 0, 0, 0, 0, 0, 0, 0, 0, 0, 0, 0, 0, 0, 0, 0, 0, 0, 0, 0, 0, 0, 0, 0, 0, 0, 0, 0, 0, 0, 0, 0, 0, 0, 0, 0, 0, 0, 0, 0, 0, 0, 0, 0, 0, 0, 0, 0, 0, 0, 0, 0, 0, 0, 0, 0, 0, 0, 0, 0, 0, 0, 0, 0, 0, 0, 0, 0, 0, 0, 0, 0, 0, 0, 0, 0, 0, 0, 0, 0, 0, 0, 0, 0, 0, 0, 0, 0, 0, 0, 0, 0, 0, 0, 0, 0, 0, 0, 0, 0, 0, 0, 0, 0, 0, 0, 0, 0, 0, 0, 0, 0, 0, 0, 0, 0, 0, 0, 0, 0, 0, 0, 0, 0, 0, 0, 0, 0, 0, 0, 0, 0, 0, 0, 0, 0, 0, 0, 0, 0, 0, 0, 0, 0, 0, 0, 0, 0, 0, 0, 0, 0, 0, 0, 0, 0, 0, 0, 0, 0, 0, 0, 0, 0, 0, 0, 0, 0, 0, 0, 0, 0, 0, 0, 0, 0, 0, 0, 0, 0, 0, 0, 0, 0, 0, 0, 0, 0, 0, 0, 0, 0, 0, 0, 0, 0, 0, 0, 0, 0, 0, 0, 0, 0, 0, 0, 0, 0, 0, 0, 0, 0, 0, 0, 0, 0, 0, 0, 0, 0, 0, 0, 0, 0, 0, 0, 0, 0, 0, 0, 0, 0, 0, 0, 0, 0, 0, 0, 0, 0, 0, 0, 0, 0, 0, 0, 0, 0, 0, 0, 0, 0, 0, 0, 0, 0, 0, 0, 0, 0, 0, 0, 0, 0, 0, 0, 0, 0, 0, 0, 0, 0, 0, 0, 0, 0, 0, 0, 0, 0, 0, 0, 0, 0, 0, 0, 0, 0, 0, 0, 0, 0, 0, 0, 0, 0, 0, 0, 0, 0, 0, 0, 0, 0, 0, 0, 0, 0, 0, 0, 0, 0, 0, 0, 0, 0, 0, 0, 0, 0, 0, 0, 0, 0, 0, 0, 0, 0, 0, 0, 0, 0, 0, 0, 0, 0, 0, 0, 0, 0, 0, 0, 0, 0, 0, 0, 0, 0, 0, 0, 0, 0, 0, 0, 0, 0, 0, 0, 0, 0, 0, 0, 0, 0, 0, 0, 0, 0, 0, 0, 0, 0, 0, 0, 0, 0, 0, 0, 0, 0, 0, 0, 0, 0, 0, 0, 0, 0, 0, 0, 0, 0, 0, 0, 0, 0, 0, 0, 0, 0, 0, 0, 0, 0, 0, 0, 0, 0, 0, 0, 0, 0, 0, 0, 0, 0, 0, 0, 0, 0, 0, 0, 0, 0, 0, 0, 0, 0, 0, 0, 0, 0, 0, 0, 0, 0, 0, 0, 0, 0, 0, 0, 0, 0, 0, 0, 0, 0, 0, 0, 0, 0, 0, 0, 0, 0, 0, 0, 0, 0, 0, 0, 0, 0, 0, 0, 0, 0, 0, 0, 0, 0, 0, 0, 0, 0, 0, 0, 0, 0, 0, 0, 0, 0, 0, 0, 0, 0, 0, 0, 0, 0, 0, 0, 0, 0, 0, 0, 0, 0, 0, 0, 0, 0, 0, 0, 0, 0, 0, 0, 0, 0, 0, 0, 0, 0, 0, 0, 0, 0, 0, 0, 0, 0, 0, 0, 0, 0, 0, 0, 0, 0, 0, 0, 0, 0, 0, 0, 0, 0, 0, 0, 0, 0, 0, 0, 0, 0, 0, 0, 0, 0, 0, 0, 0, 0, 0, 0, 0, 0, 0, 0, 0, 0, 0, 0, 0, 0, 0, 0, 0, 0, 0, 0, 0, 0, 0, 0, 0, 0, 0, 0, 0, 0, 0, 0, 0, 0, 0, 0, 0, 0, 0, 0, 0, 0, 0, 0, 0, 0, 0, 0, 0, 0, 0, 0, 0, 0, 0, 0, 0, 0, 0, 0, 0, 0, 0, 0, 0, 0, 0, 0, 0, 0, 0, 0, 0, 0, 0, 0, 0, 0, 0, 0, 0, 0, 0, 0, 0, 0, 0, 0, 0, 0, 0, 0, 0, 0, 0, 0, 0, 0, 0, 0, 0, 0, 0, 0, 0, 0, 0, 0, 0, 0, 0, 0, 0, 0, 0, 0, 0, 0, 0, 0, 0, 0, 0, 0, 0, 0, 0, 0, 0, 0, 0, 0, 0, 0, 0, 0, 0, 0, 0, 0, 0, 0, 0, 0, 0, 0, 0, 0, 0, 0, 0, 0, 0, 0, 0, 0, 0, 0, 0, 0, 0, 0, 0, 0, 0, 0, 0, 0, 0, 0, 0, 0, 0, 0, 0, 0, 0, 0, 0, 0, 0, 0, 0, 0, 0, 0, 0, 0, 0, 0, 0, 0, 0, 0, 0, 0, 0, 0, 0, 0, 0, 0, 0, 0, 0, 0, 0, 0, 0, 0, 0, 0, 0, 0, 0, 0, 0, 0, 0, 0, 0, 0, 0, 0, 0, 0, 0, 0, 0, 0, 0, 0, 0, 0, 0, 0, 0, 0, 0, 0, 0, 0, 0, 0, 0, 0, 0, 0, 0, 0, 0, 0, 0, 0, 0, 0, 0, 0, 0, 0, 0, 0, 0, 0, 0, 0, 0, 0, 0, 0, 0, 0, 0, 0, 0, 0, 0, 0, 0, 0, 0, 0, 0, 0, 0, 0, 0, 0, 0, 0, 0, 0, 0, 0, 0, 0, 0, 0, 0, 0, 0, 0, 0, 0, 0, 0, 0, 0, 0, 0, 0, 0, 0, 0, 0, 0, 0, 0, 0, 0, 0, 0, 0, 0, 0, 0, 0, 0, 0, 0, 0, 0, 0, 0, 0, 0, 0, 0, 0, 0, 0, 0, 0, 0, 0, 0, 0, 0, 0, 0, 0, 0, 0, 0, 0, 0, 0, 0, 0, 0, 0, 0, 0, 0, 0, 0, 0, 0, 0, 0, 0, 0, 0, 0, 0, 0, 0, 0, 0, 0, 0, 0, 0, 0, 0, 0, 0, 0, 0, 0, 0, 0, 0, 0, 0, 0, 0, 0, 0, 0, 0, 0, 0, 0, 0, 0, 0, 0, 0, 0, 0, 0, 0, 0, 0, 0, 0, 0, 0, 0, 0, 0, 0, 0, 0, 0, 0, 0, 0, 0, 0, 0, 0, 0, 0, 0, 0, 0, 0, 0, 0, 0, 0, 0, 0, 0, 0, 0, 0, 0, 0, 0, 0, 0, 0, 0, 0, 0, 0, 0, 0, 0, 0, 0, 0, 0, 0, 0, 0, 0, 0, 0, 0, 0, 0, 0, 0, 0, 0, 0, 0, 0, 0, 0, 0, 0, 0, 0, 0, 0, 0, 0, 0, 0, 0, 0, 0, 0, 0, 0, 0, 0, 0, 0, 0, 0, 0, 0, 0, 0, 0, 0, 0, 0, 0, 0, 0, 0, 0, 0, 0, 0, 0, 0, 0, 0, 0, 0, 0, 0, 0, 0, 0, 0, 0, 0, 0, 0, 0, 0, 0, 0, 0, 0, 0, 0, 0, 0, 0, 0, 0, 0, 0, 0, 0, 0, 0, 0, 0, 0, 0, 0, 0, 0, 0, 0, 0, 0, 0, 0, 0, 0, 0, 0, 0, 0, 0, 0, 0, 0], [0, 0, 0, 0, 0, 0, 0, 0, 0, 0, 0, 0, 0, 0, 0, 0, 0, 0, 0, 0, 0, 0, 0, 0, 0, 0, 0, 0, 0, 0, 0, 0, 0, 0, 0, 0, 0, 0, 0, 0, 0, 0, 0, 0, 0, 0, 0, 0, 0, 0, 0, 0, 0, 0, 0, 0, 0, 0, 0, 0, 0, 0, 0, 0, 0, 0, 0, 0, 0, 0, 0, 0, 0, 0, 0, 0, 0, 0, 0, 0, 0, 0, 0, 0, 0, 0, 0, 0, 0, 0, 0, 0, 0, 0, 0, 0, 0, 0, 0, 0, 0, 0, 0, 0, 0, 0, 0, 0, 0, 0, 0, 0, 0, 0, 0, 0, 0, 0, 0, 0, 0, 0, 0, 0, 0, 0, 0, 0, 0, 0, 0, 0, 0, 0, 0, 0, 0, 0, 0, 0, 0, 0, 0, 0, 0, 0, 0, 0, 0, 0, 0, 0, 0, 0, 0, 0, 0, 0, 0, 0, 0, 0, 0, 0, 0, 0, 0, 0, 0, 0, 0, 0, 0, 0, 0, 0, 0, 0, 0, 0, 0, 0, 0, 0, 0, 0, 0, 0, 0, 0, 0, 0, 0, 0, 0, 0, 0, 0, 0, 0, 0, 0, 0, 0, 0, 0, 0, 0, 0, 0, 0, 0, 0, 0, 0, 0, 0, 0, 0, 0, 0, 0, 0, 0, 0, 0, 0, 0, 0, 0, 0, 0, 0, 0, 0, 0, 0, 0, 0, 0, 0, 0, 0, 0, 0, 0, 0, 0, 0, 0, 0, 0, 0, 0, 0, 0, 0, 0, 0, 0, 0, 0, 0, 0, 0, 0, 0, 0, 0, 0, 0, 0, 0, 0, 0, 0, 0, 0, 0, 0, 0, 0, 0, 0, 0, 0, 0, 0, 0, 0, 0, 0, 0, 0, 0, 0, 0, 0, 0, 0, 0, 0, 0, 0, 0, 0, 0, 0, 0, 0, 0, 0, 0, 0, 0, 0, 0, 0, 0, 0, 0, 0, 0, 0, 0, 0, 0, 0, 0, 0, 0, 0, 0, 0, 0, 0, 0, 0, 0, 0, 0, 0, 0, 0, 0, 0, 0, 0, 0, 0, 0, 0, 0, 0, 0, 0, 0, 0, 0, 0, 0, 0, 0, 0, 0, 0, 0, 0, 0, 0, 0, 0, 0, 0, 0, 0, 0, 0, 0, 0, 0, 0, 0, 0, 0, 0, 0, 0, 0, 0, 0, 0, 0, 0, 0, 0, 0, 0, 0, 0, 0, 0, 0, 0, 0, 0, 0, 0, 0, 0, 0, 0, 0, 0, 0, 0, 0, 0, 0, 0, 0, 0, 0, 0, 0, 0, 0, 0, 0, 0, 0, 0, 0, 0, 0, 0, 0, 0, 0, 0, 0, 0, 0, 0, 0, 0, 0, 0, 0, 0, 0, 0, 0, 0, 0, 0, 0, 0, 0, 0, 0, 0, 0, 0, 0, 0, 0, 0, 0, 0, 0, 0, 0, 0, 0, 0, 0, 0, 0, 0, 0, 0, 0, 0, 0, 0, 0, 0, 0, 0, 0, 0, 0, 0, 0, 0, 0, 0, 0, 0, 0, 0, 0, 0, 0, 0, 0, 0, 0, 0, 0, 0, 0, 0, 0, 0, 0, 0, 0, 0, 0, 0, 0, 0, 0, 0, 0, 0, 0, 0, 0, 0, 0, 0, 0, 0, 0, 0, 0, 0, 0, 0, 0, 0, 0, 0, 0, 0, 0, 1, 0, 0, 0, 0, 0, 0, 0, 1, 0, 0, 0, 0, 0, 0, 0, 0, 0, 0, 0, 0, 0, 0, 0, 0, 0, 0, 0, 0, 0, 0, 0, 0, 0, 0, 0, 0, 0, 0, 0, 0, 0, 0, 0, 0, 0, 0, 0, 0, 0, 0, 0, 0, 0, 0, 0, 0, 0, 0, 0, 0, 0, 0, 0, 0, 0, 0, 0, 0, 0, 0, 0, 0, 0, 0, 0, 0, 0, 0, 0, 0, 0, 0, 0, 0, 0, 0, 0, 0, 0, 0, 0, 0, 0, 0, 0, 0, 0, 0, 0, 0, 0, 0, 0, 0, 0, 0, 0, 0, 0, 0, 0, 0, 0, 0, 0, 0, 0, 0, 0, 0, 0, 0, 0, 0, 0, 0, 0, 0, 0, 0, 0, 0, 0, 0, 0, 0, 0, 0, 0, 0, 0, 0, 0, 0, 0, 0, 0, 0, 0, 0, 0, 0, 0, 0, 0, 0, 0, 0, 0, 0, 0, 0, 0, 0, 0, 0, 0, 0, 0, 0, 0, 0, 0, 0, 0, 0, 0, 0, 0, 0, 0, 0, 0, 0, 0, 0, 0, 0, 0, 0, 0, 0, 0, 0, 0, 0, 0, 0, 0, 0, 0, 0, 0, 0, 0, 0, 0, 0, 0, 0, 0, 0, 0, 0, 0, 0, 0, 0, 0, 0, 0, 0, 0, 0, 0, 0, 0, 0, 0, 0, 0, 0, 0, 0, 0, 0, 0, 0, 0, 0, 0, 0, 0, 0, 0, 0, 0, 0, 0, 0, 0, 0, 0, 0, 0, 0, 0, 0, 0, 0, 0, 0, 0, 0, 0, 0, 0, 0, 0, 0, 0, 0, 0, 0, 0, 0, 0, 0, 0, 0, 0, 0, 0, 0, 0, 0, 0, 0, 0, 0, 0, 0, 0, 0, 0, 0, 0, 0, 0, 0, 0, 0, 0, 0, 0, 0, 0, 0, 0, 0, 0, 0, 0, 0, 0, 0, 0, 0, 0, 0, 0, 0, 0, 0, 0, 0, 0, 0, 0, 0, 0, 0, 0, 0, 0, 0, 0, 0, 0, 0, 0, 0, 0, 0, 0, 0, 0, 0, 0, 0, 0, 0, 0, 0, 0, 0, 0, 0, 0, 0, 0, 0, 0, 0, 0, 0, 0, 0, 0, 0, 0, 0, 0, 0, 0, 0, 0, 0, 0, 0, 0, 0, 0, 0, 0, 0, 0, 0, 0, 0, 0, 0, 0, 0, 0, 0, 0, 0, 0, 0, 0, 0, 0, 0, 0, 0, 0, 0, 0, 0, 0, 0, 0, 0, 0, 0, 0, 0, 0, 0, 0, 0, 0, 0, 0, 0, 0, 0, 0, 0, 0, 0, 0, 0, 0, 0, 0, 0, 0, 0, 0, 0, 0, 0, 0, 0, 0, 0, 0, 0, 0, 0, 0, 0, 0, 0, 0, 0, 0, 0, 0, 0, 0, 0, 0, 0, 0, 0, 0, 0, 0, 0, 0, 0, 0, 0, 0, 0, 0, 0, 0, 0, 0, 0, 0, 0, 0, 0, 0, 0, 0, 0, 0, 0, 0, 0, 0, 0, 0, 0, 0, 0, 0, 0, 0, 0, 0, 0, 0, 0, 0, 0, 0, 0, 0, 0, 0, 0, 0, 0, 0, 0, 0, 0, 0, 0, 0, 0, 0, 0, 0, 0, 0, 0, 0, 0, 0, 0, 0, 0, 0, 0, 0, 0, 0, 0, 0, 0, 0, 0, 0, 0, 0, 0, 0, 0, 0, 0, 0, 0, 0, 0, 0, 0, 0, 0, 0, 0, 0, 0, 0, 0, 0, 0, 0, 0, 0, 0, 0, 0, 0, 0, 0, 0, 0, 0, 0, 0, 0, 0, 0, 0, 0, 0, 0, 0, 0, 0, 0, 0, 0, 0, 0, 0, 0, 0, 0, 0, 0, 0, 0, 0, 0, 0, 0, 0, 0, 0, 0, 0, 0, 0, 0, 0, 0, 0, 0, 0, 0, 0, 0, 0, 0, 0, 0, 0, 0, 0, 0, 0, 0, 0, 0, 0, 0, 0, 0, 0, 0, 0, 0, 0, 0, 0], [0, 0, 0, 0, 0, 0, 0, 0, 0, 0, 0, 0, 0, 0, 0, 0, 0, 0, 0, 0, 0, 0, 0, 0, 0, 0, 0, 0, 0, 0, 0, 0, 0, 0, 0, 0, 0, 0, 0, 0, 0, 0, 0, 0, 0, 0, 0, 0, 0, 0, 0, 0, 0, 0, 0, 0, 0, 0, 0, 0, 0, 0, 0, 0, 0, 0, 0, 0, 0, 0, 0, 0, 0, 0, 0, 0, 0, 0, 0, 0, 0, 0, 0, 0, 0, 0, 0, 0, 0, 0, 0, 0, 0, 0, 0, 0, 0, 0, 0, 0, 0, 0, 0, 0, 0, 0, 0, 0, 0, 0, 0, 0, 0, 0, 0, 0, 0, 0, 0, 0, 0, 0, 0, 0, 0, 0, 0, 0, 0, 0, 0, 0, 0, 0, 0, 0, 0, 0, 0, 0, 0, 0, 0, 0, 0, 0, 0, 0, 0, 0, 0, 0, 0, 0, 0, 0, 0, 0, 0, 0, 0, 0, 0, 0, 0, 0, 0, 0, 0, 0, 0, 0, 0, 0, 0, 0, 0, 0, 0, 0, 0, 0, 0, 0, 0, 0, 0, 0, 0, 0, 0, 0, 0, 0, 0, 0, 0, 0, 0, 0, 0, 0, 0, 0, 0, 0, 0, 0, 0, 0, 0, 0, 0, 0, 0, 0, 0, 0, 0, 0, 0, 0, 0, 0, 0, 0, 0, 0, 0, 0, 0, 0, 0, 0, 0, 0, 0, 0, 0, 0, 0, 0, 0, 0, 0, 0, 0, 0, 0, 0, 0, 0, 0, 0, 0, 0, 0, 0, 0, 0, 0, 0, 0, 0, 0, 0, 0, 0, 0, 0, 0, 0, 0, 0, 0, 0, 0, 0, 0, 0, 0, 0, 0, 0, 0, 0, 0, 0, 0, 0, 0, 0, 0, 0, 0, 0, 0, 0, 0, 0, 0, 0, 0, 0, 0, 0, 0, 0, 0, 0, 0, 0, 0, 0, 0, 0, 0, 0, 0, 0, 0, 0, 0, 0, 0, 0, 0, 0, 0, 0, 0, 0, 0, 0, 0, 0, 0, 0, 0, 0, 0, 0, 0, 0, 0, 0, 0, 0, 0, 0, 0, 0, 0, 0, 0, 0, 0, 0, 0, 0, 0, 0, 0, 0, 0, 0, 0, 0, 0, 0, 0, 0, 0, 0, 0, 0, 0, 0, 0, 0, 0, 0, 0, 0, 0, 0, 0, 0, 0, 0, 0, 0, 0, 0, 0, 0, 0, 0, 0, 0, 0, 0, 0, 0, 0, 0, 0, 0, 0, 0, 0, 0, 0, 0, 0, 0, 0, 0, 0, 0, 0, 0, 0, 0, 0, 0, 0, 0, 0, 0, 0, 0, 0, 0, 0, 0, 0, 0, 0, 0, 0, 0, 0, 0, 0, 0, 0, 0, 0, 0, 0, 0, 0, 0, 0, 0, 0, 0, 0, 0, 0, 0, 0, 0, 0, 0, 0, 0, 0, 0, 0, 0, 0, 0, 0, 0, 0, 0, 0, 0, 0, 0, 0, 0, 0, 0, 0, 0, 0, 0, 0, 0, 0, 0, 0, 0, 0, 0, 0, 0, 0, 0, 0, 0, 0, 0, 0, 0, 0, 0, 0, 0, 0, 0, 0, 0, 0, 0, 0, 0, 0, 0, 0, 0, 0, 0, 0, 0, 0, 0, 0, 0, 0, 0, 0, 0, 0, 0, 0, 0, 0, 0, 0, 0, 0, 0, 0, 0, 0, 0, 0, 0, 0, 0, 0, 0, 0, 0, 0, 0, 0, 0, 0, 0, 0, 0, 0, 0, 0, 0, 0, 0, 0, 0, 0, 0, 0, 0, 0, 0, 0, 0, 0, 0, 0, 0, 0, 0, 0, 0, 0, 0, 0, 0, 0, 0, 0, 0, 0, 0, 0, 0, 0, 0, 0, 0, 0, 0, 0, 0, 0, 0, 0, 0, 0, 0, 0, 0, 0, 0, 0, 0, 0, 0, 0, 0, 0, 0, 0, 0, 0, 0, 0, 0, 0, 0, 0, 0, 0, 0, 0, 0, 0, 0, 0, 0, 0, 0, 0, 0, 0, 0, 0, 0, 0, 0, 0, 0, 0, 0, 0, 0, 0, 0, 0, 0, 0, 0, 0, 0, 0, 0, 0, 0, 0, 0, 0, 0, 0, 0, 0, 0, 0, 0, 0, 0, 0, 0, 0, 0, 0, 0, 0, 0, 0, 0, 0, 0, 0, 0, 0, 0, 0, 0, 0, 0, 0, 0, 0, 0, 0, 0, 0, 0, 0, 0, 0, 0, 0, 0, 0, 0, 0, 0, 0, 0, 0, 0, 0, 0, 0, 0, 0, 0, 0, 0, 0, 0, 0, 0, 0, 0, 0, 0, 0, 0, 0, 0, 0, 0, 0, 0, 0, 0, 0, 0, 0, 0, 0, 0, 0, 0, 0, 0, 0, 0, 0, 0, 0, 0, 0, 0, 0, 0, 0, 0, 0, 0, 0, 0, 0, 0, 0, 0, 0, 0, 0, 0, 0, 0, 0, 0, 0, 0, 0, 0, 0, 0, 0, 0, 0, 0, 0, 0, 0, 0, 0, 0, 0, 0, 0, 0, 0, 0, 0, 0, 0, 0, 0, 0, 0, 0, 0, 0, 0, 0, 0, 0, 0, 0, 0, 0, 0, 0, 0, 0, 0, 0, 0, 0, 0, 0, 0, 0, 0, 0, 0, 0, 0, 0, 0, 0, 0, 0, 0, 0, 0, 0, 0, 0, 0, 0, 0, 0, 0, 0, 0, 0, 0, 0, 0, 0, 0, 0, 0, 0, 0, 0, 0, 0, 0, 0, 0, 0, 0, 0, 0, 0, 0, 0, 0, 0, 0, 0, 0, 0, 0, 0, 0, 0, 0, 0, 0, 0, 0, 0, 0, 0, 0, 0, 0, 0, 0, 1, 0, 0, 0, 0, 0, 0, 0, 0, 0, 0, 0, 0, 0, 0, 0, 0, 0, 0, 0, 0, 0, 0, 0, 0, 0, 0, 0, 0, 0, 0, 0, 0, 0, 0, 0, 0, 0, 0, 0, 0, 0, 0, 0, 0, 0, 0, 0, 0, 0, 0, 0, 0, 0, 0, 0, 0, 0, 0, 0, 0, 0, 0, 0, 0, 0, 0, 0, 0, 0, 0, 0, 0, 0, 0, 0, 0, 0, 0, 0, 0, 0, 0, 0, 0, 0, 0, 0, 0, 0, 0, 0, 0, 0, 0, 0, 0, 0, 0, 0, 0, 0, 0, 0, 0, 0, 0, 0, 0, 0, 0, 0, 0, 0, 0, 0, 0, 0, 0, 0, 0, 0, 0, 0, 0, 0, 0, 0, 0, 0, 0, 0, 0, 0, 0, 0, 0, 0, 0, 0, 0, 0, 0, 0, 0, 0, 0, 0, 0, 0, 0, 0, 0, 0, 0, 0, 0, 0, 0, 0, 0, 0, 0, 0, 0, 0, 0, 0, 0, 0, 0, 0, 0, 0, 0, 0, 0, 0, 0, 0, 0, 0, 0, 0, 0, 0, 0, 0, 0, 0, 0, 0, 0, 0, 0, 0, 0, 0, 0, 0, 0, 0, 0, 0, 0, 0, 0, 0, 0, 0, 0, 0, 0, 0, 0, 0, 0, 0, 0, 0, 0, 0, 0, 0, 0, 0, 0, 0, 0, 0, 0, 0, 0, 0, 0, 0, 0, 0, 0, 0, 0, 0, 0, 0, 0, 0, 0, 0, 0, 0, 0, 0, 0, 0, 0, 0, 0, 0, 0, 0, 0, 0, 0, 0, 0, 0, 0, 0, 0, 0, 0, 0, 0, 0, 0, 0, 0, 0, 0, 0, 0, 0, 0, 0, 0, 0, 0, 0, 0, 0, 0], [0, 0, 0, 0, 0, 0, 0, 0, 0, 0, 0, 0, 0, 0, 0, 0, 0, 0, 0, 0, 0, 0, 0, 0, 0, 0, 0, 0, 0, 0, 0, 0, 0, 0, 0, 0, 0, 0, 0, 0, 0, 0, 0, 0, 0, 0, 0, 0, 0, 0, 0, 0, 0, 0, 0, 0, 0, 0, 0, 0, 0, 0, 0, 0, 0, 0, 0, 0, 0, 0, 0, 0, 0, 0, 0, 0, 0, 0, 0, 0, 0, 0, 0, 0, 0, 0, 0, 0, 0, 0, 0, 0, 0, 0, 0, 0, 0, 0, 0, 0, 0, 0, 0, 0, 0, 0, 0, 0, 0, 0, 0, 0, 0, 0, 0, 0, 0, 0, 0, 0, 0, 0, 0, 0, 0, 0, 0, 0, 0, 0, 0, 0, 0, 0, 0, 0, 0, 0, 0, 0, 0, 0, 0, 0, 0, 0, 0, 0, 0, 0, 0, 0, 0, 0, 0, 0, 0, 0, 0, 0, 0, 0, 0, 0, 0, 0, 0, 0, 0, 0, 0, 0, 0, 0, 0, 0, 0, 0, 0, 0, 0, 0, 0, 0, 0, 0, 0, 0, 0, 0, 0, 0, 0, 0, 0, 0, 0, 0, 0, 0, 0, 0, 0, 0, 0, 0, 0, 0, 0, 0, 0, 0, 0, 0, 0, 0, 0, 0, 0, 0, 0, 0, 0, 0, 0, 0, 0, 0, 0, 0, 0, 0, 0, 0, 0, 0, 0, 0, 0, 0, 0, 0, 0, 0, 0, 0, 0, 0, 0, 0, 0, 0, 0, 0, 0, 0, 0, 0, 0, 0, 0, 0, 0, 0, 0, 0, 0, 0, 0, 0, 0, 0, 0, 0, 0, 0, 0, 0, 0, 0, 0, 0, 0, 0, 0, 0, 0, 0, 0, 0, 0, 0, 0, 0, 0, 0, 0, 0, 0, 0, 0, 0, 0, 0, 0, 0, 0, 0, 0, 0, 0, 0, 0, 0, 0, 0, 0, 0, 0, 0, 0, 0, 0, 0, 0, 0, 0, 0, 0, 0, 0, 0, 0, 0, 0, 0, 0, 0, 0, 0, 0, 0, 0, 0, 0, 0, 0, 0, 0, 0, 0, 0, 0, 0, 0, 0, 0, 0, 0, 0, 0, 0, 0, 0, 0, 0, 0, 0, 0, 0, 0, 0, 0, 0, 0, 0, 0, 0, 0, 0, 0, 0, 0, 0, 0, 0, 0, 0, 0, 0, 0, 0, 0, 0, 0, 0, 0, 0, 0, 0, 0, 0, 0, 0, 0, 0, 0, 0, 0, 0, 0, 0, 0, 0, 0, 0, 0, 0, 0, 0, 0, 0, 0, 0, 0, 0, 0, 0, 0, 0, 0, 0, 0, 0, 0, 0, 0, 0, 0, 0, 0, 0, 0, 0, 0, 0, 0, 0, 0, 0, 0, 0, 0, 0, 0, 0, 0, 0, 0, 0, 0, 0, 0, 0, 0, 0, 0, 0, 0, 0, 0, 0, 0, 0, 0, 0, 0, 0, 0, 0, 0, 0, 0, 0, 0, 0, 0, 0, 0, 0, 0, 0, 0, 0, 0, 0, 0, 0, 0, 0, 0, 0, 0, 0, 0, 0, 0, 0, 0, 0, 0, 0, 0, 0, 0, 0, 0, 0, 0, 0, 0, 0, 0, 0, 0, 0, 0, 0, 0, 0, 0, 0, 0, 0, 0, 0, 0, 0, 0, 0, 0, 0, 0, 0, 0, 0, 0, 0, 0, 0, 0, 0, 0, 0, 0, 0, 0, 0, 0, 0, 0, 0, 0, 0, 0, 0, 0, 0, 0, 0, 0, 0, 0, 0, 0, 0, 0, 0, 0, 0, 0, 0, 0, 0, 0, 0, 0, 0, 0, 0, 0, 0, 0, 0, 0, 0, 0, 0, 0, 0, 0, 0, 0, 0, 0, 0, 0, 0, 0, 0, 0, 0, 0, 0, 0, 0, 0, 0, 0, 0, 0, 0, 0, 0, 0, 0, 0, 0, 0, 0, 0, 0, 0, 0, 0, 0, 0, 0, 0, 0, 0, 0, 0, 0, 0, 0, 0, 0, 0, 0, 0, 0, 0, 0, 0, 0, 0, 0, 0, 0, 0, 0, 0, 0, 0, 0, 0, 0, 0, 0, 0, 0, 0, 0, 0, 0, 0, 0, 0, 0, 0, 0, 0, 0, 0, 0, 0, 0, 0, 0, 0, 0, 0, 0, 0, 0, 0, 0, 0, 0, 0, 0, 0, 0, 0, 0, 0, 0, 0, 0, 0, 0, 0, 0, 0, 0, 0, 0, 0, 0, 0, 0, 0, 0, 0, 0, 0, 0, 0, 0, 0, 0, 0, 0, 0, 0, 0, 0, 0, 0, 0, 0, 0, 0, 0, 0, 0, 0, 0, 0, 0, 0, 0, 0, 0, 0, 0, 0, 0, 0, 0, 0, 0, 0, 0, 0, 0, 0, 0, 0, 0, 0, 0, 0, 0, 0, 0, 0, 0, 0, 0, 0, 0, 0, 0, 0, 0, 0, 0, 0, 0, 0, 0, 0, 0, 0, 0, 0, 0, 0, 0, 0, 0, 0, 0, 0, 0, 0, 0, 0, 0, 0, 0, 0, 0, 0, 0, 0, 0, 0, 0, 0, 0, 0, 0, 0, 0, 0, 0, 0, 0, 0, 0, 0, 0, 0, 0, 0, 0, 0, 0, 0, 0, 0, 0, 0, 0, 0, 0, 0, 0, 0, 0, 0, 0, 0, 0, 0, 0, 0, 0, 0, 0, 0, 0, 0, 0, 0, 0, 0, 0, 0, 0, 0, 0, 0, 0, 0, 0, 0, 0, 0, 0, 0, 0, 0, 0, 0, 0, 0, 0, 0, 0, 0, 0, 0, 0, 0, 0, 0, 0, 0, 0, 0, 0, 0, 0, 0, 0, 0, 0, 0, 0, 0, 0, 0, 0, 0, 0, 0, 0, 0, 0, 0, 0, 0, 0, 0, 0, 0, 0, 0, 0, 0, 0, 0, 0, 0, 0, 0, 0, 0, 0, 0, 0, 0, 0, 0, 0, 0, 0, 0, 0, 0, 0, 0, 0, 0, 1, 0, 0, 0, 0, 0, 0, 0, 0, 0, 0, 1, 0, 0, 0, 0, 0, 0, 0, 0, 0, 0, 0, 0, 0, 0, 0, 0, 0, 0, 0, 0, 0, 0, 0, 0, 0, 0, 0, 0, 0, 0, 0, 0, 0, 0, 0, 0, 0, 0, 0, 0, 0, 0, 0, 0, 0, 0, 0, 0, 0, 0, 0, 0, 0, 0, 0, 0, 0, 0, 0, 0, 0, 0, 0, 0, 0, 0, 0, 0, 0, 0, 0, 0, 0, 0, 0, 0, 0, 0, 0, 0, 0, 0, 0, 0, 0, 0, 0, 0, 0, 0, 0, 0, 0, 0, 0, 0, 0, 0, 0, 0, 0, 0, 0, 0, 0, 0, 0, 0, 0, 0, 0, 0, 0, 0, 0, 0, 0, 0, 0, 0, 0, 0, 0, 0, 0, 0, 0, 0, 0, 0, 0, 0, 0, 0, 0, 0, 0, 0, 0, 0, 0, 0, 0, 0, 0, 0, 0, 0, 0, 0, 0, 0, 0, 0, 0, 0, 0, 0, 0, 0, 0, 0, 0, 0, 0, 0, 0, 0, 0, 0, 0, 0, 0, 0, 0, 0, 0, 0, 0, 0, 0, 0, 0, 0, 0, 0, 0, 0, 0, 0, 0, 0, 0, 0, 0, 0, 0, 0, 0, 0, 0, 0, 0, 0, 0, 0, 0, 0, 0, 0, 0, 0, 0, 0, 0, 0, 0, 0, 0, 0, 0, 0, 1, 0, 0, 0, 0, 0, 0, 0, 0, 0, 0, 0], [0, 0, 0, 0, 0, 0, 0, 0, 0, 0, 0, 0, 0, 0, 0, 0, 0, 0, 0, 0, 0, 0, 0, 0, 0, 0, 0, 0, 0, 0, 0, 0, 0, 0, 0, 0, 0, 0, 0, 0, 0, 0, 0, 0, 0, 0, 0, 0, 0, 0, 0, 0, 0, 0, 0, 0, 0, 0, 0, 0, 0, 0, 0, 0, 0, 0, 0, 0, 0, 0, 0, 0, 0, 0, 0, 0, 0, 0, 0, 0, 0, 0, 0, 0, 0, 0, 0, 0, 0, 0, 0, 0, 0, 0, 0, 0, 0, 0, 0, 0, 0, 0, 0, 0, 0, 0, 0, 0, 0, 0, 0, 0, 0, 0, 0, 0, 0, 0, 0, 0, 0, 0, 0, 0, 0, 0, 0, 0, 0, 0, 0, 0, 0, 0, 0, 0, 0, 0, 0, 0, 0, 0, 0, 0, 0, 0, 0, 0, 0, 0, 0, 0, 0, 0, 0, 0, 0, 0, 0, 0, 0, 0, 0, 0, 0, 0, 0, 0, 0, 0, 0, 0, 0, 0, 0, 0, 0, 0, 0, 0, 0, 0, 0, 0, 0, 0, 0, 0, 0, 0, 0, 0, 0, 0, 0, 0, 0, 0, 0, 0, 0, 0, 0, 0, 0, 0, 0, 0, 0, 0, 0, 0, 0, 0, 0, 0, 0, 0, 0, 0, 0, 0, 0, 0, 0, 0, 0, 0, 0, 0, 0, 0, 0, 0, 0, 0, 0, 0, 0, 0, 0, 0, 0, 0, 0, 0, 0, 0, 0, 0, 0, 0, 0, 0, 0, 0, 0, 0, 0, 0, 0, 0, 0, 0, 0, 0, 0, 0, 0, 0, 0, 0, 0, 0, 0, 0, 0, 0, 0, 0, 0, 0, 0, 0, 0, 0, 0, 0, 0, 0, 0, 0, 0, 0, 0, 0, 0, 0, 0, 0, 0, 0, 0, 0, 0, 0, 0, 0, 0, 0, 0, 0, 0, 0, 0, 0, 0, 0, 0, 0, 0, 0, 0, 0, 0, 0, 0, 0, 0, 0, 0, 0, 0, 0, 0, 0, 0, 0, 0, 0, 0, 0, 0, 0, 0, 0, 0, 0, 0, 0, 0, 0, 0, 0, 0, 0, 0, 0, 0, 0, 0, 0, 0, 0, 0, 0, 0, 0, 0, 0, 0, 0, 0, 0, 0, 0, 0, 0, 0, 0, 0, 0, 0, 0, 0, 0, 0, 0, 0, 0, 0, 0, 0, 0, 0, 0, 0, 0, 0, 0, 0, 0, 0, 0, 0, 0, 0, 0, 0, 0, 0, 0, 0, 0, 0, 0, 0, 0, 0, 0, 0, 0, 0, 0, 0, 0, 0, 0, 0, 0, 0, 0, 0, 0, 0, 0, 0, 0, 0, 0, 0, 0, 0, 0, 0, 0, 0, 0, 0, 0, 0, 0, 0, 0, 0, 0, 0, 0, 0, 0, 0, 0, 0, 0, 0, 0, 0, 0, 0, 0, 0, 0, 0, 0, 0, 0, 0, 0, 0, 0, 0, 0, 0, 0, 0, 0, 0, 0, 0, 0, 0, 0, 0, 0, 0, 0, 0, 0, 0, 0, 0, 0, 0, 0, 0, 0, 0, 0, 0, 0, 0, 0, 0, 0, 0, 0, 0, 0, 0, 0, 0, 0, 0, 0, 0, 0, 0, 0, 0, 0, 0, 0, 0, 0, 0, 0, 0, 0, 0, 0, 0, 0, 0, 0, 0, 0, 0, 0, 0, 0, 0, 0, 0, 0, 0, 0, 0, 0, 0, 0, 0, 0, 0, 0, 0, 0, 0, 0, 0, 0, 0, 0, 0, 0, 0, 0, 0, 0, 0, 0, 0, 0, 0, 0, 0, 0, 0, 0, 0, 0, 0, 0, 0, 0, 0, 0, 0, 0, 0, 0, 0, 0, 0, 0, 0, 0, 0, 0, 0, 0, 0, 0, 0, 0, 0, 0, 0, 0, 0, 0, 0, 0, 0, 0, 0, 0, 0, 0, 0, 0, 0, 0, 0, 0, 0, 0, 0, 0, 0, 0, 0, 0, 0, 0, 0, 0, 0, 0, 0, 0, 0, 0, 0, 0, 0, 0, 0, 0, 0, 0, 0, 0, 0, 0, 0, 0, 0, 0, 0, 0, 0, 0, 0, 0, 0, 0, 0, 0, 0, 0, 0, 0, 0, 0, 0, 0, 0, 0, 0, 0, 0, 0, 0, 0, 0, 0, 0, 0, 0, 0, 0, 0, 0, 0, 0, 0, 0, 0, 0, 0, 0, 0, 0, 0, 0, 0, 0, 0, 0, 0, 0, 0, 0, 0, 0, 0, 0, 0, 0, 0, 0, 0, 0, 0, 0, 0, 0, 0, 0, 0, 0, 0, 0, 0, 0, 0, 0, 0, 0, 0, 0, 0, 0, 0, 0, 0, 0, 0, 0, 0, 0, 0, 0, 0, 0, 0, 0, 0, 0, 0, 0, 0, 0, 0, 0, 0, 0, 0, 0, 0, 0, 0, 0, 0, 0, 0, 0, 0, 0, 0, 0, 0, 0, 0, 0, 0, 0, 0, 0, 0, 0, 0, 0, 0, 0, 0, 0, 0, 0, 0, 0, 0, 0, 0, 0, 0, 0, 0, 0, 0, 0, 0, 0, 0, 0, 0, 0, 0, 0, 0, 0, 0, 0, 0, 0, 0, 0, 0, 0, 0, 0, 0, 0, 0, 0, 0, 0, 0, 0, 0, 0, 0, 0, 0, 0, 0, 0, 0, 0, 0, 0, 0, 0, 0, 0, 0, 0, 0, 0, 0, 0, 0, 0, 0, 0, 0, 0, 0, 0, 0, 0, 0, 0, 0, 0, 0, 0, 0, 0, 0, 0, 0, 0, 0, 0, 0, 0, 0, 0, 0, 0, 0, 0, 0, 0, 0, 0, 0, 0, 0, 0, 0, 0, 0, 0, 0, 0, 0, 0, 0, 0, 0, 0, 0, 0, 0, 0, 0, 0, 0, 0, 0, 0, 0, 0, 0, 0, 0, 0, 0, 0, 0, 0, 0, 0, 0, 0, 0, 0, 0, 0, 0, 0, 0, 0, 0, 0, 0, 0, 0, 0, 0, 0, 0, 0, 0, 0, 0, 0, 0, 0, 0, 0, 0, 0, 0, 0, 0, 0, 0, 0, 0, 0, 0, 0, 0, 0, 0, 0, 0, 0, 0, 0, 0, 0, 0, 0, 0, 0, 0, 0, 0, 0, 0, 0, 0, 0, 0, 0, 0, 0, 0, 0, 0, 0, 0, 0, 0, 0, 0, 0, 0, 0, 0, 0, 0, 0, 0, 0, 0, 0, 0, 0, 0, 0, 0, 0, 0, 0, 0, 0, 0, 0, 0, 0, 0, 0, 0, 0, 0, 0, 0, 0, 0, 0, 0, 0, 0, 0, 0, 0, 0, 0, 0, 0, 0, 0, 0, 0, 0, 0, 0, 0, 0, 0, 0, 0, 0, 0, 0, 0, 0, 0, 0, 0, 1, 0, 0, 0, 0, 0, 0, 0, 0, 0, 0, 0, 0, 0, 0, 0, 0, 0, 0, 0, 0, 0, 0, 0, 0, 0, 0, 0, 0, 0, 0, 0, 0, 0, 0, 0, 0, 0, 0, 0, 0, 0, 0, 0, 0, 0, 0, 0, 0, 0, 0, 0, 0, 1, 0, 0, 0, 0, 0, 0, 0, 0, 0, 1, 0, 0, 0, 0, 0, 0, 0, 0, 0, 0, 0, 0, 0, 0, 0, 0, 0, 0, 0, 0, 0, 0, 0, 0, 0, 0, 0, 0, 0, 0, 0, 0, 0, 0, 0, 0, 0, 0, 0, 0, 0, 0, 0, 0, 0, 0, 0, 0, 0, 0, 0, 0, 0, 0, 0], [0, 0, 0, 0, 0, 0, 0, 0, 0, 0, 0, 0, 0, 0, 0, 0, 0, 0, 0, 0, 0, 0, 0, 0, 0, 0, 0, 0, 0, 0, 0, 0, 0, 0, 0, 0, 0, 0, 0, 0, 0, 0, 0, 0, 0, 0, 0, 0, 0, 0, 0, 0, 0, 0, 0, 0, 0, 0, 0, 0, 0, 0, 0, 0, 0, 0, 0, 0, 0, 0, 0, 0, 0, 0, 0, 0, 0, 0, 0, 0, 0, 0, 0, 0, 0, 0, 0, 0, 0, 0, 0, 0, 0, 0, 0, 0, 0, 0, 0, 0, 0, 0, 0, 0, 0, 0, 0, 0, 0, 0, 0, 0, 0, 0, 0, 0, 0, 0, 0, 0, 0, 0, 0, 0, 0, 0, 0, 0, 0, 0, 0, 0, 0, 0, 0, 0, 0, 0, 0, 0, 0, 0, 0, 0, 0, 0, 0, 0, 0, 0, 0, 0, 0, 0, 0, 0, 0, 0, 0, 0, 0, 0, 0, 0, 0, 0, 0, 0, 0, 0, 0, 0, 0, 0, 0, 0, 0, 0, 0, 0, 0, 0, 0, 0, 0, 0, 0, 0, 0, 0, 0, 0, 0, 0, 0, 0, 0, 0, 0, 0, 0, 0, 0, 0, 0, 0, 0, 0, 0, 0, 0, 0, 0, 0, 0, 0, 0, 0, 0, 0, 0, 0, 0, 0, 0, 0, 0, 0, 0, 0, 0, 0, 0, 0, 0, 0, 0, 0, 0, 0, 0, 0, 0, 0, 0, 0, 0, 0, 0, 0, 0, 0, 0, 0, 0, 0, 0, 0, 0, 0, 0, 0, 0, 0, 0, 0, 0, 0, 0, 0, 0, 0, 0, 0, 0, 0, 0, 0, 0, 0, 0, 0, 0, 0, 0, 0, 0, 0, 0, 0, 0, 0, 0, 0, 0, 0, 0, 0, 0, 0, 0, 0, 0, 0, 0, 0, 0, 0, 0, 0, 0, 0, 0, 0, 0, 0, 0, 0, 0, 0, 0, 0, 0, 0, 0, 0, 0, 0, 0, 0, 0, 0, 0, 0, 0, 0, 0, 0, 0, 0, 0, 0, 0, 0, 0, 0, 0, 0, 0, 0, 0, 0, 0, 0, 0, 0, 0, 0, 0, 0, 0, 0, 0, 0, 0, 0, 0, 0, 0, 0, 0, 0, 0, 0, 0, 0, 0, 0, 0, 0, 0, 0, 0, 0, 0, 0, 0, 0, 0, 0, 0, 0, 0, 0, 0, 0, 0, 0, 0, 0, 0, 0, 0, 0, 0, 0, 0, 0, 0, 0, 0, 0, 0, 0, 0, 0, 0, 0, 0, 0, 0, 0, 0, 0, 0, 0, 0, 0, 0, 0, 0, 0, 0, 0, 0, 0, 0, 0, 0, 0, 0, 0, 0, 0, 0, 0, 0, 0, 0, 0, 0, 0, 0, 0, 0, 0, 0, 0, 0, 0, 0, 0, 0, 0, 0, 0, 0, 0, 0, 0, 0, 0, 0, 0, 0, 0, 0, 0, 0, 0, 0, 0, 0, 0, 0, 0, 0, 0, 0, 0, 0, 0, 0, 0, 0, 0, 0, 0, 0, 0, 0, 0, 0, 0, 0, 0, 0, 0, 0, 0, 0, 0, 0, 0, 0, 0, 0, 0, 0, 0, 0, 0, 0, 0, 0, 0, 0, 0, 0, 0, 0, 0, 0, 0, 0, 0, 0, 0, 0, 0, 0, 0, 0, 0, 0, 0, 0, 0, 0, 0, 0, 0, 0, 0, 0, 0, 0, 0, 0, 0, 0, 0, 0, 0, 0, 0, 0, 0, 0, 0, 0, 0, 0, 0, 0, 0, 0, 0, 0, 0, 0, 0, 0, 0, 0, 0, 0, 0, 0, 0, 0, 0, 0, 0, 0, 0, 0, 0, 0, 0, 0, 0, 0, 0, 0, 0, 0, 0, 0, 0, 0, 0, 0, 0, 0, 0, 0, 0, 0, 0, 0, 0, 0, 0, 0, 0, 0, 0, 0, 0, 0, 0, 0, 0, 0, 0, 0, 0, 0, 0, 0, 0, 0, 0, 0, 0, 0, 0, 0, 0, 0, 0, 0, 0, 0, 0, 0, 0, 0, 0, 0, 0, 0, 0, 0, 0, 0, 0, 0, 0, 0, 0, 0, 0, 0, 0, 0, 0, 0, 0, 0, 0, 0, 0, 0, 0, 0, 0, 0, 0, 0, 0, 0, 0, 0, 0, 0, 0, 0, 0, 0, 0, 0, 0, 0, 0, 0, 0, 0, 0, 0, 0, 0, 0, 0, 0, 0, 0, 0, 0, 0, 0, 0, 0, 0, 0, 0, 0, 0, 0, 0, 0, 0, 0, 0, 0, 0, 0, 0, 0, 0, 0, 0, 0, 0, 0, 0, 0, 0, 0, 0, 0, 0, 0, 0, 0, 0, 0, 0, 0, 0, 0, 0, 0, 0, 0, 0, 0, 0, 0, 0, 0, 0, 0, 0, 0, 0, 0, 0, 0, 0, 0, 0, 0, 0, 0, 0, 0, 0, 0, 0, 0, 0, 0, 0, 0, 0, 0, 0, 0, 0, 0, 0, 0, 0, 0, 0, 0, 0, 0, 0, 0, 0, 0, 0, 0, 0, 0, 0, 0, 0, 0, 0, 0, 0, 0, 0, 0, 0, 0, 0, 0, 0, 0, 0, 0, 0, 0, 0, 0, 0, 0, 0, 0, 0, 0, 0, 0, 0, 0, 0, 0, 0, 0, 0, 0, 0, 0, 0, 0, 0, 0, 0, 0, 0, 0, 0, 0, 0, 0, 0, 0, 0, 0, 0, 0, 0, 0, 0, 0, 0, 0, 0, 0, 0, 0, 0, 0, 0, 0, 0, 0, 0, 0, 0, 0, 0, 0, 0, 0, 0, 0, 0, 0, 0, 0, 0, 0, 0, 0, 0, 0, 0, 0, 0, 0, 0, 0, 0, 0, 0, 0, 0, 0, 0, 0, 0, 0, 0, 0, 0, 0, 0, 0, 0, 0, 0, 0, 0, 0, 0, 0, 0, 0, 0, 0, 0, 0, 0, 0, 0, 0, 0, 0, 0, 0, 0, 0, 0, 0, 0, 0, 0, 0, 0, 0, 0, 0, 0, 0, 0, 0, 0, 0, 0, 0, 0, 0, 0, 0, 0, 0, 0, 0, 0, 0, 0, 0, 0, 0, 0, 0, 0, 0, 0, 0, 0, 0, 0, 0, 0, 0, 0, 0, 0, 0, 0, 0, 0, 0, 0, 0, 0, 0, 0, 0, 0, 0, 0, 0, 0, 0, 0, 0, 0, 0, 0, 0, 0, 0, 0, 0, 0, 0, 0, 0, 0, 0, 0, 0, 0, 0, 0, 0, 0, 0, 0, 0, 0, 0, 0, 0, 0, 0, 0, 0, 0, 0, 0, 0, 0, 0, 0, 0, 0, 0, 0, 0, 0, 0, 0, 0, 0, 0, 0, 0, 0, 0, 0, 0, 0, 0, 0, 0, 0, 0, 0, 0, 0, 0, 0, 0, 0, 0, 0, 0, 0, 0, 0, 0, 0, 0, 0, 0, 0, 0, 0, 0, 0, 0, 0, 0, 0, 0, 0, 0, 0, 0, 0, 0, 0, 0, 0, 0, 0, 0, 0, 0, 0, 0, 0, 0, 0, 0, 0, 0, 0, 0, 0, 0, 0, 0, 0, 0, 0, 0, 0, 0, 0, 0, 0, 0, 0, 0, 0, 0, 0, 0, 0, 0, 0, 0, 0, 0, 0, 0, 0, 0, 0, 0, 0, 0, 0, 0, 0, 0, 0, 0, 0, 0, 0, 0, 0, 0, 0, 0, 0, 0, 0, 0, 0, 0, 0, 0, 0, 0, 0, 0, 0, 0, 0, 0, 0, 0], [0, 0, 0, 0, 0, 0, 0, 0, 0, 0, 0, 0, 0, 0, 0, 0, 0, 0, 0, 0, 0, 0, 0, 0, 0, 0, 0, 0, 0, 0, 0, 0, 0, 0, 0, 0, 0, 0, 0, 0, 0, 0, 0, 0, 0, 0, 0, 0, 0, 0, 0, 0, 0, 0, 0, 0, 0, 0, 0, 0, 0, 0, 0, 0, 0, 0, 0, 0, 0, 0, 0, 0, 0, 0, 0, 0, 0, 0, 0, 0, 0, 0, 0, 0, 0, 0, 0, 0, 0, 0, 0, 0, 0, 0, 0, 0, 0, 0, 0, 0, 0, 0, 0, 0, 0, 0, 0, 0, 0, 0, 0, 0, 0, 0, 0, 0, 0, 0, 0, 0, 0, 0, 0, 0, 0, 0, 0, 0, 0, 0, 0, 0, 0, 0, 0, 0, 0, 0, 0, 0, 0, 0, 0, 0, 0, 0, 0, 0, 0, 0, 0, 0, 0, 0, 0, 0, 0, 0, 0, 0, 0, 0, 0, 0, 0, 0, 0, 0, 0, 0, 0, 0, 0, 0, 0, 0, 0, 0, 0, 0, 0, 0, 0, 0, 0, 0, 0, 0, 0, 0, 0, 0, 0, 0, 0, 0, 0, 0, 0, 0, 0, 0, 0, 0, 0, 0, 0, 0, 0, 0, 0, 0, 0, 0, 0, 0, 0, 0, 0, 0, 0, 0, 0, 0, 0, 0, 0, 0, 0, 0, 0, 0, 0, 0, 0, 0, 0, 0, 0, 0, 0, 0, 0, 0, 0, 0, 0, 0, 0, 0, 0, 0, 0, 0, 0, 0, 0, 0, 0, 0, 0, 0, 0, 0, 0, 0, 0, 0, 0, 0, 0, 0, 0, 0, 0, 0, 0, 0, 0, 0, 0, 0, 0, 0, 0, 0, 0, 0, 0, 0, 0, 0, 0, 0, 0, 0, 0, 0, 0, 0, 0, 0, 0, 0, 0, 0, 0, 0, 0, 0, 0, 0, 0, 0, 0, 0, 0, 0, 0, 0, 0, 0, 0, 0, 0, 0, 0, 0, 0, 0, 0, 0, 0, 0, 0, 0, 0, 0, 0, 0, 0, 0, 0, 0, 0, 0, 0, 0, 0, 0, 0, 0, 0, 0, 0, 0, 0, 0, 0, 0, 0, 0, 0, 0, 0, 0, 0, 0, 0, 0, 0, 0, 0, 0, 0, 0, 0, 0, 0, 0, 0, 0, 0, 0, 0, 0, 0, 0, 0, 0, 0, 0, 0, 0, 0, 0, 0, 0, 0, 0, 0, 0, 0, 0, 0, 0, 0, 0, 0, 0, 0, 0, 0, 0, 0, 0, 0, 0, 0, 0, 0, 0, 0, 0, 0, 0, 0, 0, 0, 0, 0, 0, 0, 0, 0, 0, 0, 0, 0, 0, 0, 0, 0, 0, 0, 0, 0, 0, 0, 0, 0, 0, 0, 0, 0, 0, 0, 0, 0, 0, 0, 0, 0, 0, 0, 0, 0, 0, 0, 0, 0, 0, 0, 0, 0, 0, 0, 0, 0, 0, 0, 0, 0, 0, 0, 0, 0, 0, 0, 0, 0, 0, 0, 0, 0, 0, 0, 0, 0, 0, 0, 0, 0, 0, 0, 0, 0, 0, 0, 0, 0, 0, 0, 0, 0, 0, 0, 0, 0, 0, 0, 0, 0, 0, 0, 0, 0, 0, 0, 0, 0, 0, 0, 0, 0, 0, 0, 0, 0, 0, 0, 0, 0, 0, 0, 0, 0, 0, 0, 0, 0, 0, 0, 0, 0, 0, 0, 0, 0, 0, 0, 0, 0, 0, 0, 0, 0, 0, 0, 0, 0, 0, 0, 0, 0, 0, 0, 0, 0, 0, 0, 0, 0, 0, 0, 0, 0, 0, 0, 0, 0, 0, 0, 0, 0, 0, 0, 0, 0, 0, 0, 0, 0, 0, 0, 0, 0, 0, 0, 0, 0, 0, 0, 0, 0, 0, 0, 0, 0, 0, 0, 0, 0, 0, 0, 0, 0, 0, 0, 0, 0, 0, 0, 0, 0, 0, 0, 0, 0, 0, 0, 0, 0, 0, 0, 0, 0, 0, 0, 0, 0, 0, 0, 0, 0, 0, 0, 0, 0, 0, 0, 0, 0, 0, 0, 0, 0, 0, 0, 0, 0, 0, 0, 0, 0, 0, 0, 0, 0, 0, 0, 0, 0, 0, 0, 0, 0, 0, 0, 0, 0, 0, 0, 0, 0, 0, 0, 0, 0, 0, 0, 0, 0, 0, 0, 0, 0, 0, 0, 0, 0, 0, 0, 0, 0, 0, 0, 0, 0, 0, 0, 0, 0, 0, 0, 0, 0, 0, 0, 0, 0, 0, 0, 0, 0, 0, 0, 0, 0, 0, 0, 0, 0, 0, 0, 0, 0, 0, 0, 0, 0, 0, 0, 0, 0, 0, 0, 0, 0, 0, 0, 0, 0, 0, 0, 0, 0, 0, 0, 0, 0, 0, 0, 0, 0, 0, 0, 0, 0, 0, 0, 0, 0, 0, 0, 0, 0, 0, 0, 0, 0, 0, 0, 0, 0, 0, 0, 0, 0, 0, 0, 0, 0, 0, 0, 0, 0, 0, 0, 0, 0, 0, 0, 0, 0, 0, 0, 0, 0, 0, 0, 0, 0, 0, 0, 0, 0, 0, 0, 0, 0, 0, 0, 0, 0, 0, 0, 0, 0, 0, 0, 0, 0, 0, 0, 0, 0, 0, 0, 0, 0, 0, 0, 0, 0, 0, 0, 0, 0, 0, 0, 0, 0, 0, 0, 0, 0, 0, 0, 0, 0, 0, 0, 0, 0, 0, 0, 0, 0, 0, 0, 0, 0, 0, 0, 0, 0, 0, 0, 0, 0, 0, 0, 0, 0, 0, 0, 0, 0, 0, 0, 0, 0, 0, 0, 0, 0, 0, 0, 0, 0, 0, 0, 0, 0, 0, 0, 0, 0, 0, 0, 0, 0, 0, 0, 0, 0, 0, 0, 0, 0, 0, 0, 0, 0, 0, 0, 0, 0, 0, 0, 0, 0, 0, 0, 0, 0, 0, 0, 0, 1, 0, 0, 0, 0, 0, 0, 0, 0, 0, 0, 0, 0, 0, 0, 0, 0, 0, 0, 0, 0, 0, 0, 0, 0, 0, 0, 0, 0, 0, 0, 0, 0, 0, 0, 0, 0, 0, 0, 0, 0, 0, 0, 0, 0, 0, 0, 0, 0, 0, 0, 0, 0, 0, 0, 0, 0, 0, 0, 0, 0, 0, 0, 0, 0, 0, 0, 0, 0, 0, 0, 0, 0, 0, 0, 0, 0, 0, 0, 0, 0, 0, 0, 0, 0, 0, 0, 0, 0, 0, 0, 0, 0, 0, 0, 0, 0, 0, 0, 0, 0, 0, 0, 0, 0, 0, 0, 0, 0, 0, 0, 0, 0, 0, 0, 0, 0, 0, 0, 0, 0, 0, 0, 0, 0, 0, 0, 0, 0, 0, 0, 0, 0, 0, 0, 0, 0, 0, 0, 0, 0, 0, 0, 0, 0, 0, 0, 0, 0, 0, 0, 0, 0, 0, 0, 0, 0, 0, 0, 0, 0, 0, 0, 0, 0, 0, 0, 0, 0, 0, 0, 0, 0, 0, 0, 0, 0, 0, 0, 0, 0, 0, 0, 0, 0, 0, 0, 0, 0, 0, 0, 0, 0, 0, 0, 0, 0, 0, 0, 0, 0, 0, 0, 0, 0, 0, 0, 0, 0, 0, 0, 0, 0, 0, 0, 0, 0, 0, 0, 0, 0, 0, 0, 0, 0, 0, 0, 0, 0, 0, 0, 0, 0, 0, 0, 0, 0, 0, 0, 0, 0, 0, 0, 0, 0, 0, 0, 0, 0, 0, 0, 0, 0, 0], [0, 0, 0, 0, 0, 0, 0, 0, 0, 0, 0, 0, 0, 0, 0, 0, 0, 0, 0, 0, 0, 0, 0, 0, 0, 0, 0, 0, 0, 0, 0, 0, 0, 0, 0, 0, 0, 0, 0, 0, 0, 0, 0, 0, 0, 0, 0, 0, 0, 0, 0, 0, 0, 0, 0, 0, 0, 0, 0, 0, 0, 0, 0, 0, 0, 0, 0, 0, 0, 0, 0, 0, 0, 0, 0, 0, 0, 0, 0, 0, 0, 0, 0, 0, 0, 0, 0, 0, 0, 0, 0, 0, 0, 0, 0, 0, 0, 0, 0, 0, 0, 0, 0, 0, 0, 0, 0, 0, 0, 0, 0, 0, 0, 0, 0, 0, 0, 0, 0, 0, 0, 0, 0, 0, 0, 0, 0, 0, 0, 0, 0, 0, 0, 0, 0, 0, 0, 0, 0, 0, 0, 0, 0, 0, 0, 0, 0, 0, 0, 0, 0, 0, 0, 0, 0, 0, 0, 0, 0, 0, 0, 0, 0, 0, 0, 0, 0, 0, 0, 0, 0, 0, 0, 0, 0, 0, 0, 0, 0, 0, 0, 0, 0, 0, 0, 0, 0, 0, 0, 0, 0, 0, 0, 0, 0, 0, 0, 0, 0, 0, 0, 0, 0, 0, 0, 0, 0, 0, 0, 0, 0, 0, 0, 0, 0, 0, 0, 0, 0, 0, 0, 0, 0, 0, 0, 0, 0, 0, 0, 0, 0, 0, 0, 0, 0, 0, 0, 0, 0, 0, 0, 0, 0, 0, 0, 0, 0, 0, 0, 0, 0, 0, 0, 0, 0, 0, 0, 0, 0, 0, 0, 0, 0, 0, 0, 0, 0, 0, 0, 0, 0, 0, 0, 0, 0, 0, 0, 0, 0, 0, 0, 0, 0, 0, 0, 0, 0, 0, 0, 0, 0, 0, 0, 0, 0, 0, 0, 0, 0, 0, 0, 0, 0, 0, 0, 0, 0, 0, 0, 0, 0, 0, 0, 0, 0, 0, 0, 0, 0, 0, 0, 0, 0, 0, 0, 0, 0, 0, 0, 0, 0, 0, 0, 0, 0, 0, 0, 0, 0, 0, 0, 0, 0, 0, 0, 0, 0, 0, 0, 0, 0, 0, 0, 0, 0, 0, 0, 0, 0, 0, 0, 0, 0, 0, 0, 0, 0, 0, 0, 0, 0, 0, 0, 0, 0, 0, 0, 0, 0, 0, 0, 0, 0, 0, 0, 0, 0, 0, 0, 0, 0, 0, 0, 0, 0, 0, 0, 0, 0, 0, 0, 0, 0, 0, 0, 0, 0, 0, 0, 0, 0, 0, 0, 0, 0, 0, 0, 0, 0, 0, 0, 0, 0, 0, 0, 0, 0, 0, 0, 0, 0, 0, 0, 0, 0, 0, 0, 0, 0, 0, 0, 0, 0, 0, 0, 0, 0, 0, 0, 0, 0, 0, 0, 0, 0, 0, 0, 0, 0, 0, 0, 0, 0, 0, 0, 0, 0, 0, 0, 0, 0, 0, 0, 0, 0, 0, 0, 0, 0, 0, 0, 0, 0, 0, 0, 0, 0, 0, 0, 0, 0, 0, 0, 0, 0, 0, 0, 0, 0, 0, 0, 0, 0, 0, 0, 0, 0, 0, 0, 0, 0, 0, 0, 0, 0, 0, 0, 0, 0, 0, 0, 0, 0, 0, 0, 0, 0, 0, 0, 0, 0, 0, 0, 0, 0, 0, 0, 0, 0, 0, 0, 0, 0, 0, 0, 0, 0, 0, 0, 0, 0, 0, 0, 0, 0, 0, 0, 0, 0, 0, 0, 0, 0, 0, 0, 0, 0, 0, 0, 0, 0, 0, 0, 0, 0, 0, 0, 0, 0, 0, 0, 0, 0, 0, 0, 0, 0, 0, 0, 0, 0, 0, 0, 0, 0, 0, 0, 0, 0, 0, 0, 0, 0, 0, 0, 0, 0, 0, 0, 0, 0, 0, 0, 0, 0, 0, 0, 0, 0, 0, 0, 0, 0, 0, 0, 0, 0, 0, 0, 0, 0, 0, 0, 0, 0, 0, 0, 0, 0, 0, 0, 0, 0, 0, 0, 0, 0, 0, 0, 0, 0, 0, 0, 0, 0, 0, 0, 0, 0, 0, 0, 0, 0, 0, 0, 0, 0, 0, 0, 0, 0, 0, 0, 0, 0, 0, 0, 0, 0, 0, 0, 0, 0, 0, 0, 0, 0, 0, 0, 0, 0, 0, 0, 0, 0, 0, 0, 0, 0, 0, 0, 0, 0, 0, 0, 0, 0, 0, 0, 0, 0, 0, 0, 0, 0, 0, 0, 0, 0, 0, 0, 0, 0, 0, 0, 0, 0, 0, 0, 0, 0, 0, 0, 0, 0, 0, 0, 0, 0, 0, 0, 0, 0, 0, 0, 0, 0, 0, 0, 0, 0, 0, 0, 0, 0, 0, 0, 0, 0, 0, 0, 0, 0, 0, 0, 0, 0, 0, 0, 0, 0, 0, 0, 0, 0, 0, 0, 0, 0, 0, 0, 0, 0, 0, 0, 0, 0, 0, 0, 0, 0, 0, 0, 0, 0, 0, 0, 0, 0, 0, 0, 0, 0, 0, 0, 0, 0, 0, 0, 0, 0, 0, 0, 0, 0, 0, 0, 0, 0, 0, 0, 0, 0, 0, 0, 0, 0, 0, 0, 0, 0, 0, 0, 0, 0, 0, 0, 0, 0, 0, 0, 0, 0, 0, 0, 0, 0, 0, 0, 0, 0, 0, 0, 0, 0, 0, 0, 0, 0, 0, 0, 0, 0, 0, 0, 0, 0, 0, 0, 0, 0, 0, 0, 0, 0, 0, 0, 0, 0, 0, 0, 0, 0, 0, 0, 0, 0, 0, 0, 0, 0, 0, 0, 0, 0, 0, 0, 0, 0, 0, 0, 0, 0, 0, 0, 0, 0, 0, 0, 0, 0, 0, 0, 0, 0, 0, 0, 0, 0, 0, 0, 0, 0, 0, 0, 0, 0, 0, 0, 0, 0, 0, 0, 0, 0, 0, 0, 0, 0, 0, 0, 0, 0, 0, 0, 0, 0, 0, 0, 0, 0, 0, 0, 0, 0, 0, 0, 0, 0, 0, 0, 0, 0, 0, 0, 0, 0, 0, 0, 0, 0, 0, 0, 0, 0, 0, 0, 0, 0, 0, 0, 0, 0, 0, 0, 0, 0, 0, 0, 0, 0, 0, 0, 0, 0, 0, 0, 0, 0, 0, 0, 0, 0, 0, 0, 0, 0, 0, 0, 0, 0, 0, 0, 0, 0, 0, 0, 0, 0, 0, 0, 0, 0, 0, 0, 0, 0, 0, 0, 0, 0, 0, 0, 0, 0, 0, 0, 0, 0, 0, 0, 0, 0, 0, 0, 0, 0, 0, 0, 0, 0, 0, 0, 0, 0, 0, 0, 0, 0, 0, 0, 0, 0, 0, 0, 0, 0, 0, 0, 0, 0, 0, 0, 0, 0, 0, 0, 0, 0, 0, 0, 0, 0, 0, 0, 0, 0, 0, 0, 0, 0, 0, 0, 0, 0, 0, 0, 0, 0, 0, 0, 0, 0, 0, 0, 0, 0, 0, 0, 0, 0, 0, 0, 0, 0, 0, 0, 0, 0, 0, 0, 0, 0, 0, 0, 0, 0, 0, 0, 0, 0, 0, 0, 0, 0, 0, 0, 0, 0, 0, 0, 0, 0, 0, 0, 0, 0, 0, 0, 0, 0, 0, 0, 0, 0, 0, 0, 0, 0, 0, 0, 0, 0, 0, 0, 0, 0, 0, 0, 0, 0, 0, 0, 0, 0, 0, 0, 0, 0, 0, 0, 0, 0, 0, 0, 0, 0, 0, 0, 0, 0, 0, 0, 0, 0, 0, 0, 0, 0, 0, 0, 0, 0, 0], [0, 0, 0, 0, 0, 0, 0, 0, 0, 0, 0, 0, 0, 0, 0, 0, 0, 0, 0, 0, 0, 0, 0, 0, 0, 0, 0, 0, 0, 0, 0, 0, 0, 0, 0, 0, 0, 0, 0, 0, 0, 0, 0, 0, 0, 0, 0, 0, 0, 0, 0, 0, 0, 0, 0, 0, 0, 0, 0, 0, 0, 0, 0, 0, 0, 0, 0, 0, 0, 0, 0, 0, 0, 0, 0, 0, 0, 0, 0, 0, 0, 0, 0, 0, 0, 0, 0, 0, 0, 0, 0, 0, 0, 0, 0, 0, 0, 0, 0, 0, 0, 0, 0, 0, 0, 0, 0, 0, 0, 0, 0, 0, 0, 0, 0, 0, 0, 0, 0, 0, 0, 0, 0, 0, 0, 0, 0, 0, 0, 0, 0, 0, 0, 0, 0, 0, 0, 0, 0, 0, 0, 0, 0, 0, 0, 0, 0, 0, 0, 0, 0, 0, 0, 0, 0, 0, 0, 0, 0, 0, 0, 0, 0, 0, 0, 0, 0, 0, 0, 0, 0, 0, 0, 0, 0, 0, 0, 0, 0, 0, 0, 0, 0, 0, 0, 0, 0, 0, 0, 0, 0, 0, 0, 0, 0, 0, 0, 0, 0, 0, 0, 0, 0, 0, 0, 0, 0, 0, 0, 0, 0, 0, 0, 0, 0, 0, 0, 0, 0, 0, 0, 0, 0, 0, 0, 0, 0, 0, 0, 0, 0, 0, 0, 0, 0, 0, 0, 0, 0, 0, 0, 0, 0, 0, 0, 0, 0, 0, 0, 0, 0, 0, 0, 0, 0, 0, 0, 0, 0, 0, 0, 0, 0, 0, 0, 0, 0, 0, 0, 0, 0, 0, 0, 0, 0, 0, 0, 0, 0, 0, 0, 0, 0, 0, 0, 0, 0, 0, 0, 0, 0, 0, 0, 0, 0, 0, 0, 0, 0, 0, 0, 0, 0, 0, 0, 0, 0, 0, 0, 0, 0, 0, 0, 0, 0, 0, 0, 0, 0, 0, 0, 0, 0, 0, 0, 0, 0, 0, 0, 0, 0, 0, 0, 0, 0, 0, 0, 0, 0, 0, 0, 0, 0, 0, 0, 0, 0, 0, 0, 0, 0, 0, 0, 0, 0, 0, 0, 0, 0, 0, 0, 0, 0, 0, 0, 0, 0, 0, 0, 0, 0, 0, 0, 0, 0, 0, 0, 0, 0, 0, 0, 0, 0, 0, 0, 0, 0, 0, 0, 0, 0, 0, 0, 0, 0, 0, 0, 0, 0, 0, 0, 0, 0, 0, 0, 0, 0, 0, 0, 0, 0, 0, 0, 0, 0, 0, 0, 0, 0, 0, 0, 0, 0, 0, 0, 0, 0, 0, 0, 0, 0, 0, 0, 0, 0, 0, 0, 0, 0, 0, 0, 0, 0, 0, 0, 0, 0, 0, 0, 0, 0, 0, 0, 0, 0, 0, 0, 0, 0, 0, 0, 0, 0, 0, 0, 0, 0, 0, 0, 0, 0, 0, 0, 0, 0, 0, 0, 0, 0, 0, 0, 0, 0, 0, 0, 0, 0, 0, 0, 0, 0, 0, 0, 0, 0, 0, 0, 0, 0, 0, 0, 0, 0, 0, 0, 0, 0, 0, 0, 0, 0, 0, 0, 0, 0, 0, 0, 0, 0, 0, 0, 0, 0, 0, 0, 0, 0, 0, 0, 0, 0, 0, 0, 0, 0, 0, 0, 0, 0, 0, 0, 0, 0, 0, 0, 0, 0, 0, 0, 0, 0, 0, 0, 0, 0, 0, 0, 0, 0, 0, 0, 0, 0, 0, 0, 0, 0, 0, 0, 0, 0, 0, 0, 0, 0, 0, 0, 0, 0, 0, 0, 0, 0, 0, 0, 0, 0, 0, 0, 0, 0, 0, 0, 0, 0, 0, 0, 0, 0, 0, 0, 0, 0, 0, 0, 0, 0, 0, 0, 0, 0, 0, 0, 0, 0, 0, 0, 0, 0, 0, 0, 0, 0, 0, 0, 0, 0, 0, 0, 0, 0, 0, 0, 0, 0, 0, 0, 0, 0, 0, 0, 0, 0, 0, 0, 0, 0, 0, 0, 0, 0, 0, 0, 0, 0, 0, 0, 0, 0, 0, 0, 0, 0, 0, 0, 0, 0, 0, 0, 0, 0, 0, 0, 0, 0, 0, 0, 0, 0, 0, 0, 0, 0, 0, 0, 0, 0, 0, 0, 0, 0, 0, 0, 0, 0, 0, 0, 0, 0, 0, 0, 0, 0, 0, 0, 0, 0, 0, 0, 0, 0, 0, 0, 0, 0, 0, 0, 0, 0, 0, 0, 0, 0, 0, 0, 0, 0, 0, 0, 0, 0, 0, 0, 0, 0, 0, 0, 0, 0, 0, 0, 0, 0, 0, 0, 0, 0, 0, 0, 0, 0, 0, 0, 0, 0, 0, 0, 0, 0, 0, 0, 0, 0, 0, 0, 0, 0, 0, 0, 0, 0, 0, 0, 0, 0, 0, 0, 0, 0, 0, 0, 0, 0, 0, 0, 0, 0, 0, 0, 0, 0, 0, 0, 0, 0, 0, 0, 0, 0, 0, 0, 0, 0, 0, 0, 0, 0, 0, 0, 0, 0, 0, 0, 0, 0, 0, 0, 0, 0, 0, 0, 0, 0, 0, 0, 0, 0, 0, 0, 0, 0, 0, 0, 0, 0, 0, 0, 0, 0, 0, 0, 0, 0, 0, 0, 0, 0, 0, 0, 0, 0, 0, 0, 0, 0, 0, 0, 0, 0, 0, 0, 0, 0, 0, 0, 0, 0, 0, 0, 0, 0, 0, 0, 0, 0, 0, 0, 0, 0, 0, 0, 0, 0, 0, 0, 0, 0, 0, 0, 0, 0, 0, 0, 0, 0, 0, 0, 0, 0, 0, 0, 0, 0, 0, 0, 0, 0, 0, 0, 0, 0, 0, 0, 0, 0, 0, 0, 0, 0, 0, 0, 0, 0, 0, 0, 0, 0, 0, 0, 0, 0, 0, 0, 0, 0, 0, 0, 0, 0, 0, 0, 0, 0, 0, 0, 0, 0, 0, 0, 0, 0, 0, 0, 0, 0, 0, 0, 0, 0, 0, 0, 0, 0, 0, 0, 0, 0, 0, 0, 0, 0, 0, 0, 0, 0, 0, 0, 0, 0, 0, 0, 0, 0, 0, 0, 0, 0, 1, 0, 0, 0, 0, 0, 0, 0, 0, 0, 0, 0, 0, 0, 0, 0, 0, 0, 0, 0, 0, 0, 0, 0, 0, 0, 0, 0, 0, 0, 0, 0, 0, 0, 0, 0, 0, 0, 0, 0, 0, 0, 0, 0, 0, 0, 0, 0, 0, 0, 0, 0, 0, 0, 0, 0, 0, 0, 0, 0, 0, 0, 0, 0, 0, 0, 0, 0, 0, 0, 0, 0, 0, 0, 0, 0, 0, 0, 0, 0, 0, 0, 0, 0, 0, 0, 0, 0, 0, 0, 0, 0, 0, 0, 0, 0, 0, 0, 0, 0, 0, 0, 0, 0, 0, 0, 0, 0, 0, 0, 0, 0, 0, 0, 0, 0, 0, 0, 0, 0, 0, 0, 0, 0, 0, 0, 0, 0, 0, 0, 0, 0, 0, 0, 0, 0, 0, 0, 0, 0, 0, 0, 0, 0, 0, 0, 0, 0, 0, 0, 0, 0, 0, 0, 0, 0, 0, 0, 0, 0, 0, 0, 0, 0, 0, 0, 0, 0, 0, 0, 0, 0, 0, 0, 0, 0, 0, 0, 0, 0, 0, 0, 0, 0, 0, 0, 0, 0, 0, 0, 0, 0, 0, 0, 0, 0, 0, 0, 0, 0, 0, 0, 0, 0, 0, 0, 0, 0, 0, 0, 0, 0, 0, 0, 0, 0, 0], [0, 0, 0, 0, 0, 0, 0, 0, 0, 0, 0, 0, 0, 0, 0, 0, 0, 0, 0, 0, 0, 0, 0, 0, 0, 0, 0, 0, 0, 0, 0, 0, 0, 0, 0, 0, 0, 0, 0, 0, 0, 0, 0, 0, 0, 0, 0, 0, 0, 0, 0, 0, 0, 0, 0, 0, 0, 0, 0, 0, 0, 0, 0, 0, 0, 0, 0, 0, 0, 0, 0, 0, 0, 0, 0, 0, 0, 0, 0, 0, 0, 0, 0, 0, 0, 0, 0, 0, 0, 0, 0, 0, 0, 0, 0, 0, 0, 0, 0, 0, 0, 0, 0, 0, 0, 0, 0, 0, 0, 0, 0, 0, 0, 0, 0, 0, 0, 0, 0, 0, 0, 0, 0, 0, 0, 0, 0, 0, 0, 0, 0, 0, 0, 0, 0, 0, 0, 0, 0, 0, 0, 0, 0, 0, 0, 0, 0, 0, 0, 0, 0, 0, 0, 0, 0, 0, 0, 0, 0, 0, 0, 0, 0, 0, 0, 0, 0, 0, 0, 0, 0, 0, 0, 0, 0, 0, 0, 0, 0, 0, 0, 0, 0, 0, 0, 0, 0, 0, 0, 0, 0, 0, 0, 0, 0, 0, 0, 0, 0, 0, 0, 0, 1, 0, 0, 0, 0, 0, 0, 0, 0, 0, 0, 0, 0, 0, 0, 0, 0, 0, 0, 0, 0, 0, 0, 0, 0, 0, 0, 0, 0, 0, 0, 0, 0, 0, 0, 0, 0, 0, 0, 0, 0, 0, 0, 0, 0, 0, 0, 0, 0, 0, 0, 0, 0, 0, 0, 0, 0, 0, 0, 0, 0, 0, 0, 0, 0, 0, 0, 0, 0, 0, 0, 0, 0, 0, 0, 0, 0, 0, 0, 0, 0, 0, 0, 0, 0, 0, 0, 0, 0, 0, 0, 0, 0, 0, 0, 0, 0, 0, 0, 0, 0, 0, 0, 1, 0, 0, 0, 0, 0, 0, 0, 0, 0, 0, 0, 0, 0, 0, 0, 0, 0, 0, 0, 0, 0, 0, 0, 0, 0, 0, 0, 0, 0, 0, 0, 0, 0, 0, 0, 0, 0, 0, 0, 0, 0, 0, 0, 0, 0, 0, 0, 0, 0, 0, 0, 0, 0, 0, 0, 0, 0, 0, 0, 0, 0, 0, 0, 0, 0, 0, 0, 0, 0, 0, 0, 0, 0, 0, 0, 0, 0, 0, 0, 0, 0, 0, 0, 0, 0, 0, 0, 0, 0, 0, 0, 0, 0, 0, 0, 0, 0, 0, 0, 0, 0, 0, 0, 0, 0, 0, 0, 0, 0, 0, 0, 0, 0, 0, 0, 0, 0, 0, 0, 0, 0, 0, 0, 0, 0, 0, 0, 0, 0, 0, 0, 0, 0, 0, 0, 0, 0, 0, 0, 0, 0, 0, 0, 0, 0, 0, 0, 0, 0, 0, 0, 0, 0, 0, 0, 0, 0, 0, 0, 0, 0, 0, 0, 0, 0, 0, 0, 0, 0, 0, 0, 0, 0, 0, 0, 0, 0, 0, 0, 0, 0, 0, 0, 0, 0, 0, 0, 0, 0, 0, 0, 0, 0, 0, 0, 0, 0, 0, 0, 0, 0, 0, 0, 0, 0, 0, 0, 0, 0, 0, 0, 0, 0, 0, 0, 0, 0, 0, 0, 0, 0, 0, 0, 0, 0, 0, 0, 0, 0, 0, 0, 0, 0, 0, 0, 0, 0, 0, 0, 0, 0, 0, 0, 0, 0, 0, 0, 0, 0, 0, 0, 0, 0, 0, 0, 0, 0, 0, 0, 0, 0, 0, 0, 0, 0, 0, 0, 0, 0, 0, 0, 0, 0, 0, 0, 0, 0, 0, 0, 0, 0, 0, 0, 0, 0, 0, 0, 0, 0, 0, 0, 0, 0, 0, 0, 0, 0, 0, 0, 0, 0, 0, 0, 0, 0, 0, 0, 0, 0, 0, 0, 0, 0, 0, 0, 0, 0, 0, 0, 0, 0, 0, 0, 0, 0, 0, 0, 0, 0, 0, 0, 0, 0, 0, 0, 0, 0, 0, 0, 0, 0, 0, 0, 0, 0, 0, 0, 0, 0, 0, 0, 0, 0, 0, 0, 0, 0, 0, 0, 0, 0, 0, 0, 0, 0, 0, 0, 0, 0, 0, 0, 0, 0, 0, 0, 0, 0, 0, 0, 0, 0, 0, 0, 0, 0, 0, 0, 0, 0, 0, 0, 0, 0, 0, 0, 0, 0, 0, 0, 0, 0, 0, 0, 0, 0, 0, 0, 0, 0, 0, 0, 0, 0, 0, 0, 0, 0, 0, 0, 0, 0, 0, 0, 0, 0, 0, 0, 0, 0, 0, 0, 0, 0, 0, 0, 0, 0, 0, 0, 0, 0, 0, 0, 0, 0, 0, 0, 0, 0, 0, 0, 0, 0, 0, 0, 0, 0, 0, 0, 0, 0, 0, 0, 0, 0, 0, 0, 0, 0, 0, 0, 0, 0, 0, 0, 0, 0, 0, 0, 0, 0, 0, 0, 0, 0, 0, 0, 0, 0, 0, 0, 0, 0, 0, 0, 0, 0, 0, 0, 0, 0, 0, 0, 0, 0, 0, 0, 0, 0, 0, 0, 0, 0, 0, 0, 0, 0, 0, 0, 0, 0, 0, 0, 0, 0, 0, 0, 0, 0, 0, 0, 0, 0, 0, 0, 0, 0, 0, 0, 0, 0, 0, 0, 0, 0, 0, 0, 0, 0, 0, 0, 0, 0, 0, 0, 0, 0, 0, 0, 0, 0, 0, 0, 0, 0, 0, 0, 0, 0, 0, 0, 0, 0, 0, 0, 0, 0, 0, 0, 0, 0, 0, 0, 0, 0, 0, 0, 0, 0, 0, 0, 0, 0, 0, 0, 0, 0, 0, 0, 0, 0, 0, 0, 0, 0, 0, 0, 0, 0, 0, 0, 0, 0, 0, 0, 0, 0, 0, 0, 0, 0, 0, 0, 0, 0, 0, 0, 0, 0, 0, 0, 0, 0, 0, 0, 0, 0, 0, 0, 0, 0, 0, 0, 0, 0, 0, 0, 0, 0, 0, 0, 0, 0, 0, 0, 0, 0, 0, 0, 0, 0, 0, 0, 0, 0, 0, 0, 0, 0, 0, 0, 0, 0, 0, 0, 0, 0, 0, 0, 0, 0, 0, 0, 0, 1, 0, 0, 0, 0, 0, 0, 0, 0, 0, 0, 0, 0, 0, 0, 0, 0, 0, 0, 0, 0, 0, 0, 0, 0, 0, 0, 0, 0, 0, 0, 0, 0, 0, 0, 0, 0, 0, 0, 0, 0, 0, 0, 0, 0, 0, 0, 0, 0, 0, 0, 0, 0, 0, 0, 0, 0, 0, 0, 0, 0, 0, 0, 0, 0, 0, 0, 0, 0, 0, 0, 0, 0, 0, 0, 0, 0, 0, 0, 0, 0, 0, 0, 0, 0, 0, 0, 0, 0, 0, 0, 0, 0, 0, 0, 0, 0, 0, 0, 0, 0, 0, 0, 0, 0, 0, 0, 0, 0, 0, 0, 0, 0, 0, 0, 0, 0, 0, 0, 0, 0, 0, 0, 0, 0, 0, 0, 0, 0, 0, 0, 0, 0, 0, 0, 0, 0, 0, 0, 0, 0, 0, 0, 0, 0, 0, 0, 0, 0, 0, 0, 0, 0, 0, 0, 0, 1, 0, 0, 0, 0, 0, 0, 0, 0, 0, 0, 0, 0, 0, 0, 0, 0, 0, 0, 0, 0, 0, 0, 0, 0, 0, 0, 0, 0, 0, 0, 0, 0, 0, 0, 0, 0, 0, 0, 0, 0, 0, 0, 0, 0, 0, 0, 0, 0, 0, 0, 0, 0, 0, 0, 0, 0, 0], [0, 0, 0, 0, 0, 0, 0, 0, 0, 0, 0, 0, 0, 0, 0, 0, 0, 0, 0, 0, 0, 0, 0, 0, 0, 0, 0, 0, 0, 0, 0, 0, 0, 0, 0, 0, 0, 0, 0, 0, 0, 0, 0, 0, 0, 0, 0, 0, 0, 0, 0, 0, 0, 0, 0, 0, 0, 0, 0, 0, 0, 0, 0, 0, 0, 0, 0, 0, 0, 0, 0, 0, 0, 0, 0, 0, 0, 0, 0, 0, 0, 0, 0, 0, 0, 0, 0, 0, 0, 0, 0, 0, 0, 0, 0, 0, 0, 0, 0, 0, 0, 0, 0, 0, 0, 0, 0, 0, 0, 0, 0, 0, 0, 0, 0, 0, 0, 0, 0, 0, 0, 0, 0, 0, 0, 0, 0, 0, 0, 0, 0, 0, 0, 0, 0, 0, 0, 0, 0, 0, 0, 0, 0, 0, 0, 0, 0, 0, 0, 0, 0, 0, 0, 0, 0, 0, 0, 0, 0, 0, 0, 0, 0, 0, 0, 0, 0, 0, 0, 0, 0, 0, 0, 0, 0, 0, 0, 0, 0, 0, 0, 0, 0, 0, 0, 0, 0, 0, 0, 0, 0, 0, 0, 0, 0, 0, 0, 0, 0, 0, 0, 0, 0, 0, 0, 0, 0, 0, 0, 0, 0, 0, 0, 0, 0, 0, 0, 0, 0, 0, 0, 0, 0, 0, 0, 0, 0, 0, 0, 0, 0, 0, 0, 0, 0, 0, 0, 0, 0, 0, 0, 0, 0, 0, 0, 0, 0, 0, 0, 0, 0, 0, 0, 0, 0, 0, 0, 0, 0, 0, 0, 0, 0, 0, 0, 0, 0, 0, 0, 0, 0, 0, 0, 0, 0, 0, 0, 0, 0, 0, 0, 0, 0, 0, 0, 0, 0, 0, 0, 0, 0, 0, 0, 0, 0, 0, 0, 0, 0, 0, 0, 0, 0, 0, 0, 0, 0, 0, 0, 0, 0, 0, 0, 0, 0, 0, 0, 0, 0, 0, 0, 0, 0, 0, 0, 0, 0, 0, 0, 0, 0, 0, 0, 0, 0, 0, 0, 0, 0, 0, 0, 0, 0, 0, 0, 0, 0, 0, 0, 0, 0, 0, 0, 0, 0, 0, 0, 0, 0, 0, 0, 0, 0, 0, 0, 0, 0, 0, 0, 0, 0, 0, 0, 0, 0, 0, 0, 0, 0, 0, 0, 0, 0, 0, 0, 0, 0, 0, 0, 0, 0, 0, 0, 0, 0, 0, 0, 0, 0, 0, 0, 0, 0, 0, 0, 0, 0, 0, 0, 0, 0, 0, 0, 0, 0, 0, 0, 0, 0, 0, 0, 0, 0, 0, 0, 0, 0, 0, 0, 0, 0, 0, 0, 0, 0, 0, 0, 0, 0, 0, 0, 0, 0, 0, 0, 0, 0, 0, 0, 0, 0, 0, 0, 0, 0, 0, 0, 0, 0, 0, 0, 0, 0, 0, 0, 0, 0, 0, 0, 0, 0, 0, 0, 0, 0, 0, 0, 0, 0, 0, 0, 0, 0, 0, 0, 0, 0, 0, 0, 0, 0, 0, 0, 0, 0, 0, 0, 0, 0, 0, 0, 0, 0, 0, 0, 0, 0, 0, 0, 0, 0, 0, 0, 0, 0, 0, 0, 0, 0, 0, 0, 0, 0, 0, 0, 0, 0, 0, 0, 0, 0, 0, 0, 0, 0, 0, 0, 0, 0, 0, 0, 0, 0, 0, 0, 0, 0, 0, 0, 0, 0, 0, 0, 0, 0, 0, 0, 0, 0, 0, 0, 0, 0, 0, 0, 0, 0, 0, 0, 0, 0, 0, 0, 0, 0, 0, 0, 0, 0, 0, 0, 0, 0, 0, 0, 0, 0, 0, 0, 0, 0, 0, 0, 0, 0, 0, 0, 0, 0, 0, 0, 0, 0, 0, 0, 0, 0, 0, 0, 0, 0, 0, 0, 0, 0, 0, 0, 0, 0, 0, 0, 0, 0, 0, 0, 0, 0, 0, 0, 0, 0, 0, 0, 0, 0, 0, 0, 0, 0, 0, 0, 0, 0, 0, 0, 0, 0, 0, 0, 0, 0, 0, 0, 0, 0, 0, 0, 0, 0, 0, 0, 0, 0, 0, 0, 0, 0, 0, 0, 0, 0, 0, 0, 0, 0, 0, 0, 0, 0, 0, 0, 0, 0, 0, 0, 0, 0, 0, 0, 0, 0, 0, 0, 0, 0, 0, 0, 0, 0, 0, 0, 0, 0, 0, 0, 0, 0, 0, 0, 0, 0, 0, 0, 0, 0, 0, 0, 0, 0, 0, 0, 0, 0, 0, 0, 0, 0, 0, 0, 0, 0, 0, 0, 0, 0, 0, 0, 0, 0, 0, 0, 0, 0, 0, 0, 0, 0, 0, 0, 0, 0, 0, 0, 0, 0, 0, 0, 0, 0, 0, 0, 0, 0, 0, 0, 0, 0, 0, 0, 0, 0, 0, 0, 0, 0, 0, 0, 0, 0, 0, 0, 0, 0, 0, 0, 0, 0, 0, 0, 0, 0, 0, 0, 0, 0, 0, 0, 0, 0, 0, 0, 0, 0, 0, 0, 0, 0, 0, 0, 0, 0, 0, 0, 0, 0, 0, 0, 0, 0, 0, 0, 0, 0, 0, 0, 0, 0, 0, 0, 0, 0, 0, 0, 0, 0, 0, 0, 0, 0, 0, 0, 0, 0, 0, 0, 0, 0, 0, 0, 0, 0, 0, 0, 0, 0, 0, 0, 0, 0, 0, 0, 0, 0, 0, 0, 0, 0, 0, 0, 0, 0, 0, 0, 0, 0, 0, 0, 0, 0, 0, 0, 0, 0, 0, 0, 0, 0, 0, 0, 0, 0, 0, 0, 0, 0, 0, 0, 0, 0, 0, 0, 0, 0, 0, 0, 0, 0, 0, 0, 0, 0, 0, 0, 0, 0, 0, 0, 0, 0, 0, 0, 0, 0, 0, 0, 0, 0, 0, 0, 0, 0, 0, 0, 0, 0, 0, 0, 0, 0, 0, 0, 0, 0, 0, 0, 0, 0, 0, 0, 0, 0, 0, 0, 0, 0, 0, 0, 0, 0, 0, 0, 0, 0, 0, 0, 0, 0, 0, 0, 0, 0, 0, 0, 0, 0, 0, 0, 0, 0, 0, 0, 0, 0, 0, 0, 0, 0, 0, 0, 0, 0, 0, 0, 0, 0, 0, 0, 0, 0, 0, 0, 0, 0, 0, 0, 0, 0, 0, 0, 0, 1, 0, 0, 0, 0, 0, 0, 0, 0, 0, 0, 0, 0, 0, 0, 0, 0, 0, 0, 0, 0, 0, 0, 0, 0, 0, 0, 0, 0, 0, 0, 0, 0, 0, 0, 0, 0, 0, 0, 0, 0, 0, 0, 0, 0, 0, 0, 0, 0, 0, 0, 0, 0, 0, 0, 0, 0, 0, 0, 0, 0, 0, 0, 0, 0, 0, 0, 0, 0, 0, 0, 0, 0, 0, 0, 0, 0, 0, 0, 0, 0, 0, 0, 0, 0, 0, 0, 0, 0, 0, 0, 0, 0, 0, 0, 0, 0, 0, 0, 0, 0, 0, 0, 0, 0, 0, 0, 0, 0, 0, 0, 0, 0, 0, 0, 0, 0, 0, 0, 0, 0, 0, 0, 0, 0, 0, 0, 0, 0, 0, 0, 0, 0, 0, 0, 0, 0, 0, 0, 0, 0, 0, 0, 0, 0, 0, 0, 0, 0, 0, 0, 0, 0, 0, 0, 0, 0, 0, 0, 0, 0, 0, 0, 0, 0, 0, 0, 0, 0, 0, 0, 0, 0, 0, 0, 0, 0, 0, 0, 0, 0, 0, 0, 0, 0, 0, 0, 0, 0, 0, 0, 0, 0, 0], [0, 0, 0, 0, 0, 0, 0, 0, 0, 0, 0, 0, 0, 0, 0, 0, 0, 0, 0, 0, 0, 0, 0, 0, 0, 0, 0, 0, 0, 0, 0, 0, 0, 0, 0, 0, 0, 0, 0, 0, 0, 0, 0, 0, 0, 0, 0, 0, 0, 0, 0, 0, 0, 0, 0, 0, 0, 0, 0, 0, 0, 0, 0, 0, 0, 0, 0, 0, 0, 0, 0, 0, 0, 0, 0, 0, 0, 0, 0, 0, 0, 0, 0, 0, 0, 0, 0, 0, 0, 0, 0, 0, 0, 0, 0, 0, 0, 0, 0, 0, 0, 0, 0, 0, 0, 0, 0, 0, 0, 0, 0, 0, 0, 0, 0, 0, 0, 0, 0, 0, 0, 0, 0, 0, 0, 0, 0, 0, 0, 0, 0, 0, 0, 0, 0, 0, 0, 0, 0, 0, 0, 0, 0, 0, 0, 0, 0, 0, 0, 0, 0, 0, 0, 0, 0, 0, 0, 0, 0, 0, 0, 0, 0, 0, 0, 0, 0, 0, 0, 0, 0, 0, 0, 0, 0, 0, 0, 0, 0, 0, 0, 0, 0, 0, 0, 0, 0, 0, 0, 0, 0, 0, 0, 0, 0, 0, 0, 0, 0, 0, 0, 0, 0, 0, 0, 0, 0, 0, 0, 0, 0, 0, 0, 0, 0, 0, 0, 0, 0, 0, 0, 0, 0, 0, 0, 0, 0, 0, 0, 0, 0, 0, 0, 0, 0, 0, 0, 0, 0, 0, 0, 0, 0, 0, 0, 0, 0, 0, 0, 0, 0, 0, 0, 0, 0, 0, 0, 0, 0, 0, 0, 0, 0, 0, 0, 0, 0, 0, 0, 0, 0, 0, 0, 0, 0, 0, 0, 0, 0, 0, 0, 0, 0, 0, 0, 0, 0, 0, 0, 0, 0, 0, 0, 0, 0, 0, 0, 0, 0, 0, 0, 0, 0, 0, 0, 0, 0, 0, 0, 0, 0, 0, 0, 0, 0, 0, 0, 0, 0, 0, 0, 0, 0, 0, 0, 0, 0, 0, 0, 0, 0, 0, 0, 0, 0, 0, 0, 0, 0, 0, 0, 0, 0, 0, 0, 0, 0, 0, 0, 0, 0, 0, 0, 0, 0, 0, 0, 0, 0, 0, 0, 0, 0, 0, 0, 0, 0, 0, 0, 0, 0, 0, 0, 0, 0, 0, 0, 0, 0, 0, 0, 0, 0, 0, 0, 0, 0, 0, 0, 0, 0, 0, 0, 0, 0, 0, 0, 0, 0, 0, 0, 0, 0, 0, 0, 0, 0, 0, 0, 0, 0, 0, 0, 0, 0, 0, 0, 0, 0, 0, 0, 0, 0, 0, 0, 0, 0, 0, 0, 0, 0, 0, 0, 0, 0, 0, 0, 0, 0, 0, 0, 0, 0, 0, 0, 0, 0, 0, 0, 0, 0, 0, 0, 0, 0, 0, 0, 0, 0, 0, 0, 0, 0, 0, 0, 0, 0, 0, 0, 0, 0, 0, 0, 0, 0, 0, 0, 0, 0, 0, 0, 0, 0, 0, 0, 0, 0, 0, 0, 0, 0, 0, 0, 0, 0, 0, 0, 0, 0, 0, 0, 0, 0, 0, 0, 0, 0, 0, 0, 0, 0, 0, 0, 0, 0, 0, 0, 0, 0, 0, 0, 0, 0, 0, 0, 0, 0, 0, 0, 0, 0, 0, 0, 0, 0, 0, 0, 0, 0, 0, 0, 0, 0, 0, 0, 0, 0, 0, 0, 0, 0, 0, 0, 0, 0, 0, 0, 0, 0, 0, 0, 0, 0, 0, 0, 0, 0, 0, 0, 0, 0, 0, 0, 0, 0, 0, 0, 0, 0, 0, 0, 0, 0, 0, 0, 0, 0, 0, 0, 0, 0, 0, 0, 0, 0, 0, 0, 0, 0, 0, 0, 0, 0, 0, 0, 0, 0, 0, 0, 0, 0, 0, 0, 0, 0, 0, 0, 0, 0, 0, 0, 0, 0, 0, 0, 0, 0, 0, 0, 0, 0, 0, 0, 0, 0, 0, 0, 0, 0, 0, 0, 0, 0, 0, 0, 0, 0, 0, 0, 0, 0, 0, 0, 0, 0, 0, 0, 0, 0, 0, 0, 0, 0, 0, 0, 0, 0, 0, 0, 0, 0, 0, 0, 0, 0, 0, 0, 0, 0, 0, 0, 0, 0, 0, 0, 0, 0, 0, 0, 0, 0, 0, 0, 0, 0, 0, 0, 0, 0, 0, 0, 0, 0, 0, 0, 0, 0, 0, 0, 0, 0, 0, 0, 0, 0, 0, 0, 0, 0, 0, 0, 0, 0, 0, 0, 0, 0, 0, 0, 0, 0, 0, 0, 0, 0, 0, 0, 0, 0, 0, 0, 0, 0, 0, 0, 0, 0, 0, 0, 0, 0, 0, 0, 0, 0, 0, 0, 0, 0, 0, 0, 0, 0, 0, 0, 0, 0, 0, 0, 0, 0, 0, 0, 0, 0, 0, 0, 0, 0, 0, 0, 0, 0, 0, 0, 0, 0, 0, 0, 0, 0, 0, 0, 0, 0, 0, 0, 0, 0, 0, 0, 0, 0, 0, 0, 0, 0, 0, 0, 0, 0, 0, 0, 0, 0, 0, 0, 0, 0, 0, 0, 0, 0, 0, 0, 0, 0, 0, 0, 0, 0, 0, 0, 0, 0, 0, 0, 0, 0, 0, 0, 0, 0, 0, 0, 0, 0, 0, 0, 0, 0, 0, 0, 0, 0, 0, 0, 0, 0, 0, 0, 0, 0, 0, 0, 0, 0, 0, 0, 0, 0, 0, 0, 0, 0, 0, 0, 0, 0, 0, 0, 0, 0, 0, 0, 0, 0, 0, 0, 0, 0, 0, 0, 0, 0, 0, 0, 0, 0, 0, 0, 0, 0, 0, 0, 0, 0, 0, 0, 0, 0, 0, 0, 0, 0, 0, 0, 0, 0, 0, 0, 0, 0, 0, 0, 0, 0, 0, 0, 0, 0, 0, 0, 0, 0, 0, 0, 0, 0, 0, 0, 0, 0, 0, 0, 0, 0, 0, 0, 0, 0, 0, 0, 0, 0, 0, 0, 0, 0, 0, 0, 0, 0, 0, 0, 0, 0, 0, 0, 0, 0, 0, 0, 0, 0, 0, 0, 0, 0, 0, 0, 0, 0, 0, 0, 0, 0, 0, 0, 0, 0, 0, 0, 0, 0, 0, 0, 0, 0, 0, 0, 0, 0, 0, 0, 0, 0, 0, 0, 0, 0, 0, 0, 0, 0, 0, 0, 0, 0, 0, 0, 0, 0, 0, 0, 0, 0, 0, 0, 0, 0, 0, 1, 0, 0, 0, 0, 0, 0, 0, 0, 0, 0, 0, 0, 0, 0, 0, 0, 0, 0, 0, 0, 0, 0, 0, 0, 0, 0, 0, 0, 0, 0, 0, 0, 0, 0, 0, 0, 0, 0, 0, 0, 0, 0, 0, 0, 0, 0, 0, 0, 0, 0, 0, 0, 0, 0, 0, 0, 0, 0, 0, 0, 0, 0, 0, 0, 0, 0, 0, 0, 0, 0, 0, 0, 0, 0, 0, 0, 0, 0, 0, 0, 0, 0, 0, 0, 0, 0, 0, 0, 0, 0, 0, 0, 0, 0, 0, 0, 0, 0, 0, 0, 0, 0, 0, 0, 0, 0, 0, 0, 0, 0, 0, 0, 0, 0, 0, 0, 0, 0, 0, 0, 0, 0, 0, 0, 0, 0, 0, 0, 0, 0, 0, 0, 0, 0, 0, 0, 0, 0, 0, 0, 0, 0, 0, 0, 0, 0, 0, 0, 0, 0, 0, 0, 0, 0, 0, 0, 0, 0, 0, 0, 0, 0, 0, 0, 0, 0, 0, 0, 0, 0, 0], [0, 0, 0, 0, 0, 0, 0, 0, 0, 0, 0, 0, 0, 0, 0, 0, 0, 0, 0, 0, 0, 0, 0, 0, 0, 0, 0, 0, 0, 0, 0, 0, 0, 0, 0, 0, 0, 0, 0, 0, 0, 0, 0, 0, 0, 0, 0, 0, 0, 0, 0, 0, 0, 0, 0, 0, 0, 0, 0, 0, 0, 0, 0, 0, 0, 0, 0, 0, 0, 0, 0, 0, 0, 0, 0, 0, 0, 0, 0, 0, 0, 0, 0, 0, 0, 0, 0, 0, 0, 0, 0, 0, 0, 0, 0, 0, 0, 0, 0, 0, 0, 0, 0, 0, 0, 0, 0, 0, 0, 0, 0, 0, 0, 0, 0, 0, 0, 0, 0, 0, 0, 0, 0, 0, 0, 0, 0, 0, 0, 0, 0, 0, 0, 0, 0, 0, 0, 0, 0, 0, 0, 0, 0, 0, 0, 0, 0, 0, 0, 0, 0, 0, 0, 0, 0, 0, 0, 0, 0, 0, 0, 0, 0, 0, 0, 0, 0, 0, 0, 0, 0, 0, 0, 0, 0, 0, 0, 0, 0, 0, 0, 0, 0, 0, 0, 0, 0, 0, 0, 0, 0, 0, 0, 0, 0, 0, 0, 0, 0, 0, 0, 0, 0, 0, 0, 0, 0, 0, 0, 0, 0, 0, 0, 0, 0, 0, 0, 0, 0, 0, 0, 0, 0, 0, 0, 0, 0, 0, 0, 0, 0, 0, 0, 0, 0, 0, 0, 0, 0, 0, 0, 0, 0, 0, 0, 0, 0, 0, 0, 0, 0, 0, 0, 0, 0, 0, 0, 0, 0, 0, 0, 0, 0, 0, 0, 0, 0, 0, 0, 0, 0, 0, 0, 0, 0, 0, 0, 0, 0, 0, 0, 0, 0, 0, 0, 0, 0, 0, 0, 0, 0, 0, 0, 0, 0, 0, 0, 0, 0, 0, 0, 0, 0, 0, 0, 0, 0, 0, 0, 0, 0, 0, 0, 0, 0, 0, 0, 0, 0, 0, 0, 0, 0, 0, 0, 0, 0, 0, 0, 0, 0, 0, 0, 0, 0, 0, 0, 0, 0, 0, 0, 0, 0, 0, 0, 0, 0, 0, 0, 0, 0, 0, 0, 0, 0, 0, 0, 0, 0, 0, 0, 0, 0, 0, 0, 0, 0, 0, 0, 0, 0, 0, 0, 0, 0, 0, 0, 0, 0, 0, 0, 0, 0, 0, 0, 0, 0, 0, 0, 0, 0, 0, 0, 0, 0, 0, 0, 0, 0, 0, 0, 0, 0, 0, 0, 0, 0, 0, 0, 0, 0, 0, 0, 0, 0, 0, 0, 0, 0, 0, 0, 0, 0, 0, 0, 0, 0, 0, 0, 0, 0, 0, 0, 0, 0, 0, 0, 0, 0, 0, 0, 0, 0, 0, 0, 0, 0, 0, 0, 0, 0, 0, 0, 0, 0, 0, 0, 0, 0, 0, 0, 0, 0, 0, 0, 0, 0, 0, 0, 0, 0, 0, 0, 0, 0, 0, 0, 0, 0, 0, 0, 0, 0, 0, 0, 0, 0, 0, 0, 0, 0, 0, 0, 0, 0, 0, 0, 0, 0, 0, 0, 0, 0, 0, 0, 0, 0, 0, 0, 0, 0, 0, 0, 0, 0, 0, 0, 0, 0, 0, 0, 0, 0, 0, 0, 0, 0, 0, 0, 0, 0, 0, 0, 0, 0, 0, 0, 0, 0, 0, 0, 0, 0, 0, 0, 0, 0, 0, 0, 0, 0, 0, 0, 0, 0, 0, 0, 0, 0, 0, 0, 0, 0, 0, 0, 0, 0, 0, 0, 0, 0, 0, 0, 0, 0, 0, 0, 0, 0, 0, 0, 0, 0, 0, 0, 0, 0, 0, 0, 0, 0, 0, 0, 0, 0, 0, 0, 0, 0, 0, 0, 0, 0, 0, 0, 0, 0, 0, 0, 0, 0, 0, 0, 0, 0, 0, 0, 0, 0, 0, 0, 0, 0, 0, 0, 0, 0, 0, 0, 0, 0, 0, 0, 0, 0, 0, 0, 0, 0, 0, 0, 0, 0, 0, 0, 0, 0, 0, 0, 0, 0, 0, 0, 0, 0, 0, 0, 0, 0, 0, 0, 0, 0, 0, 0, 0, 0, 0, 0, 0, 0, 0, 0, 0, 0, 0, 0, 0, 0, 0, 0, 0, 0, 0, 0, 0, 0, 0, 0, 0, 0, 0, 0, 0, 0, 0, 0, 0, 0, 0, 0, 0, 0, 0, 0, 0, 0, 0, 0, 0, 0, 0, 0, 0, 0, 0, 0, 0, 0, 0, 0, 0, 0, 0, 0, 0, 0, 0, 0, 0, 0, 0, 0, 0, 0, 0, 0, 0, 0, 0, 0, 0, 0, 0, 0, 0, 0, 0, 0, 0, 0, 0, 0, 0, 0, 0, 0, 0, 0, 0, 0, 0, 0, 0, 0, 0, 0, 0, 0, 0, 0, 0, 0, 0, 0, 0, 0, 0, 0, 0, 0, 0, 0, 0, 0, 0, 0, 0, 0, 0, 0, 0, 0, 0, 0, 0, 0, 0, 0, 0, 0, 0, 0, 0, 0, 0, 0, 0, 0, 0, 0, 0, 0, 0, 0, 0, 0, 0, 0, 0, 0, 0, 0, 0, 0, 0, 0, 0, 0, 0, 0, 0, 0, 0, 0, 0, 0, 0, 0, 0, 0, 0, 0, 0, 0, 0, 0, 0, 0, 0, 0, 0, 0, 0, 0, 0, 0, 0, 0, 0, 0, 0, 0, 0, 0, 0, 0, 0, 0, 0, 0, 0, 0, 0, 0, 0, 0, 0, 0, 0, 0, 0, 0, 0, 0, 0, 0, 0, 0, 0, 0, 0, 0, 0, 0, 0, 0, 0, 0, 0, 0, 0, 0, 0, 0, 0, 0, 0, 0, 0, 0, 0, 0, 0, 0, 0, 0, 0, 0, 0, 0, 0, 0, 0, 0, 0, 0, 0, 0, 0, 0, 0, 1, 0, 0, 0, 0, 0, 0, 0, 0, 0, 0, 0, 0, 0, 0, 0, 0, 0, 0, 0, 0, 0, 0, 0, 0, 0, 0, 0, 0, 0, 0, 0, 0, 0, 0, 0, 0, 0, 0, 0, 0, 0, 0, 0, 0, 0, 0, 0, 0, 0, 0, 0, 0, 0, 0, 0, 0, 0, 0, 0, 0, 0, 0, 0, 0, 0, 0, 0, 0, 0, 0, 0, 0, 0, 0, 0, 0, 0, 0, 0, 0, 0, 0, 0, 0, 0, 0, 0, 0, 0, 0, 0, 0, 0, 0, 0, 0, 0, 0, 0, 0, 0, 0, 0, 0, 0, 0, 0, 0, 0, 0, 0, 0, 0, 0, 0, 0, 0, 0, 0, 0, 0, 0, 0, 0, 0, 0, 0, 0, 0, 0, 0, 0, 0, 0, 0, 0, 0, 0, 0, 0, 0, 0, 0, 0, 0, 0, 0, 0, 0, 0, 0, 0, 0, 0, 0, 0, 0, 0, 0, 0, 0, 0, 0, 0, 0, 0, 0, 0, 0, 0, 0, 0, 0, 0, 0, 0, 0, 0, 0, 0, 0, 0, 0, 0, 0, 0, 0, 0, 0, 0, 0, 0, 0, 0, 0, 0, 0, 0, 0, 0, 0, 0, 0, 0, 0, 0, 0, 0, 0, 0, 0, 0, 0, 0, 0, 0, 0, 0, 0, 0, 0, 0, 0, 0, 0, 0, 0, 0, 0, 0, 0, 0, 0, 0, 0, 0, 0, 0, 0, 0, 0, 0, 0, 0, 0, 0, 0, 0, 0, 0, 0, 0, 0, 0, 0, 0, 0, 0, 0, 0, 0, 0, 0, 0, 0, 0, 0, 0, 0, 0, 0]]\n",
      "20\n"
     ]
    }
   ],
   "source": [
    "nodes_name_G_proj = np.array(list(graph['original_graph_proj'].nodes()))\n",
    "nodes_name_G_recived = np.array(list(graph['original_graph_received'].nodes()))\n",
    "\n",
    "proj_nodes = graph['proj_nodes']\n",
    "receipient_nodes = graph['receipient_nodes']\n",
    "    \n",
    "inf_vector_proj_list = []\n",
    "\n",
    "for pred in predictions:\n",
    "    # Find the final infected index in the receiving network, and use it to find the seed infected nodes in the projecting network. \n",
    "    inf_recived_idx = []\n",
    "    # i is name of the infected notes in received network\n",
    "    for i in nodes_name_G_recived[pred == 1]:\n",
    "        # print(i)\n",
    "        inf_recived_idx.extend(np.where(receipient_nodes == str(i))[0].tolist())\n",
    "\n",
    "    # seed_name_received = nodes_name_G_recived[inf_proj_idx]\n",
    "    inf_name_proj = proj_nodes[inf_recived_idx]\n",
    "\n",
    "    print(\"check git inf node\")\n",
    "    print(inf_name_proj)\n",
    "    print(len(inf_name_proj))\n",
    "\n",
    "    # convert to integer!!\n",
    "    # seed_name_received = list(map(int, seed_name_received))\n",
    "\n",
    "\n",
    "    inf_vector_proj = []\n",
    "    for index, element in enumerate(nodes_name_G_proj):\n",
    "        # print(type(element))\n",
    "        # print(element)\n",
    "        inf_vector_proj.append(1) if element in inf_name_proj else inf_vector_proj.append(0)\n",
    "\n",
    "    # print(inf_vector_proj)\n",
    "    # num_ones = sum(1 for elem in inf_vector_proj if elem == 1)\n",
    "    # print(\"Number of 1's:\", num_ones)\n",
    "    inf_vector_proj_list.append(inf_vector_proj)\n",
    "\n",
    "print(\"check git inf vector\")\n",
    "print(inf_vector_proj_list)\n",
    "print(len(inf_vector_proj_list))\n"
   ]
  },
  {
   "cell_type": "markdown",
   "metadata": {},
   "source": [
    "5. Use those infected nodes to find the original source in the projection network (github) "
   ]
  },
  {
   "cell_type": "code",
   "execution_count": 129,
   "metadata": {},
   "outputs": [],
   "source": [
    "git_test_threshold = 0.05"
   ]
  },
  {
   "cell_type": "code",
   "execution_count": 130,
   "metadata": {},
   "outputs": [
    {
     "name": "stdout",
     "output_type": "stream",
     "text": [
      "i=0\n"
     ]
    },
    {
     "name": "stdout",
     "output_type": "stream",
     "text": [
      "accuracy: 0.8122923588039868\n",
      "precision_score: 0.18072289156626506\n",
      "recall_score: 0.25\n",
      "f1_score: 0.20979020979020976\n",
      "roc_auc_score: 0.5829335793357934\n",
      "i=1\n",
      "accuracy: 0.8189368770764119\n",
      "precision_score: 0.19375\n",
      "recall_score: 0.25833333333333336\n",
      "f1_score: 0.22142857142857142\n",
      "roc_auc_score: 0.5987546125461254\n",
      "i=2\n",
      "accuracy: 0.8355481727574751\n",
      "precision_score: 0.25625\n",
      "recall_score: 0.3416666666666667\n",
      "f1_score: 0.2928571428571428\n",
      "roc_auc_score: 0.6461869618696188\n",
      "i=3\n",
      "accuracy: 0.8214285714285714\n",
      "precision_score: 0.19745222929936307\n",
      "recall_score: 0.25833333333333336\n",
      "f1_score: 0.22382671480144406\n",
      "roc_auc_score: 0.6215290590405904\n",
      "i=4\n",
      "accuracy: 0.8338870431893688\n",
      "precision_score: 0.2619047619047619\n",
      "recall_score: 0.36666666666666664\n",
      "f1_score: 0.3055555555555555\n",
      "roc_auc_score: 0.6880573493234933\n",
      "i=5\n",
      "accuracy: 0.8264119601328903\n",
      "precision_score: 0.2568306010928962\n",
      "recall_score: 0.39166666666666666\n",
      "f1_score: 0.31023102310231027\n",
      "roc_auc_score: 0.6649484932349323\n",
      "i=6\n",
      "accuracy: 0.8322259136212624\n",
      "precision_score: 0.24691358024691357\n",
      "recall_score: 0.3333333333333333\n",
      "f1_score: 0.28368794326241137\n",
      "roc_auc_score: 0.6716213099630997\n",
      "i=7\n",
      "accuracy: 0.8131229235880398\n",
      "precision_score: 0.21311475409836064\n",
      "recall_score: 0.325\n",
      "f1_score: 0.25742574257425743\n",
      "roc_auc_score: 0.6197686039360394\n",
      "i=8\n",
      "accuracy: 0.8147840531561462\n",
      "precision_score: 0.1761006289308176\n",
      "recall_score: 0.23333333333333334\n",
      "f1_score: 0.20071684587813618\n",
      "roc_auc_score: 0.6020871771217713\n",
      "i=9\n",
      "accuracy: 0.8098006644518272\n",
      "precision_score: 0.17751479289940827\n",
      "recall_score: 0.25\n",
      "f1_score: 0.20761245674740483\n",
      "roc_auc_score: 0.601329950799508\n",
      "i=10\n",
      "accuracy: 0.8147840531561462\n",
      "precision_score: 0.2154696132596685\n",
      "recall_score: 0.325\n",
      "f1_score: 0.25913621262458475\n",
      "roc_auc_score: 0.6192304735547356\n",
      "i=11\n",
      "accuracy: 0.8363787375415282\n",
      "precision_score: 0.25161290322580643\n",
      "recall_score: 0.325\n",
      "f1_score: 0.28363636363636363\n",
      "roc_auc_score: 0.6681772755227552\n",
      "i=12\n",
      "accuracy: 0.8056478405315615\n",
      "precision_score: 0.1797752808988764\n",
      "recall_score: 0.26666666666666666\n",
      "f1_score: 0.21476510067114093\n",
      "roc_auc_score: 0.6079258917589176\n",
      "i=13\n",
      "accuracy: 0.8056478405315615\n",
      "precision_score: 0.1686046511627907\n",
      "recall_score: 0.24166666666666667\n",
      "f1_score: 0.1986301369863014\n",
      "roc_auc_score: 0.6062499999999998\n",
      "i=14\n",
      "accuracy: 0.803156146179402\n",
      "precision_score: 0.17679558011049723\n",
      "recall_score: 0.26666666666666666\n",
      "f1_score: 0.21262458471760798\n",
      "roc_auc_score: 0.593584717097171\n",
      "i=15\n",
      "accuracy: 0.7998338870431894\n",
      "precision_score: 0.17647058823529413\n",
      "recall_score: 0.275\n",
      "f1_score: 0.21498371335504887\n",
      "roc_auc_score: 0.6141105473554737\n",
      "i=16\n",
      "accuracy: 0.8289036544850499\n",
      "precision_score: 0.25842696629213485\n",
      "recall_score: 0.38333333333333336\n",
      "f1_score: 0.30872483221476515\n",
      "roc_auc_score: 0.6601168511685117\n",
      "i=17\n",
      "accuracy: 0.8164451827242525\n",
      "precision_score: 0.16556291390728478\n",
      "recall_score: 0.20833333333333334\n",
      "f1_score: 0.1845018450184502\n",
      "roc_auc_score: 0.6113814575645755\n",
      "i=18\n",
      "accuracy: 0.8098006644518272\n",
      "precision_score: 0.18128654970760233\n",
      "recall_score: 0.25833333333333336\n",
      "f1_score: 0.21305841924398625\n",
      "roc_auc_score: 0.6244503382533826\n",
      "i=19\n",
      "accuracy: 0.8164451827242525\n",
      "precision_score: 0.2356020942408377\n",
      "recall_score: 0.375\n",
      "f1_score: 0.2893890675241158\n",
      "roc_auc_score: 0.6427928966789669\n"
     ]
    }
   ],
   "source": [
    "test_acc_proj = 0\n",
    "test_pr_proj = 0\n",
    "test_re_proj = 0\n",
    "test_fs_proj = 0\n",
    "test_auc_proj = 0\n",
    "\n",
    "\n",
    "num_node = adj_proj.shape[0]\n",
    "\n",
    "\n",
    "for i, influ_mat in enumerate(inverse_pairs_proj_test):\n",
    "    print(\"i={:d}\".format(i))\n",
    "    seed_vec = influ_mat[:, 0]\n",
    "\n",
    "    # influ_vec = influ_mat[:, -1]\n",
    "    influ_vec = np.array(inf_vector_proj_list[i])\n",
    "    # print(type(influ_vec))\n",
    "    # print(type(seed_vector_proj))\n",
    "    # break\n",
    "\n",
    "\n",
    "    V3 = influ_vec\n",
    "    V4 = influ_vec\n",
    "    V3[influ_vec < 0.5] =  0\n",
    "    V4[influ_vec >= 0.5] =  1\n",
    "    d1 = influ_vec\n",
    "    d1 = d1[:, np.newaxis]\n",
    "    d2 = (1 - alpha) * np.matmul(np.linalg.inv(np.eye(N=num_node) - alpha * S_proj), influ_vec)\n",
    "    d2 = d2[:, np.newaxis]\n",
    "    d3 = (1 - alpha) * np.matmul(np.linalg.inv(np.eye(N=num_node) - alpha * S_proj), V3)\n",
    "    d3 = d3[:, np.newaxis]\n",
    "    d4 = (1 - alpha) * np.matmul(np.linalg.inv(np.eye(N=num_node) - alpha * S_proj), V4)\n",
    "    d4 = d4[:, np.newaxis]\n",
    "    x = np.concatenate((d1, d2, d3, d4), axis=1)\n",
    "    x = torch.tensor(x,dtype=torch.float).to(device)\n",
    "    pred = model_proj(x, edge_index_proj)\n",
    "    pred = torch.softmax(pred,dim=1)\n",
    "    pred = pred[:,1].squeeze(-1).cpu().detach().numpy()\n",
    "    # print(pred)\n",
    "    # print(seed_vec)\n",
    "#     if i < 50:\n",
    "#         train_acc += accuracy_score(seed_vec, pred >= 0.5)\n",
    "#         train_pr += precision_score(seed_vec, pred >= 0.5, zero_division=1)\n",
    "#         train_re += recall_score(seed_vec, pred >= 0.5)\n",
    "#         train_fs += f1_score(seed_vec, pred >= 0.5)\n",
    "#         train_auc += roc_auc_score(seed_vec, pred)\n",
    "    # if i >= 50:\n",
    "    print(\"accuracy: \" + str(accuracy_score(seed_vec, pred >= git_test_threshold)))\n",
    "    print(\"precision_score: \" + str(precision_score(seed_vec, pred >= git_test_threshold, zero_division=0)))\n",
    "    print(\"recall_score: \" + str(recall_score(seed_vec, pred >= git_test_threshold)))\n",
    "    print(\"f1_score: \" + str(f1_score(seed_vec, pred >= git_test_threshold)))\n",
    "    print(\"roc_auc_score: \" + str(roc_auc_score(seed_vec, pred)))\n",
    "\n",
    "    test_acc_proj += accuracy_score(seed_vec, pred >= git_test_threshold)\n",
    "    test_pr_proj += precision_score(seed_vec, pred >= git_test_threshold, zero_division=0)\n",
    "    test_re_proj += recall_score(seed_vec, pred >= git_test_threshold)\n",
    "    test_fs_proj += f1_score(seed_vec, pred >= git_test_threshold)\n",
    "    test_auc_proj += roc_auc_score(seed_vec, pred)\n",
    "# print(\"train:\" + '{:.4f}'.format(train_acc / 50) + \"&\" + '{:.4f}'.format(train_pr / 50) + \"&\" + '{:.4f}'.format(\n",
    "#     train_re / 50) + \"&\" + '{:.4f}'.format(train_fs / 50))\n",
    "# print(\"test:\" + '{:.4f}'.format(test_acc / 10) + \"&\" + '{:.4f}'.format(test_pr / 10) + \"&\" + '{:.4f}'.format(\n",
    "#     test_re / 10) + \"&\" + '{:.4f}'.format(test_fs / 10))"
   ]
  },
  {
   "cell_type": "code",
   "execution_count": 141,
   "metadata": {},
   "outputs": [
    {
     "name": "stdout",
     "output_type": "stream",
     "text": [
      "test acc: 0.8177740863787376\n",
      "test pr: 0.20850806905397895\n",
      "test re: 0.29666666666666675\n",
      "test fs: 0.2446291240994905\n",
      "test auc: 0.627261877306273\n"
     ]
    }
   ],
   "source": [
    "# print('training acc:', train_acc_proj / 50)\n",
    "# print('training pr:', train_pr_proj / 50)\n",
    "# print('training re:', train_re_proj / 50)\n",
    "# print('training fs:', train_fs_proj / 50)\n",
    "# print('training auc:', train_auc_proj / 50)\n",
    "# print(test_acc_proj)\n",
    "print('test acc:', test_acc_proj / inverse_pairs_proj_test.shape[0])\n",
    "# print(test_pr_proj)\n",
    "print('test pr:', test_pr_proj / inverse_pairs_proj_test.shape[0])\n",
    "# print(test_re_proj)\n",
    "print('test re:', test_re_proj / inverse_pairs_proj_test.shape[0])\n",
    "# print(test_fs_proj)\n",
    "\n",
    "print('test fs:', test_fs_proj / inverse_pairs_proj_test.shape[0])\n",
    "print('test auc:', test_auc_proj / inverse_pairs_proj_test.shape[0])"
   ]
  },
  {
   "cell_type": "code",
   "execution_count": 76,
   "metadata": {},
   "outputs": [
    {
     "data": {
      "text/plain": [
       "(100, 1204, 2)"
      ]
     },
     "execution_count": 76,
     "metadata": {},
     "output_type": "execute_result"
    }
   ],
   "source": [
    "inverse_pairs_proj.shape"
   ]
  }
 ],
 "metadata": {
  "kernelspec": {
   "display_name": "Python 3 (ipykernel)",
   "language": "python",
   "name": "python3"
  },
  "language_info": {
   "codemirror_mode": {
    "name": "ipython",
    "version": 3
   },
   "file_extension": ".py",
   "mimetype": "text/x-python",
   "name": "python",
   "nbconvert_exporter": "python",
   "pygments_lexer": "ipython3",
   "version": "3.11.0"
  }
 },
 "nbformat": 4,
 "nbformat_minor": 5
}
